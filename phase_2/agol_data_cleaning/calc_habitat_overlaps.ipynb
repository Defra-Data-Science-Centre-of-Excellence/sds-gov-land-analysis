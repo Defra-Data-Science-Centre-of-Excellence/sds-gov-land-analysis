{
 "cells": [
  {
   "cell_type": "markdown",
   "metadata": {
    "application/vnd.databricks.v1+cell": {
     "cellMetadata": {
      "byteLimit": 2048000,
      "rowLimit": 10000
     },
     "inputWidgets": {},
     "nuid": "d0d3f031-0d7a-4038-acde-a7015584077a",
     "showTitle": false,
     "tableResultSettingsMap": {},
     "title": ""
    }
   },
   "source": [
    "###Calculate the overlaps between each habitat and the exploded DGL polygons"
   ]
  },
  {
   "cell_type": "code",
   "execution_count": 0,
   "metadata": {
    "application/vnd.databricks.v1+cell": {
     "cellMetadata": {
      "byteLimit": 2048000,
      "rowLimit": 10000
     },
     "inputWidgets": {},
     "nuid": "fa315b2c-0296-451c-8872-5974427bbaee",
     "showTitle": false,
     "tableResultSettingsMap": {},
     "title": ""
    }
   },
   "outputs": [],
   "source": [
    "from pathlib import Path\n",
    "import geopandas as gpd\n",
    "from geopandas import read_file\n",
    "import pandas as pd"
   ]
  },
  {
   "cell_type": "code",
   "execution_count": 0,
   "metadata": {
    "application/vnd.databricks.v1+cell": {
     "cellMetadata": {
      "byteLimit": 2048000,
      "rowLimit": 10000
     },
     "inputWidgets": {},
     "nuid": "d318e914-f609-43c3-b740-449884d9d4ef",
     "showTitle": false,
     "tableResultSettingsMap": {},
     "title": ""
    }
   },
   "outputs": [],
   "source": [
    "from sedona.spark import *\n",
    "from sedona.sql import st_constructors as cn\n",
    "from pyspark.sql.functions import lit, expr, col, like, sum\n",
    "from sedona.sql import st_functions as fn\n",
    "\n",
    "sedona = SedonaContext.create(spark)\n",
    "sqlContext.clearCache()"
   ]
  },
  {
   "cell_type": "code",
   "execution_count": 0,
   "metadata": {
    "application/vnd.databricks.v1+cell": {
     "cellMetadata": {
      "byteLimit": 2048000,
      "rowLimit": 10000
     },
     "inputWidgets": {},
     "nuid": "f417f73c-f4f9-4536-b48c-47fa0d1b4c19",
     "showTitle": false,
     "tableResultSettingsMap": {},
     "title": ""
    }
   },
   "outputs": [],
   "source": [
    "dgl_exploded = sedona.read.format(\"geoparquet\").load('dbfs:/mnt/lab-res-a1001005/esd_project/Defra_Land/polygon_split_defra_by_organisation_tenure.parquet')\n",
    "\n",
    "dgl_exploded.createOrReplaceTempView(\"dgl\")"
   ]
  },
  {
   "cell_type": "code",
   "execution_count": 0,
   "metadata": {
    "application/vnd.databricks.v1+cell": {
     "cellMetadata": {
      "byteLimit": 2048000,
      "rowLimit": 10000
     },
     "inputWidgets": {},
     "nuid": "b4ae3402-a521-4fb9-b76b-1eeaf704afa7",
     "showTitle": false,
     "tableResultSettingsMap": {},
     "title": ""
    }
   },
   "outputs": [],
   "source": [
    "from pyspark.sql.functions import monotonically_increasing_id\n",
    "dgl_exploded = dgl_exploded.withColumn(\"id\", monotonically_increasing_id())\n",
    "dgl_exploded.createOrReplaceTempView(\"dgl\")"
   ]
  },
  {
   "cell_type": "code",
   "execution_count": 0,
   "metadata": {
    "application/vnd.databricks.v1+cell": {
     "cellMetadata": {
      "byteLimit": 2048000,
      "rowLimit": 10000
     },
     "inputWidgets": {},
     "nuid": "f3d895b1-ea91-47f8-8e76-743c071a8007",
     "showTitle": false,
     "tableResultSettingsMap": {},
     "title": ""
    }
   },
   "outputs": [],
   "source": [
    "dgl_exploded.display()"
   ]
  },
  {
   "cell_type": "code",
   "execution_count": 0,
   "metadata": {
    "application/vnd.databricks.v1+cell": {
     "cellMetadata": {
      "byteLimit": 2048000,
      "rowLimit": 10000
     },
     "inputWidgets": {},
     "nuid": "3476c875-9828-4cc7-8ffc-5047136ecae6",
     "showTitle": false,
     "tableResultSettingsMap": {},
     "title": ""
    }
   },
   "outputs": [],
   "source": [
    "dgl_exploded.count()"
   ]
  },
  {
   "cell_type": "code",
   "execution_count": 0,
   "metadata": {
    "application/vnd.databricks.v1+cell": {
     "cellMetadata": {
      "byteLimit": 2048000,
      "rowLimit": 10000
     },
     "inputWidgets": {},
     "nuid": "914ca807-0b4e-4267-87eb-e7e639bb1a7d",
     "showTitle": false,
     "tableResultSettingsMap": {},
     "title": ""
    }
   },
   "outputs": [],
   "source": [
    "hab_path = Path(\n",
    "    \"/dbfs/mnt/lab-res-a1001005/esd_project/Defra_Land/Final/DGL_vector\"\n",
    ")\n",
    "\n",
    "alt_hab_path = str(hab_path).replace(\"/dbfs\", \"dbfs:\")\n",
    "\n",
    "grid_path = Path(\n",
    "    \"/dbfs/mnt/lab-res-a1001005/esd_project/Defra_Land/Model_Grids\"\n",
    ")\n",
    "\n",
    "alt_grid_path = str(grid_path).replace(\"/dbfs\", \"dbfs:\")\n",
    "\n",
    "output_path = Path(\n",
    "    \"/dbfs/mnt/lab-res-a1001005/esd_project/Defra_Land/Final/Estate_Split_Attr\"\n",
    ")\n",
    "\n",
    "alt_output_path = str(output_path).replace(\"/dbfs\", \"dbfs:\")"
   ]
  },
  {
   "cell_type": "code",
   "execution_count": 0,
   "metadata": {
    "application/vnd.databricks.v1+cell": {
     "cellMetadata": {
      "byteLimit": 2048000,
      "rowLimit": 10000
     },
     "inputWidgets": {},
     "nuid": "d7d94ccd-fe32-4fff-8c57-50fede2d127c",
     "showTitle": false,
     "tableResultSettingsMap": {},
     "title": ""
    }
   },
   "outputs": [],
   "source": [
    "files = dbutils.fs.ls(alt_hab_path)\n",
    "parquet_files = [f.path for f in files if f.path.endswith(\".parquet\")]\n",
    "parquet_files = [path.rstrip(\"/\").split(\"/\")[-1] for path in parquet_files]"
   ]
  },
  {
   "cell_type": "code",
   "execution_count": 0,
   "metadata": {
    "application/vnd.databricks.v1+cell": {
     "cellMetadata": {
      "byteLimit": 2048000,
      "rowLimit": 10000
     },
     "inputWidgets": {},
     "nuid": "b1f79c37-fc8b-48b1-a7ab-8c4678c58af6",
     "showTitle": false,
     "tableResultSettingsMap": {},
     "title": ""
    }
   },
   "outputs": [],
   "source": [
    "parquet_files"
   ]
  },
  {
   "cell_type": "code",
   "execution_count": 0,
   "metadata": {
    "application/vnd.databricks.v1+cell": {
     "cellMetadata": {
      "byteLimit": 2048000,
      "rowLimit": 10000
     },
     "inputWidgets": {},
     "nuid": "a789bd3b-9fd8-46c4-ad30-d139c34b676c",
     "showTitle": false,
     "tableResultSettingsMap": {},
     "title": ""
    }
   },
   "outputs": [],
   "source": [
    "for hab in parquet_files:\n",
    "\n",
    "  print(hab)\n",
    "\n",
    "  hab_split = hab.replace('.parquet', '')\n",
    "\n",
    "  hab_data = sedona.read.format(\"parquet\").load(f\"{alt_hab_path}/{hab}\").withColumn(\"geometry\", expr(\"st_makevalid(st_setsrid(ST_GeomFromWKB(geometry),27700))\"))\n",
    "\n",
    "  hab_data.createOrReplaceTempView(\"hab_data\")\n",
    "\n",
    "  query = f\"\"\"\n",
    "    SELECT dgl.id, \n",
    "          dgl.current_organisation AS current_organisation, \n",
    "           dgl.land_management_organisation AS land_management_organisation, \n",
    "           dgl.tenure AS tenure, \n",
    "           dgl.area_m2 AS area_m2, \n",
    "           dgl.area_ha AS area_ha, \n",
    "           dgl.geometry AS geometry,\n",
    "           ST_Area(ST_Intersection(dgl.geometry, hab.geometry)) AS area_{hab_split}_m2\n",
    "    FROM dgl AS dgl\n",
    "    JOIN hab_data AS hab\n",
    "    ON ST_Intersects(dgl.geometry, hab.geometry)\n",
    "  \"\"\"\n",
    "\n",
    "  # Pass the constructed query string to spark.sql\n",
    "  spatial_join = spark.sql(query)\n",
    "\n",
    "  spatial_join.write.format(\"geoparquet\").mode(\"overwrite\").save(\n",
    "    f\"dbfs:/mnt/lab-res-a1001005/esd_project/Defra_Land/Final/Estate_Split_Attr/dgl_join_{hab_split}.parquet\")\n",
    "\n",
    "\n"
   ]
  },
  {
   "cell_type": "code",
   "execution_count": 0,
   "metadata": {
    "application/vnd.databricks.v1+cell": {
     "cellMetadata": {
      "byteLimit": 2048000,
      "rowLimit": 10000
     },
     "inputWidgets": {},
     "nuid": "1767e3da-e4b2-4e58-85c4-1ed46b46c9f0",
     "showTitle": false,
     "tableResultSettingsMap": {},
     "title": ""
    }
   },
   "outputs": [],
   "source": [
    "dgl_out = dgl_exploded"
   ]
  },
  {
   "cell_type": "code",
   "execution_count": 0,
   "metadata": {
    "application/vnd.databricks.v1+cell": {
     "cellMetadata": {
      "byteLimit": 2048000,
      "rowLimit": 10000
     },
     "inputWidgets": {},
     "nuid": "85a7e2c1-b178-42ce-a191-6cc566a74ce9",
     "showTitle": false,
     "tableResultSettingsMap": {},
     "title": ""
    }
   },
   "outputs": [],
   "source": [
    "from pyspark.sql.functions import sum as _sum, col, round as _round\n",
    "\n",
    "data_directory = 'dbfs:/mnt/lab-res-a1001005/esd_project/Defra_Land/Final/Estate_Split_Attr/'\n",
    "\n",
    "for hab in parquet_files:\n",
    "\n",
    "  hab_split = hab.replace('.parquet', '')\n",
    "\n",
    "  file_path = f\"{data_directory}/dgl_join_{hab_split}.parquet\"\n",
    "  hab_data = spark.read.parquet(file_path)\n",
    "    \n",
    "  area_column = f\"area_{hab_split}_m2\"\n",
    "    \n",
    "  result_df = (\n",
    "        hab_data.select(\"id\", area_column)  \n",
    "          .groupBy(\"id\")            \n",
    "          .agg(_sum(area_column).alias(f\"areaSum_{hab_split}_m2\"))  \n",
    "    )\n",
    "  \n",
    "  dgl_out = dgl_out.join(result_df, on='id', how='left')\n",
    "\n",
    "  percentage_column = f\"{hab_split}_perc\"\n",
    "\n",
    "  dgl_out = (\n",
    "        dgl_out.withColumn(percentage_column, \n",
    "            _round((col(f\"areaSum_{hab_split}_m2\") / col(\"area_m2\")) * 100, 1))\n",
    "    )\n",
    "\n",
    "  dgl_out = dgl_out.drop(f\"areaSum_{hab_split}_m2\")"
   ]
  },
  {
   "cell_type": "code",
   "execution_count": 0,
   "metadata": {
    "application/vnd.databricks.v1+cell": {
     "cellMetadata": {
      "byteLimit": 2048000,
      "rowLimit": 10000
     },
     "inputWidgets": {},
     "nuid": "43382112-54f3-4e64-a0fd-4c0555764c7b",
     "showTitle": false,
     "tableResultSettingsMap": {},
     "title": ""
    }
   },
   "outputs": [],
   "source": [
    "dgl_out.display()"
   ]
  },
  {
   "cell_type": "code",
   "execution_count": 0,
   "metadata": {
    "application/vnd.databricks.v1+cell": {
     "cellMetadata": {
      "byteLimit": 2048000,
      "rowLimit": 10000
     },
     "inputWidgets": {},
     "nuid": "98b74419-2146-498b-81d6-7ad6e9a853ab",
     "showTitle": false,
     "tableResultSettingsMap": {},
     "title": ""
    }
   },
   "outputs": [],
   "source": [
    "dgl_out.count()"
   ]
  },
  {
   "cell_type": "code",
   "execution_count": 0,
   "metadata": {
    "application/vnd.databricks.v1+cell": {
     "cellMetadata": {
      "byteLimit": 2048000,
      "rowLimit": 10000
     },
     "inputWidgets": {},
     "nuid": "c010a5e9-fbf3-441f-abb4-5c87b092496b",
     "showTitle": false,
     "tableResultSettingsMap": {},
     "title": ""
    }
   },
   "outputs": [],
   "source": [
    "dgl_out_pd = dgl_out.toPandas()"
   ]
  },
  {
   "cell_type": "code",
   "execution_count": 0,
   "metadata": {
    "application/vnd.databricks.v1+cell": {
     "cellMetadata": {
      "byteLimit": 2048000,
      "rowLimit": 10000
     },
     "inputWidgets": {},
     "nuid": "2b0419e1-c39d-4fd4-af07-ca6cde4ab83a",
     "showTitle": false,
     "tableResultSettingsMap": {},
     "title": ""
    }
   },
   "outputs": [],
   "source": [
    "dgl_out_pd = gpd.GeoDataFrame(dgl_out_pd, geometry='geometry')\n",
    "dgl_out_pd.crs = 'epsg:27700'"
   ]
  },
  {
   "cell_type": "code",
   "execution_count": 0,
   "metadata": {
    "application/vnd.databricks.v1+cell": {
     "cellMetadata": {
      "byteLimit": 2048000,
      "rowLimit": 10000
     },
     "inputWidgets": {},
     "nuid": "a6df01e5-6067-44c4-8cc4-8609f491265c",
     "showTitle": false,
     "tableResultSettingsMap": {},
     "title": ""
    }
   },
   "outputs": [],
   "source": [
    "dgl_out_pd.to_parquet(\"/dbfs/mnt/lab-res-a1001005/esd_project/Defra_Land/Final/Estate_Split_Attr/dgl_updated_hab_splited.parquet\")"
   ]
  },
  {
   "cell_type": "code",
   "execution_count": 0,
   "metadata": {
    "application/vnd.databricks.v1+cell": {
     "cellMetadata": {
      "byteLimit": 2048000,
      "rowLimit": 10000
     },
     "inputWidgets": {},
     "nuid": "436693fa-e28e-48d3-8e96-a00e0bff5f2f",
     "showTitle": false,
     "tableResultSettingsMap": {},
     "title": ""
    }
   },
   "outputs": [],
   "source": [
    "def download_link(filepath):\n",
    "    # NB filepath must be in the format dbfs:/ not /dbfs/\n",
    "    # Get filename\n",
    "    filename = filepath[filepath.rfind(\"/\") :]\n",
    "    # Move file to FileStore\n",
    "    dbutils.fs.cp(filepath, f\"dbfs:/FileStore/{filename}\")\n",
    "    # Construct download url\n",
    "    url = f\"https://{spark.conf.get('spark.databricks.workspaceUrl')}/files/{filename}?o={spark.conf.get('spark.databricks.clusterUsageTags.orgId')}\"\n",
    "    # Return html snippet\n",
    "    return f\"<a href={url} target='_blank'>Download file: {filename}</a>\""
   ]
  },
  {
   "cell_type": "code",
   "execution_count": 0,
   "metadata": {
    "application/vnd.databricks.v1+cell": {
     "cellMetadata": {
      "byteLimit": 2048000,
      "rowLimit": 10000
     },
     "inputWidgets": {},
     "nuid": "718658b0-025d-4657-b1ba-38f37d3a1786",
     "showTitle": false,
     "tableResultSettingsMap": {},
     "title": ""
    }
   },
   "outputs": [],
   "source": [
    "displayHTML(download_link('dbfs:/mnt/lab-res-a1001005/esd_project/Defra_Land/Final/Estate_Split_Attr/dgl_updated_hab_splited.parquet'))"
   ]
  },
  {
   "cell_type": "code",
   "execution_count": 0,
   "metadata": {
    "application/vnd.databricks.v1+cell": {
     "cellMetadata": {},
     "inputWidgets": {},
     "nuid": "6ddce5f2-fe65-4d83-ac21-d78c7f4191f4",
     "showTitle": false,
     "tableResultSettingsMap": {},
     "title": ""
    }
   },
   "outputs": [],
   "source": []
  }
 ],
 "metadata": {
  "application/vnd.databricks.v1+notebook": {
   "computePreferences": null,
   "dashboards": [],
   "environmentMetadata": {
    "base_environment": "",
    "environment_version": "2"
   },
   "inputWidgetPreferences": null,
   "language": "python",
   "notebookMetadata": {
    "pythonIndentUnit": 2
   },
   "notebookName": "calc_habitat_overlaps",
   "widgets": {}
  },
  "language_info": {
   "name": "python"
  }
 },
 "nbformat": 4,
 "nbformat_minor": 0
}
