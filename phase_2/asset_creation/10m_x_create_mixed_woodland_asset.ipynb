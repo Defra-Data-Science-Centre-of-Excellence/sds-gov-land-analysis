{
 "cells": [
  {
   "cell_type": "markdown",
   "metadata": {
    "application/vnd.databricks.v1+cell": {
     "cellMetadata": {},
     "inputWidgets": {},
     "nuid": "2a7a1183-4b5d-4a07-9273-514e6eac3e33",
     "showTitle": false,
     "tableResultSettingsMap": {},
     "title": ""
    }
   },
   "source": [
    "\n",
    "# Create a mixed woodland data model asset by combining dense and sparse woodland assets\n",
    "\n",
    "Miles Clement (miles.clement@defra.gov.uk)\n",
    "\n",
    "Last Updated 17/03/25"
   ]
  },
  {
   "cell_type": "markdown",
   "metadata": {
    "application/vnd.databricks.v1+cell": {
     "cellMetadata": {},
     "inputWidgets": {},
     "nuid": "27fdd634-a084-404d-b54c-f8da1717ce02",
     "showTitle": false,
     "tableResultSettingsMap": {},
     "title": ""
    }
   },
   "source": [
    "## Setup\n",
    "####Packages"
   ]
  },
  {
   "cell_type": "code",
   "execution_count": 0,
   "metadata": {
    "application/vnd.databricks.v1+cell": {
     "cellMetadata": {
      "byteLimit": 2048000,
      "rowLimit": 10000
     },
     "inputWidgets": {},
     "nuid": "741a2f0a-f556-49f3-b4c1-9921805a374e",
     "showTitle": false,
     "tableResultSettingsMap": {},
     "title": ""
    }
   },
   "outputs": [],
   "source": [
    "import pandas as pd\n",
    "import os\n",
    "from pathlib import Path\n",
    "from functools import reduce"
   ]
  },
  {
   "cell_type": "code",
   "execution_count": 0,
   "metadata": {
    "application/vnd.databricks.v1+cell": {
     "cellMetadata": {
      "byteLimit": 2048000,
      "rowLimit": 10000
     },
     "inputWidgets": {},
     "nuid": "0365b405-0b49-4867-a645-01e913bf51fa",
     "showTitle": false,
     "tableResultSettingsMap": {},
     "title": ""
    }
   },
   "outputs": [],
   "source": [
    "from sedona.spark import *\n",
    "from pyspark.sql.functions import expr, when, col, lit, sum\n",
    "from pyspark.sql import functions as F\n",
    "\n",
    "sedona = SedonaContext.create(spark)\n",
    "sqlContext.clearCache()\n",
    "\n",
    "username = (\n",
    "    dbutils.notebook.entry_point.getDbutils().notebook().getContext().userName().get()\n",
    ")"
   ]
  },
  {
   "cell_type": "markdown",
   "metadata": {
    "application/vnd.databricks.v1+cell": {
     "cellMetadata": {},
     "inputWidgets": {},
     "nuid": "c18fa231-66b8-4e6b-b688-24482e39572c",
     "showTitle": false,
     "tableResultSettingsMap": {},
     "title": ""
    }
   },
   "source": [
    "####Point to directory containing asset tavbles"
   ]
  },
  {
   "cell_type": "code",
   "execution_count": 0,
   "metadata": {
    "application/vnd.databricks.v1+cell": {
     "cellMetadata": {
      "byteLimit": 2048000,
      "rowLimit": 10000
     },
     "inputWidgets": {},
     "nuid": "5dc4b349-3ecd-4007-b77b-8c5af3c6c3aa",
     "showTitle": false,
     "tableResultSettingsMap": {},
     "title": ""
    }
   },
   "outputs": [],
   "source": [
    "table_dir = Path('/dbfs/mnt/lab-res-a1001005/esd_project/Defra_Land/Final/Asset_Tables')\n",
    "alt_table_dir = str(table_dir).replace(\"/dbfs\", \"dbfs:\")"
   ]
  },
  {
   "cell_type": "code",
   "execution_count": 0,
   "metadata": {
    "application/vnd.databricks.v1+cell": {
     "cellMetadata": {
      "byteLimit": 2048000,
      "rowLimit": 10000
     },
     "inputWidgets": {},
     "nuid": "77abd688-9293-4af9-8101-64c66e9704ee",
     "showTitle": false,
     "tableResultSettingsMap": {},
     "title": ""
    }
   },
   "outputs": [],
   "source": [
    "# Load in dense & sparse data\n",
    "dense = sedona.read.format(\"parquet\").load(f\"{alt_table_dir}/10m_x_assets_combined_dense_woodland.parquet\")\n",
    "sparse = sedona.read.format(\"parquet\").load(f\"{alt_table_dir}/10m_x_assets_combined_sparse_woodland.parquet\")\n",
    "\n",
    "# Drop columns from sparse df to avoid duplicate columns\n",
    "sparse = sparse.drop('geometry', 'dgl_fh', 'dgl_lh')\n",
    "\n",
    "# Join dataframes\n",
    "mixed = dense.join(sparse, on=\"id\", how=\"left\")"
   ]
  },
  {
   "cell_type": "code",
   "execution_count": 0,
   "metadata": {
    "application/vnd.databricks.v1+cell": {
     "cellMetadata": {
      "byteLimit": 2048000,
      "rowLimit": 10000
     },
     "inputWidgets": {},
     "nuid": "29615dd3-3366-4ece-909b-fcf9493fd4b7",
     "showTitle": false,
     "tableResultSettingsMap": {},
     "title": ""
    }
   },
   "outputs": [],
   "source": [
    "mixed.write.format(\"parquet\").mode(\"overwrite\").save(\n",
    "    f\"{alt_table_dir}/10m_x_assets_combined_mixed_woodland.parquet\"\n",
    ")"
   ]
  }
 ],
 "metadata": {
  "application/vnd.databricks.v1+notebook": {
   "computePreferences": null,
   "dashboards": [],
   "environmentMetadata": {
    "base_environment": "",
    "environment_version": "2"
   },
   "language": "python",
   "notebookMetadata": {
    "pythonIndentUnit": 2
   },
   "notebookName": "10m_x_create_mixed_woodland_asset",
   "widgets": {}
  },
  "language_info": {
   "name": "python"
  }
 },
 "nbformat": 4,
 "nbformat_minor": 0
}
