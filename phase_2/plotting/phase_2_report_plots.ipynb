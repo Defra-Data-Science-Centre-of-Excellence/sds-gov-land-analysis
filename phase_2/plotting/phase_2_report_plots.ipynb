{
 "cells": [
  {
   "cell_type": "markdown",
   "metadata": {
    "application/vnd.databricks.v1+cell": {
     "cellMetadata": {
      "byteLimit": 2048000,
      "rowLimit": 10000
     },
     "inputWidgets": {},
     "nuid": "871bc871-4401-4609-a118-94c6ae499532",
     "showTitle": false,
     "tableResultSettingsMap": {},
     "title": ""
    }
   },
   "source": [
    "##Notebook for producing plots for showing habitat occurance on Defra Group Land\n",
    "\n",
    "Miles Clement, Mar 2025\n",
    "\n",
    "Script produces three plots for the DGL Habitat Extents report\n",
    "\n",
    "- Figure 2 - Area of habitats found on DEFRA land. Stacked bar chart with tenure splits.\n",
    "- Figure 3 - Areas of habitats found on DEFRA land, split by tenure. Logarithmic y-axis. Bar chart.\n",
    "- Figure 5 - Habitat breakdown for the three largest landowners within the DEFRA group, shown as a percentage of the total land owned by each organisation. Bar chart.\n",
    "\n",
    "**Habitat Notes**\n",
    "- Saltmarsh is a subset of Coastal Margins, and included in the extent of the latter (beware of double counting)\n",
    "- Upland Bog is a subset of Moorland & Heath, and included in the extent of the latter (beware of double counting)\n",
    "- Dense and Sparse Woodland will also be reported as combined/mixed woodland\n"
   ]
  },
  {
   "cell_type": "markdown",
   "metadata": {
    "application/vnd.databricks.v1+cell": {
     "cellMetadata": {
      "byteLimit": 2048000,
      "rowLimit": 10000
     },
     "inputWidgets": {},
     "nuid": "2f58f80f-3785-4a2b-943e-ee69ed179910",
     "showTitle": false,
     "tableResultSettingsMap": {},
     "title": ""
    }
   },
   "source": [
    "---------\n",
    "###SETUP\n",
    "####Load Packages"
   ]
  },
  {
   "cell_type": "code",
   "execution_count": 0,
   "metadata": {
    "application/vnd.databricks.v1+cell": {
     "cellMetadata": {
      "byteLimit": 2048000,
      "rowLimit": 10000
     },
     "inputWidgets": {},
     "nuid": "5e0ec5d7-ba47-4a7f-bceb-5fdfc858cc45",
     "showTitle": false,
     "tableResultSettingsMap": {},
     "title": ""
    }
   },
   "outputs": [],
   "source": [
    "import numpy as np\n",
    "import pandas as pd\n",
    "from pathlib import Path\n",
    "\n",
    "import matplotlib.pyplot as plt\n",
    "import matplotlib.patches as patches\n",
    "import matplotlib.ticker as mtick\n"
   ]
  },
  {
   "cell_type": "code",
   "execution_count": 0,
   "metadata": {
    "application/vnd.databricks.v1+cell": {
     "cellMetadata": {
      "byteLimit": 2048000,
      "rowLimit": 10000
     },
     "inputWidgets": {},
     "nuid": "a761e215-6027-4e1c-a8d4-cf4ff882b6ae",
     "showTitle": false,
     "tableResultSettingsMap": {},
     "title": ""
    }
   },
   "outputs": [],
   "source": [
    "from matplotlib.font_manager import FontEntry, fontManager\n",
    "from matplotlib.pyplot import rcParams\n",
    "\n",
    "font_entry = FontEntry(\n",
    "    fname=\"/dbfs/mnt/lab/unrestricted/james.kenyon@defra.gov.uk/font/Arial.ttf\",\n",
    "    name=\"Arial\",\n",
    "    size=\"scalable\",\n",
    ")\n",
    "fontManager.ttflist.insert(0, font_entry)\n",
    "rcParams[\"font.sans-serif\"] = [\"Arial\"]"
   ]
  },
  {
   "cell_type": "markdown",
   "metadata": {
    "application/vnd.databricks.v1+cell": {
     "cellMetadata": {
      "byteLimit": 2048000,
      "rowLimit": 10000
     },
     "inputWidgets": {},
     "nuid": "78fbdd7d-18ed-4587-aaf8-f359032cf023",
     "showTitle": false,
     "tableResultSettingsMap": {},
     "title": ""
    }
   },
   "source": [
    "#### Load in Core Datasets"
   ]
  },
  {
   "cell_type": "code",
   "execution_count": 0,
   "metadata": {
    "application/vnd.databricks.v1+cell": {
     "cellMetadata": {
      "byteLimit": 2048000,
      "rowLimit": 10000
     },
     "inputWidgets": {},
     "nuid": "adecb699-d33e-4848-99a4-54fdf2a0731b",
     "showTitle": false,
     "tableResultSettingsMap": {},
     "title": ""
    }
   },
   "outputs": [],
   "source": [
    "data_in_dir = Path('/dbfs/mnt/lab-res-a1001005/esd_project/Defra_Land/Final/Stats')"
   ]
  },
  {
   "cell_type": "code",
   "execution_count": 0,
   "metadata": {
    "application/vnd.databricks.v1+cell": {
     "cellMetadata": {
      "byteLimit": 2048000,
      "rowLimit": 10000
     },
     "inputWidgets": {},
     "nuid": "6a4f5c7a-d0ff-479b-86c5-3446baefcb8b",
     "showTitle": false,
     "tableResultSettingsMap": {},
     "title": ""
    }
   },
   "outputs": [],
   "source": [
    "summary_tenure_df = pd.read_csv(f'{data_in_dir}/dgl_summary_tenure.csv')\n",
    "\n",
    "summary_org_df = pd.read_csv(f'{data_in_dir}/dgl_summary_organisation.csv')"
   ]
  },
  {
   "cell_type": "code",
   "execution_count": 0,
   "metadata": {
    "application/vnd.databricks.v1+cell": {
     "cellMetadata": {
      "byteLimit": 2048000,
      "rowLimit": 10000
     },
     "inputWidgets": {},
     "nuid": "60fa0a95-b929-4c96-9aa9-7fa6aec1d8bf",
     "showTitle": false,
     "tableResultSettingsMap": {},
     "title": ""
    }
   },
   "outputs": [],
   "source": [
    "summary_tenure_df"
   ]
  },
  {
   "cell_type": "code",
   "execution_count": 0,
   "metadata": {
    "application/vnd.databricks.v1+cell": {
     "cellMetadata": {
      "byteLimit": 2048000,
      "rowLimit": 10000
     },
     "inputWidgets": {},
     "nuid": "70e4e56e-7fbc-4182-893d-9f75b6ec3153",
     "showTitle": false,
     "tableResultSettingsMap": {},
     "title": ""
    }
   },
   "outputs": [],
   "source": [
    "summary_org_df"
   ]
  },
  {
   "cell_type": "markdown",
   "metadata": {
    "application/vnd.databricks.v1+cell": {
     "cellMetadata": {
      "byteLimit": 2048000,
      "rowLimit": 10000
     },
     "inputWidgets": {},
     "nuid": "d259ce11-3c65-4757-a3d1-5bcf3a8a01c4",
     "showTitle": false,
     "tableResultSettingsMap": {},
     "title": ""
    }
   },
   "source": [
    "-----\n",
    "###FIGURE 2\n",
    "Area of habitats found on DEFRA land. Stacked bar chart with tenure splits."
   ]
  },
  {
   "cell_type": "markdown",
   "metadata": {
    "application/vnd.databricks.v1+cell": {
     "cellMetadata": {
      "byteLimit": 2048000,
      "rowLimit": 10000
     },
     "inputWidgets": {},
     "nuid": "629b9c61-1660-4464-9268-18cb16a4e389",
     "showTitle": false,
     "tableResultSettingsMap": {},
     "title": ""
    }
   },
   "source": [
    "####Data Prep for Figures 2 & 3\n",
    "- Remove subset habitats \n",
    "- Rename habitats in tenure dataset "
   ]
  },
  {
   "cell_type": "code",
   "execution_count": 0,
   "metadata": {
    "application/vnd.databricks.v1+cell": {
     "cellMetadata": {
      "byteLimit": 2048000,
      "rowLimit": 10000
     },
     "inputWidgets": {},
     "nuid": "4717d869-17df-4ae7-9928-801c8a3269f8",
     "showTitle": false,
     "tableResultSettingsMap": {},
     "title": ""
    }
   },
   "outputs": [],
   "source": [
    "# Define the list of subset habitats to exclude\n",
    "subset_habs = [\"dense_woodland\", \"sparse_woodland\", \"saltmarsh\", \"upland_bog\"]\n",
    "\n",
    "# Filter out rows with any of the excluded habitats\n",
    "fig_2a3_df = summary_tenure_df[~summary_tenure_df[\"habitat\"].isin(subset_habs)]\n",
    "\n",
    "# Tidy up columns and rename habitats for plot\n",
    "fig_2a3_df = fig_2a3_df[['habitat', 'freehold_ha', 'leasehold_ha', 'mixed_tenure_ha']].rename(\n",
    "    columns={\n",
    "        'habitat': 'Habitat',\n",
    "        'freehold_ha': 'Freehold Area (ha)',\n",
    "        'leasehold_ha': 'Leasehold Area (ha)',\n",
    "        'mixed_tenure_ha': 'Mixed Tenure Areas (ha)'\n",
    "    }\n",
    ")\n",
    "\n",
    "\n",
    "habitat_rename_mapping = {\n",
    "    'mixed_woodland': 'Woodland',\n",
    "    'moorland': 'Mountain, Moorland & Heath',\n",
    "    'grassland': 'Semi-Natural Grassland',\n",
    "    'coastal': 'Marine & Coastal Margins',\n",
    "    'arable': 'Enclosed Farmland',\n",
    "    'water': 'Freshwater & Wetlands',\n",
    "    'urban': 'Urban'\n",
    "}\n",
    "\n",
    "fig_2a3_df['Habitat'] = fig_2a3_df['Habitat'].replace(habitat_rename_mapping)"
   ]
  },
  {
   "cell_type": "code",
   "execution_count": 0,
   "metadata": {
    "application/vnd.databricks.v1+cell": {
     "cellMetadata": {
      "byteLimit": 2048000,
      "rowLimit": 10000
     },
     "inputWidgets": {},
     "nuid": "11fb0ded-9b15-476c-a43d-29cd17dd7ab7",
     "showTitle": false,
     "tableResultSettingsMap": {},
     "title": ""
    }
   },
   "outputs": [],
   "source": [
    "fig_2a3_df"
   ]
  },
  {
   "cell_type": "code",
   "execution_count": 0,
   "metadata": {
    "application/vnd.databricks.v1+cell": {
     "cellMetadata": {
      "byteLimit": 2048000,
      "rowLimit": 10000
     },
     "inputWidgets": {},
     "nuid": "fb4c160c-d64b-470c-9ccf-eddbe41023e0",
     "showTitle": false,
     "tableResultSettingsMap": {},
     "title": ""
    }
   },
   "outputs": [],
   "source": [
    "x = np.arange(len(fig_2a3_df[\"Habitat\"]))\n",
    "width = 0.7"
   ]
  },
  {
   "cell_type": "code",
   "execution_count": 0,
   "metadata": {
    "application/vnd.databricks.v1+cell": {
     "cellMetadata": {
      "byteLimit": 2048000,
      "rowLimit": 10000
     },
     "inputWidgets": {},
     "nuid": "9acc33a0-a6ef-438c-9438-6a0d6358c2d5",
     "showTitle": false,
     "tableResultSettingsMap": {},
     "title": ""
    }
   },
   "outputs": [],
   "source": [
    "colors = {\n",
    "    \"Woodland\": '#28A197',\n",
    "    \"Mountain, Moorland & Heath\": '#A285D1',\n",
    "    \"Semi-Natural Grassland\": '#F46A25',\n",
    "    \"Marine & Coastal Margins\": '#12436D',\n",
    "    \"Enclosed Farmland\": '#801650',\n",
    "    \"Freshwater & Wetlands\": '#2073BC',\n",
    "    \"Urban\": '#3D3D3D'\n",
    "}\n",
    "\n",
    "tenure_colours = [colors[habitat] for habitat in fig_2a3_df[\"Habitat\"]]"
   ]
  },
  {
   "cell_type": "code",
   "execution_count": 0,
   "metadata": {
    "application/vnd.databricks.v1+cell": {
     "cellMetadata": {
      "byteLimit": 2048000,
      "rowLimit": 10000
     },
     "inputWidgets": {},
     "nuid": "398119da-4eeb-462e-9ea9-04b6cf43d161",
     "showTitle": false,
     "tableResultSettingsMap": {},
     "title": ""
    }
   },
   "outputs": [],
   "source": [
    "# Stacked bar chart\n",
    "fig, ax = plt.subplots(figsize=(13, 9))\n",
    "\n",
    "# Bottom level (freehold), filled bars\n",
    "bar1 = ax.bar(\n",
    "    x, \n",
    "    fig_2a3_df[\"Freehold Area (ha)\"], \n",
    "    width, \n",
    "    label=\"Freehold\", \n",
    "    color=tenure_colours, \n",
    "    edgecolor=tenure_colours,\n",
    "    zorder=3  \n",
    ")\n",
    "# Level 2 (leasehold), pattern fill bars\n",
    "bar2 = ax.bar(\n",
    "    x,\n",
    "    fig_2a3_df[\"Leasehold Area (ha)\"],\n",
    "    width,\n",
    "    bottom=fig_2a3_df[\"Freehold Area (ha)\"],\n",
    "    label=\"Leasehold\",\n",
    "    color=\"white\",\n",
    "    edgecolor=tenure_colours,  \n",
    "    hatch=\"..\",\n",
    "    zorder=3  \n",
    ")\n",
    "# Level 3 (mixed), transparent bars\n",
    "bar3 = ax.bar(\n",
    "    x,\n",
    "    fig_2a3_df[\"Mixed Tenure Areas (ha)\"],\n",
    "    width,\n",
    "    bottom=fig_2a3_df[\"Freehold Area (ha)\"] + fig_2a3_df[\"Leasehold Area (ha)\"],\n",
    "    label=\"Mixed Tenure\",\n",
    "    color=\"none\",  \n",
    "    edgecolor=tenure_colours,  \n",
    "    zorder=3  \n",
    ")\n",
    "\n",
    "# Split longer labels over multi lines\n",
    "split_labels = [\n",
    "    \"Woodland\",\n",
    "    \"Mountain,\\nMoorland\\n& Heath\",\n",
    "    \"Semi-Natural\\nGrassland\",\n",
    "    \"Marine &\\nCoastal\\nMargins\",\n",
    "    \"Enclosed\\nFarmland\",\n",
    "    \"Freshwater &\\nWetlands\",\n",
    "    \"Urban\"\n",
    "]\n",
    "\n",
    "#y-axis\n",
    "ax.set_ylabel(\"Area (ha)\", fontsize=18)\n",
    "ax.tick_params(axis='y', labelsize=15)\n",
    "#x-axis\n",
    "ax.set_xticks(x)\n",
    "ax.set_xticklabels(split_labels, fontsize=18)\n",
    "# Grid lines\n",
    "ax.yaxis.set_major_locator(plt.MultipleLocator(50000))\n",
    "ax.yaxis.set_major_formatter(mtick.FuncFormatter(lambda x, _: f\"{x:,.0f}\"))  \n",
    "ax.grid(axis='y', linestyle='--', alpha=0.7, zorder=0)  \n",
    "\n",
    "# Show the plot\n",
    "plt.tight_layout()\n",
    "plt.show()"
   ]
  },
  {
   "cell_type": "markdown",
   "metadata": {
    "application/vnd.databricks.v1+cell": {
     "cellMetadata": {
      "byteLimit": 2048000,
      "rowLimit": 10000
     },
     "inputWidgets": {},
     "nuid": "b2ccfd2a-bdf1-4439-a774-a48daf38830e",
     "showTitle": false,
     "tableResultSettingsMap": {},
     "title": ""
    }
   },
   "source": [
    "-----\n",
    "###FIGURE 3\n",
    "Areas of habitats found on DEFRA land, split by tenure. Logarithmic y-axis. Bar chart."
   ]
  },
  {
   "cell_type": "code",
   "execution_count": 0,
   "metadata": {
    "application/vnd.databricks.v1+cell": {
     "cellMetadata": {
      "byteLimit": 2048000,
      "rowLimit": 10000
     },
     "inputWidgets": {},
     "nuid": "9399b5ae-6281-4841-9c81-b8d98ddbaf9a",
     "showTitle": false,
     "tableResultSettingsMap": {},
     "title": ""
    }
   },
   "outputs": [],
   "source": [
    "width = 0.25 "
   ]
  },
  {
   "cell_type": "code",
   "execution_count": 0,
   "metadata": {
    "application/vnd.databricks.v1+cell": {
     "cellMetadata": {
      "byteLimit": 2048000,
      "rowLimit": 10000
     },
     "inputWidgets": {},
     "nuid": "67b2fc12-e569-4e4a-8937-b9488e10ada6",
     "showTitle": false,
     "tableResultSettingsMap": {},
     "title": ""
    }
   },
   "outputs": [],
   "source": [
    "# Grouped bar chart\n",
    "fig, ax = plt.subplots(figsize=(13, 9))\n",
    "\n",
    "# First group - Freehold\n",
    "bar1 = ax.bar(\n",
    "    x - width, \n",
    "    fig_2a3_df[\"Freehold Area (ha)\"], \n",
    "    width, \n",
    "    label=\"Freehold\", \n",
    "    color=\"#28A197\", \n",
    "    zorder=3\n",
    ")\n",
    "# Second group - Leasehold\n",
    "bar2 = ax.bar(\n",
    "    x, \n",
    "    fig_2a3_df[\"Leasehold Area (ha)\"], \n",
    "    width, \n",
    "    label=\"Leasehold\", \n",
    "    color=\"#F46A25\", \n",
    "    zorder=3\n",
    ")\n",
    "# Third group - Mixed\n",
    "bar3 = ax.bar(\n",
    "    x + width, \n",
    "    fig_2a3_df[\"Mixed Tenure Areas (ha)\"], \n",
    "    width, \n",
    "    label=\"Mixed Tenure\", \n",
    "    color=\"#801650\", \n",
    "    zorder=3\n",
    ")\n",
    "\n",
    "# Split longer labels over multi lines\n",
    "split_labels = [\n",
    "    \"Woodland\",\n",
    "    \"Mountain,\\nMoorland\\n& Heath\",\n",
    "    \"Semi-Natural\\nGrassland\",\n",
    "    \"Marine &\\nCoastal\\nMargins\",\n",
    "    \"Enclosed\\nFarmland\",\n",
    "    \"Freshwater &\\nWetlands\",\n",
    "    \"Urban\"\n",
    "]\n",
    "\n",
    "# y-axis\n",
    "ax.set_yscale(\"log\")  # Logarithmic scale for y-axis\n",
    "ax.set_ylabel(\"Area (ha, Logarithmic)\", fontsize=18)\n",
    "ax.tick_params(axis='y', labelsize=15)\n",
    "# x-axis\n",
    "ax.set_xticks(x)\n",
    "ax.set_xticklabels(split_labels, fontsize=18)\n",
    "# Grid lines\n",
    "ax.yaxis.set_major_formatter(plt.FuncFormatter(lambda y, _: f'{int(y):,}'))  # Format tick labels with commas\n",
    "ax.set_yticks([10, 100, 1000, 10000, 100000, 200000])  # Custom tick marks\n",
    "ax.grid(axis='y', linestyle='--', alpha=0.7, zorder=0)  # Grid lines\n",
    "\n",
    "# Legend\n",
    "ax.legend(fontsize=18)\n",
    "\n",
    "# Show the plot\n",
    "plt.tight_layout()\n",
    "plt.show()\n"
   ]
  },
  {
   "cell_type": "markdown",
   "metadata": {
    "application/vnd.databricks.v1+cell": {
     "cellMetadata": {
      "byteLimit": 2048000,
      "rowLimit": 10000
     },
     "inputWidgets": {},
     "nuid": "dfb7abda-6436-4b5d-8598-7c6dbfa4cd0d",
     "showTitle": false,
     "tableResultSettingsMap": {},
     "title": ""
    }
   },
   "source": [
    "-----\n",
    "###FIGURE 5\n",
    "Habitat breakdown for the three largest landowners within the DEFRA group, shown as a percentage of the total land owned by each organisation. Bar chart."
   ]
  },
  {
   "cell_type": "markdown",
   "metadata": {
    "application/vnd.databricks.v1+cell": {
     "cellMetadata": {
      "byteLimit": 2048000,
      "rowLimit": 10000
     },
     "inputWidgets": {},
     "nuid": "79f856c4-2742-49f2-8752-7affe485946a",
     "showTitle": false,
     "tableResultSettingsMap": {},
     "title": ""
    }
   },
   "source": [
    "####Data Prep for Figure 5\n",
    "- Rename \"Department for Environment, Food and Rural Affairs (Forestry Commission or Forestry England)\" to \"DEFRA (FC/FE)\"\n",
    "- Calculate organisational totals"
   ]
  },
  {
   "cell_type": "code",
   "execution_count": 0,
   "metadata": {
    "application/vnd.databricks.v1+cell": {
     "cellMetadata": {
      "byteLimit": 2048000,
      "rowLimit": 10000
     },
     "inputWidgets": {},
     "nuid": "358722da-a8fa-4d24-b614-b4d653d9fdc6",
     "showTitle": false,
     "tableResultSettingsMap": {},
     "title": ""
    }
   },
   "outputs": [],
   "source": [
    "summary_org_df[\"organisation\"] = summary_org_df[\"organisation\"].replace(\n",
    "    \"Department for Environment, Food and Rural Affairs (Forestry Commission or Forestry England)\", \"DEFRA (FC/FE)\"\n",
    ")"
   ]
  },
  {
   "cell_type": "code",
   "execution_count": 0,
   "metadata": {
    "application/vnd.databricks.v1+cell": {
     "cellMetadata": {
      "byteLimit": 2048000,
      "rowLimit": 10000
     },
     "inputWidgets": {},
     "nuid": "112e82c3-5717-4272-b577-2e2b5c7b65a7",
     "showTitle": false,
     "tableResultSettingsMap": {},
     "title": ""
    }
   },
   "outputs": [],
   "source": [
    "# Remove subset habitat for calculating totals\n",
    "fig_5_filtered_df = summary_org_df[~summary_org_df[\"habitat\"].isin(subset_habs)]\n",
    "\n",
    "# Calc totals\n",
    "fig_5_filtered_df = fig_5_filtered_df.groupby(\"organisation\", as_index=False).agg(\n",
    "    {\n",
    "        \"freehold_ha\": \"sum\",\n",
    "        \"leasehold_ha\": \"sum\",\n",
    "        \"mixed_tenure_ha\": \"sum\",\n",
    "    }\n",
    ")\n",
    "\n",
    "fig_5_filtered_df[\"total_ha\"] = fig_5_filtered_df[\"freehold_ha\"] + fig_5_filtered_df[\"leasehold_ha\"] + fig_5_filtered_df[\"mixed_tenure_ha\"]\n",
    "\n",
    "# Reorder\n",
    "summary_df = fig_5_filtered_df.sort_values(by=\"total_ha\", ascending=False)\n",
    "\n",
    "summary_df = summary_df.reset_index(drop=True)\n",
    "\n",
    "summary_df"
   ]
  },
  {
   "cell_type": "code",
   "execution_count": 0,
   "metadata": {
    "application/vnd.databricks.v1+cell": {
     "cellMetadata": {
      "byteLimit": 2048000,
      "rowLimit": 10000
     },
     "inputWidgets": {},
     "nuid": "07d2e881-a093-47bf-be22-1fdcf46b3fd0",
     "showTitle": false,
     "tableResultSettingsMap": {},
     "title": ""
    }
   },
   "outputs": [],
   "source": [
    "# Extract top 3 orgs for plotting\n",
    "top_3_organisations = summary_df.head(3)[\"organisation\"].tolist()"
   ]
  },
  {
   "cell_type": "code",
   "execution_count": 0,
   "metadata": {
    "application/vnd.databricks.v1+cell": {
     "cellMetadata": {
      "byteLimit": 2048000,
      "rowLimit": 10000
     },
     "inputWidgets": {},
     "nuid": "9bd5e2cc-f304-4878-b8eb-ca3fc45c099b",
     "showTitle": false,
     "tableResultSettingsMap": {},
     "title": ""
    }
   },
   "outputs": [],
   "source": [
    "# Filter org dataset for top 3 organisations\n",
    "fig_5_top3_df = summary_org_df[summary_org_df[\"organisation\"].isin(top_3_organisations)]\n",
    "\n",
    "# Group by organisation and habitat, then sum the relevant columns\n",
    "fig_5_top3_df = fig_5_top3_df.groupby([\"organisation\", \"habitat\"], as_index=False).agg(\n",
    "    {\n",
    "        \"freehold_ha\": \"sum\",\n",
    "        \"leasehold_ha\": \"sum\",\n",
    "        \"mixed_tenure_ha\": \"sum\",\n",
    "    }\n",
    ")\n",
    "\n",
    "fig_5_top3_df[\"total_ha\"] = (\n",
    "    fig_5_top3_df[\"freehold_ha\"]\n",
    "    + fig_5_top3_df[\"leasehold_ha\"]\n",
    "    + fig_5_top3_df[\"mixed_tenure_ha\"]\n",
    ")"
   ]
  },
  {
   "cell_type": "code",
   "execution_count": 0,
   "metadata": {
    "application/vnd.databricks.v1+cell": {
     "cellMetadata": {
      "byteLimit": 2048000,
      "rowLimit": 10000
     },
     "inputWidgets": {},
     "nuid": "f24b042b-0414-4480-8ff4-27b8c6b7c27c",
     "showTitle": false,
     "tableResultSettingsMap": {},
     "title": ""
    }
   },
   "outputs": [],
   "source": [
    "# Merge fig_5_top3_df with fig_5_filtered_df to get the total_ha for each organisation\n",
    "fig_5_top3_df = fig_5_top3_df.merge(fig_5_filtered_df[[\"organisation\", \"total_ha\"]], on=\"organisation\", suffixes=(\"\", \"_org_total\"))\n",
    "\n",
    "# Calculate the percentage of total_ha for each habitat\n",
    "fig_5_top3_df[\"percentage_of_total\"] = (fig_5_top3_df[\"total_ha\"] / fig_5_top3_df[\"total_ha_org_total\"]) * 100\n",
    "\n",
    "# Select only the desired columns\n",
    "fig_5_top3_df = fig_5_top3_df[[\"organisation\", \"habitat\", \"percentage_of_total\"]]\n",
    "\n",
    "fig_5_top3_df\n"
   ]
  },
  {
   "cell_type": "code",
   "execution_count": 0,
   "metadata": {
    "application/vnd.databricks.v1+cell": {
     "cellMetadata": {
      "byteLimit": 2048000,
      "rowLimit": 10000
     },
     "inputWidgets": {},
     "nuid": "c64ee28f-70bd-4243-b19d-37a7afc0f55c",
     "showTitle": false,
     "tableResultSettingsMap": {},
     "title": ""
    }
   },
   "outputs": [],
   "source": [
    "# Rename habitats (make prettier)\n",
    "fig_5_top3_df[\"habitat\"] = fig_5_top3_df[\"habitat\"].replace(\n",
    "    \"arable\", \"Enclosed Farmland\"\n",
    ")\n",
    "\n",
    "fig_5_top3_df[\"habitat\"] = fig_5_top3_df[\"habitat\"].replace(\n",
    "    \"coastal\", \"Marine & Coastal Margins\"\n",
    ")\n",
    "\n",
    "fig_5_top3_df[\"habitat\"] = fig_5_top3_df[\"habitat\"].replace(\n",
    "    \"dense_woodland\", \"Woodland (Dense)\"\n",
    ")\n",
    "\n",
    "fig_5_top3_df[\"habitat\"] = fig_5_top3_df[\"habitat\"].replace(\n",
    "    \"grassland\", \"Semi-Natural Grassland\"\n",
    ")\n",
    "\n",
    "fig_5_top3_df[\"habitat\"] = fig_5_top3_df[\"habitat\"].replace(\n",
    "    \"mixed_woodland\", \"Woodland (Mixed)\"\n",
    ")\n",
    "\n",
    "fig_5_top3_df[\"habitat\"] = fig_5_top3_df[\"habitat\"].replace(\n",
    "    \"moorland\", \"Mountain, Moorland & Heath\"\n",
    ")\n",
    "\n",
    "fig_5_top3_df[\"habitat\"] = fig_5_top3_df[\"habitat\"].replace(\n",
    "    \"saltmarsh\", \"Saltmarsh\"\n",
    ")\n",
    "\n",
    "fig_5_top3_df[\"habitat\"] = fig_5_top3_df[\"habitat\"].replace(\n",
    "    \"sparse_woodland\", \"Woodland (Sparse)\"\n",
    ")\n",
    "\n",
    "fig_5_top3_df[\"habitat\"] = fig_5_top3_df[\"habitat\"].replace(\n",
    "    \"upland_bog\", \"Upland Bog\"\n",
    ")\n",
    "\n",
    "fig_5_top3_df[\"habitat\"] = fig_5_top3_df[\"habitat\"].replace(\n",
    "    \"urban\", \"Urban\"\n",
    ")\n",
    "\n",
    "fig_5_top3_df[\"habitat\"] = fig_5_top3_df[\"habitat\"].replace(\n",
    "    \"water\", \"Freshwater & Wetlands\"\n",
    ")\n",
    "\n",
    "fig_5_top3_df"
   ]
  },
  {
   "cell_type": "code",
   "execution_count": 0,
   "metadata": {
    "application/vnd.databricks.v1+cell": {
     "cellMetadata": {
      "byteLimit": 2048000,
      "rowLimit": 10000
     },
     "inputWidgets": {},
     "nuid": "e3496c50-6ad1-4110-8658-1732885cb0c4",
     "showTitle": false,
     "tableResultSettingsMap": {},
     "title": ""
    }
   },
   "outputs": [],
   "source": [
    "# Reorder organisations (high to low)\n",
    "organisation_order = ['DEFRA (FC/FE)', 'Natural England', 'Environment Agency']\n"
   ]
  },
  {
   "cell_type": "code",
   "execution_count": 0,
   "metadata": {
    "application/vnd.databricks.v1+cell": {
     "cellMetadata": {
      "byteLimit": 2048000,
      "rowLimit": 10000
     },
     "inputWidgets": {},
     "nuid": "15f8dc13-92b6-43a0-b3b6-60e0b7c20655",
     "showTitle": false,
     "tableResultSettingsMap": {},
     "title": ""
    }
   },
   "outputs": [],
   "source": [
    "# Reorder organisations (high to low)\n",
    "organisation_order = ['DEFRA (FC/FE)', 'Natural England', 'Environment Agency']\n",
    "\n",
    "# Sort the habitat_summary dataframe based on the organisation_order\n",
    "fig_5_top3_df['organisation'] = pd.Categorical(fig_5_top3_df['organisation'], categories=organisation_order, ordered=True)\n",
    "\n",
    "fig_5_top3_df = fig_5_top3_df.sort_values(by=['organisation', 'habitat'])\n",
    "\n",
    "# Set plotting order for habitats\n",
    "plot_habs = [\"Woodland (Mixed)\", \"Woodland (Dense)\",\"Woodland (Sparse)\",\"Mountain, Moorland & Heath\",\"Upland Bog\",\"Semi-Natural Grassland\",\"Marine & Coastal Margins\",\"Saltmarsh\",\"Enclosed Farmland\",\"Freshwater & Wetlands\", \"Urban\"]  \n",
    "\n",
    "# Define the habitat colors with fill, edge, and pattern\n",
    "habitat_colors = {\n",
    "    \"Woodland (Mixed)\": {\"fill\": \"#28A197\", \"edge\": \"#28A197\", \"pattern\": None},\n",
    "    \"Woodland (Dense)\": {\"fill\": \"#BFBFBF\", \"edge\": \"#28A197\", \"pattern\": \"//\"},\n",
    "    \"Woodland (Sparse)\": {\"fill\": \"#BFBFBF\", \"edge\": \"#28A197\", \"pattern\": \"\\\\\"},\n",
    "    \"Mountain, Moorland & Heath\": {\"fill\": '#A285D1', \"edge\": \"#A285D1\", \"pattern\": None},\n",
    "    \"Upland Bog\": {\"fill\": '#BFBFBF', \"edge\": \"#A285D1\", \"pattern\": \"O\"},\n",
    "    \"Semi-Natural Grassland\": {\"fill\": '#F46A25', \"edge\": \"#F46A25\", \"pattern\": None},\n",
    "    \"Marine & Coastal Margins\": {\"fill\": '#12436D', \"edge\": \"#12436D\", \"pattern\": None},\n",
    "    \"Saltmarsh\": {\"fill\": '#BFBFBF', \"edge\": \"#12436D\", \"pattern\": \".\"},\n",
    "    \"Enclosed Farmland\": {\"fill\": '#801650', \"edge\": \"#801650\", \"pattern\": None},\n",
    "    \"Freshwater & Wetlands\": {\"fill\": '#2073BC', \"edge\": \"#2073BC\", \"pattern\": None},\n",
    "    \"Urban\": {\"fill\": '#3D3D3D', \"edge\": \"#3D3D3D\", \"pattern\": None}\n",
    "}\n",
    "\n",
    "# Generate the habitat fill colors list from the dictionary\n",
    "habitat_fill_colors = [habitat_colors[hab][\"fill\"] for hab in plot_habs]"
   ]
  },
  {
   "cell_type": "code",
   "execution_count": 0,
   "metadata": {
    "application/vnd.databricks.v1+cell": {
     "cellMetadata": {
      "byteLimit": 2048000,
      "rowLimit": 10000
     },
     "inputWidgets": {},
     "nuid": "726fc018-aa11-4ede-945c-d693c10476fb",
     "showTitle": false,
     "tableResultSettingsMap": {},
     "title": ""
    }
   },
   "outputs": [],
   "source": [
    "# Create a list to store the positions of the bars (the x-position for each group)\n",
    "bar_width = 0.07  # Adjust the width of the bars\n",
    "x_positions = np.arange(len(organisation_order))  "
   ]
  },
  {
   "cell_type": "code",
   "execution_count": 0,
   "metadata": {
    "application/vnd.databricks.v1+cell": {
     "cellMetadata": {
      "byteLimit": 2048000,
      "rowLimit": 10000
     },
     "inputWidgets": {},
     "nuid": "bdd9b74d-9c52-4ab2-895f-45e5fe1f638a",
     "showTitle": false,
     "tableResultSettingsMap": {},
     "title": ""
    }
   },
   "outputs": [],
   "source": [
    "# Initialize figure\n",
    "plt.figure(figsize=(18, 11))\n",
    "\n",
    "# Loop through each habitat and plot\n",
    "for i, habitat in enumerate(plot_habs):\n",
    "    # Filter data for the current habitat\n",
    "    habitat_data = fig_5_top3_df[fig_5_top3_df['habitat'] == habitat]\n",
    "    \n",
    "    # Calculate the positions for this habitat's bars\n",
    "    positions = x_positions + i * bar_width  # Slightly offset each habitat's bars\n",
    "    \n",
    "    # Get the color and pattern for the current habitat\n",
    "    habitat_color = habitat_colors[habitat]\n",
    "    fill_color = habitat_color[\"fill\"]\n",
    "    edge_color = habitat_color[\"edge\"]\n",
    "    pattern = habitat_color[\"pattern\"]\n",
    "    \n",
    "    # Plot the bars for this habitat\n",
    "    bars = plt.bar(\n",
    "        positions,\n",
    "        habitat_data['percentage_of_total'],\n",
    "        width=bar_width,\n",
    "        label=habitat,\n",
    "        color=fill_color,\n",
    "        edgecolor=edge_color,\n",
    "        zorder=3\n",
    "    )\n",
    "    \n",
    "    # Apply pattern if defined\n",
    "    if pattern:\n",
    "        for bar in bars:\n",
    "            bar.set_hatch(pattern)\n",
    "\n",
    "# Add the total_ha labels to the x-axis\n",
    "# First, get the total_ha for each organisation\n",
    "organisation_names = fig_5_top3_df['organisation'].unique()\n",
    "total_ha_values = [fig_5_filtered_df.loc[fig_5_filtered_df['organisation'] == org, 'total_ha'].values[0] for org in organisation_names] #Pulling in from earlier df \n",
    "\n",
    "# Create a list with both organisation names and formatted total_ha (with commas and no parentheses)\n",
    "x_labels = [f\"{total_ha:,.1f} ha\" for org, total_ha in zip(organisation_names, total_ha_values)]\n",
    "\n",
    "# Add labels and title\n",
    "plt.xticks(x_positions + (len(plot_habs) * bar_width) / 2, organisation_names, fontsize=21)\n",
    "\n",
    "# Adjust the positioning of the total_ha labels (move them below the organisations)\n",
    "for i, label in enumerate(x_labels):\n",
    "    plt.text(\n",
    "        x_positions[i] + (len(plot_habs) * bar_width) / 2,  # x-position (aligned with the bar)\n",
    "        -4.4,  \n",
    "        label,  \n",
    "        ha='center',  # Horizontal alignment\n",
    "        fontsize=21,  \n",
    "        color='black'  \n",
    "    )\n",
    "\n",
    "# y-axis\n",
    "plt.yticks(fontsize=18)\n",
    "plt.ylabel(\"Percentage of Organisation Total (%)\", fontsize=21)\n",
    "# legend\n",
    "plt.legend(fontsize=20)\n",
    "# grid\n",
    "plt.grid(axis='y', zorder=0)\n",
    "\n",
    "# Show the plot\n",
    "plt.tight_layout()\n",
    "plt.show()"
   ]
  }
 ],
 "metadata": {
  "application/vnd.databricks.v1+notebook": {
   "computePreferences": null,
   "dashboards": [],
   "environmentMetadata": {
    "base_environment": "",
    "environment_version": "2"
   },
   "language": "python",
   "notebookMetadata": {
    "pythonIndentUnit": 2
   },
   "notebookName": "phase_2_report_plots",
   "widgets": {}
  },
  "language_info": {
   "name": "python"
  }
 },
 "nbformat": 4,
 "nbformat_minor": 0
}
