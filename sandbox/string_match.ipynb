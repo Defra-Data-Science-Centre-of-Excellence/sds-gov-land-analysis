{
 "cells": [
  {
   "cell_type": "code",
   "execution_count": 0,
   "metadata": {
    "application/vnd.databricks.v1+cell": {
     "cellMetadata": {
      "byteLimit": 2048000,
      "rowLimit": 10000
     },
     "inputWidgets": {},
     "nuid": "89ea23f3-7ac0-4ae1-9496-535b7b3bfc0b",
     "showTitle": false,
     "title": ""
    }
   },
   "outputs": [],
   "source": [
    "# importing the packages and functions needed\n",
    "from boto3 import client\n",
    "from tempfile import TemporaryFile, TemporaryDirectory\n",
    "from zipfile import ZipFile\n",
    "from pandas import concat, read_csv, DataFrame, Series\n",
    "from typing import List\n",
    "#from Levenshtein import distance as lev"
   ]
  },
  {
   "cell_type": "code",
   "execution_count": 0,
   "metadata": {
    "application/vnd.databricks.v1+cell": {
     "cellMetadata": {
      "byteLimit": 2048000,
      "rowLimit": 10000
     },
     "inputWidgets": {},
     "nuid": "e6b3d81e-05b9-4e47-81aa-45ea215d5770",
     "showTitle": false,
     "title": ""
    }
   },
   "outputs": [],
   "source": [
    "ccod = read_csv(\n",
    "    \"/dbfs/mnt/lab/restricted/ESD-Project/source_data_gov_hm_land_registry/dataset_use_land_and_property_data/format_CSV_use_land_and_property_data/LATEST_use_land_and_property_data/CCOD_FULL_2024_01.csv\",\n",
    "    \n",
    "    usecols=[\n",
    "        \"Title Number\",\n",
    "        \"Proprietor Name (1)\",\n",
    "        \"Company Registration No. (1)\",\n",
    "        \"Proprietor (1) Address (1)\",\n",
    "        ],\n",
    "\n",
    "    converters={\n",
    "        \"Proprietor Name (1)\": str.lower,\n",
    "        \"Proprietor (1) Address (1)\": str.lower,\n",
    "        }\n",
    "\n",
    ")\n",
    "ccod.columns = [\n",
    "    \"title_no\",\n",
    "    \"pr_name\",\n",
    "    \"company_reg_no\",\n",
    "    \"pr_address\",\n",
    "]\n"
   ]
  },
  {
   "cell_type": "code",
   "execution_count": 0,
   "metadata": {
    "application/vnd.databricks.v1+cell": {
     "cellMetadata": {
      "byteLimit": 2048000,
      "rowLimit": 10000
     },
     "inputWidgets": {},
     "nuid": "1f0a0471-a835-46c1-af7e-592f28e29750",
     "showTitle": false,
     "title": ""
    }
   },
   "outputs": [],
   "source": [
    "ccod"
   ]
  },
  {
   "cell_type": "code",
   "execution_count": 0,
   "metadata": {
    "application/vnd.databricks.v1+cell": {
     "cellMetadata": {
      "byteLimit": 2048000,
      "rowLimit": 10000
     },
     "inputWidgets": {},
     "nuid": "a659a247-6c0e-4e37-856b-b06236fe7de6",
     "showTitle": false,
     "title": ""
    }
   },
   "outputs": [],
   "source": [
    "#extracting the postcodes\n",
    "ccod_lp = ccod.assign(\n",
    "    postcode=ccod[\"pr_address\"].str.extract(r\"([a-z]{1,2}[\\d]{1,2}[a-z]{0,1} [\\d]{1}[a-z]{2})$\")\n",
    "    )\n"
   ]
  },
  {
   "cell_type": "markdown",
   "metadata": {
    "application/vnd.databricks.v1+cell": {
     "cellMetadata": {},
     "inputWidgets": {},
     "nuid": "bd7f8f54-6e94-4709-9f9d-2c50e29d14ec",
     "showTitle": false,
     "title": ""
    }
   },
   "source": [
    "## Functions"
   ]
  },
  {
   "cell_type": "code",
   "execution_count": 0,
   "metadata": {
    "application/vnd.databricks.v1+cell": {
     "cellMetadata": {
      "byteLimit": 2048000,
      "rowLimit": 10000
     },
     "inputWidgets": {},
     "nuid": "d624cbeb-e552-4e1e-b9da-e7eb625ba012",
     "showTitle": false,
     "title": ""
    }
   },
   "outputs": [],
   "source": [
    "def kwd_df(word: str, column: str, df: DataFrame):\n",
    "\n",
    "    \"\"\"Make a subsetted dataframe of the given dataframe with a string to search in a specific column\"\"\"\n",
    "\n",
    "    return df[df[column].str.contains(word, regex=False, na=False)]\n"
   ]
  },
  {
   "cell_type": "code",
   "execution_count": 0,
   "metadata": {
    "application/vnd.databricks.v1+cell": {
     "cellMetadata": {
      "byteLimit": 2048000,
      "rowLimit": 10000
     },
     "inputWidgets": {},
     "nuid": "e96670d0-d796-4e18-8960-ff497498d93e",
     "showTitle": false,
     "title": ""
    }
   },
   "outputs": [],
   "source": [
    "def new_df(names: List, new_name: str, index=0):\n",
    "\n",
    "    \"\"\"Creating a DataFrame with the proprietor names isolated and the lookup name.\"\"\"\n",
    "\n",
    "    if index == 0:\n",
    "        y = DataFrame({\"CCOD\": names, \"LC\": new_name})\n",
    "\n",
    "    else:\n",
    "        n_list = [names[i] for i in index]\n",
    "\n",
    "        y = DataFrame({\"CCOD\": n_list, \"LC\": new_name})\n",
    "\n",
    "    return y\n"
   ]
  },
  {
   "cell_type": "code",
   "execution_count": 0,
   "metadata": {
    "application/vnd.databricks.v1+cell": {
     "cellMetadata": {
      "byteLimit": 2048000,
      "rowLimit": 10000
     },
     "inputWidgets": {},
     "nuid": "e99b428a-16c8-4da2-a23a-527f46c22b13",
     "showTitle": false,
     "title": ""
    }
   },
   "outputs": [],
   "source": [
    "def unique_values(word: str, s_column: str, v_column: str, df: DataFrame):\n",
    "\n",
    "    \"\"\"Get the unique values of a column in a dataframe after searching by a string in a specified column\"\"\"\n",
    "\n",
    "    return df[df[s_column].str.contains(word, regex=False, na=False)][v_column].unique()\n"
   ]
  },
  {
   "cell_type": "code",
   "execution_count": 0,
   "metadata": {
    "application/vnd.databricks.v1+cell": {
     "cellMetadata": {
      "byteLimit": 2048000,
      "rowLimit": 10000
     },
     "inputWidgets": {},
     "nuid": "489eedaa-e54b-4664-862d-ada06e6534cb",
     "showTitle": false,
     "title": ""
    }
   },
   "outputs": [],
   "source": [
    "def append_rows(names: List, df: DataFrame):\n",
    "\n",
    "    \"\"\"Add new rows to an existing Lookup dataframe only if the values do not already exist in the dataframe\"\"\"\n",
    "\n",
    "    series_names = Series(names)\n",
    "\n",
    "    y = series_names[~series_names.isin(df[\"CCOD\"])]\n",
    "\n",
    "    if y.empty == True:\n",
    "\n",
    "        return df\n",
    "\n",
    "    else:\n",
    "        z = y.to_frame()\n",
    "        z.columns = [\"CCOD\"]\n",
    "        z[\"LC\"] = df[\"LC\"][0]\n",
    "\n",
    "        return concat([df, z], ignore_index = True)\n"
   ]
  },
  {
   "cell_type": "code",
   "execution_count": 0,
   "metadata": {
    "application/vnd.databricks.v1+cell": {
     "cellMetadata": {
      "byteLimit": 2048000,
      "rowLimit": 10000
     },
     "inputWidgets": {},
     "nuid": "f9694a16-3445-42b2-a0ae-a6e3efa86c44",
     "showTitle": false,
     "title": ""
    }
   },
   "outputs": [],
   "source": [
    "def multi_search (words : List, column : str, df : DataFrame):\n",
    "\n",
    "    '''Search multiple strings independently and return a subsetted dataframe of the resulting values'''\n",
    "\n",
    "    p_df = []\n",
    "    \n",
    "    for x in words:\n",
    "\n",
    "        y = kwd_df(word = x, column = column, df = df)\n",
    "\n",
    "        p_df.append(y)\n",
    "\n",
    "    return concat (p_df).drop_duplicates()\n"
   ]
  },
  {
   "cell_type": "code",
   "execution_count": 0,
   "metadata": {
    "application/vnd.databricks.v1+cell": {
     "cellMetadata": {
      "byteLimit": 2048000,
      "rowLimit": 10000
     },
     "inputWidgets": {},
     "nuid": "cc1e4d54-d684-4625-8a74-6110d55aa5c1",
     "showTitle": false,
     "title": ""
    }
   },
   "outputs": [],
   "source": [
    "# def lev_search (word : str, distance : int, df : DataFrame):\n",
    "\n",
    "#     '''Search a string with levenshtein distance function on pr_name column of the dataframe.'''\n",
    "#     '''The numbers are then joined on to the dataframe after it's been filtered by the distance specified '''\n",
    "\n",
    "#     df.reset_index(inplace = True)\n",
    "\n",
    "#     l_lev = []\n",
    "    \n",
    "#     for i in df[\"pr_name\"]:\n",
    "        \n",
    "#         z = lev(word, i)\n",
    "#         l_lev.append(z)\n",
    "    \n",
    "#     s_bcl = Series(l_lev).to_frame()\n",
    "#     lev_hwt = s_bcl[lambda df: df < distance ]\n",
    "#     lev_bc = df.join(lev_hwt)\n",
    "\n",
    "#     return lev_bc.dropna()"
   ]
  },
  {
   "cell_type": "markdown",
   "metadata": {
    "application/vnd.databricks.v1+cell": {
     "cellMetadata": {},
     "inputWidgets": {},
     "nuid": "57fa764b-0595-4d0b-80e9-7013f3adec79",
     "showTitle": false,
     "title": ""
    }
   },
   "source": [
    "## Landowner Names"
   ]
  },
  {
   "cell_type": "code",
   "execution_count": 0,
   "metadata": {
    "application/vnd.databricks.v1+cell": {
     "cellMetadata": {
      "byteLimit": 2048000,
      "rowLimit": 10000
     },
     "inputWidgets": {},
     "nuid": "c4ac448d-2887-4c10-833f-42ce8b1fab77",
     "showTitle": false,
     "title": ""
    }
   },
   "outputs": [],
   "source": [
    "#manually searching for strings\n",
    "\n",
    "#ccod_l[ccod_l[\"pr_address\"].str.contains(\"bs34 8jh\", regex=False, na=False)][\"pr_name\"].unique()\n",
    "#mod[mod[\"company_reg_no\"].isna()][\"pr_name\"].unique()\n",
    "#m[~m.index.isin(y.index)]\n",
    "#m[m[\"company_reg_no\"].isna()]"
   ]
  },
  {
   "cell_type": "code",
   "execution_count": 0,
   "metadata": {
    "application/vnd.databricks.v1+cell": {
     "cellMetadata": {
      "byteLimit": 2048000,
      "rowLimit": 10000
     },
     "inputWidgets": {},
     "nuid": "05f1c3b7-d092-4688-8c5c-7efb607db51c",
     "showTitle": false,
     "title": ""
    }
   },
   "outputs": [],
   "source": [
    "# a list to hold the final dataframes together\n",
    "\n",
    "lookup_table = []"
   ]
  },
  {
   "cell_type": "markdown",
   "metadata": {
    "application/vnd.databricks.v1+cell": {
     "cellMetadata": {},
     "inputWidgets": {},
     "nuid": "f5d60c86-299c-46d6-afa4-febc2a37fa12",
     "showTitle": false,
     "title": ""
    }
   },
   "source": [
    "##### MOD"
   ]
  },
  {
   "cell_type": "code",
   "execution_count": 0,
   "metadata": {
    "application/vnd.databricks.v1+cell": {
     "cellMetadata": {
      "byteLimit": 2048000,
      "rowLimit": 10000
     },
     "inputWidgets": {},
     "nuid": "e5dd62ea-c62b-4daa-bee1-3668c1f07d84",
     "showTitle": false,
     "title": ""
    }
   },
   "outputs": [],
   "source": [
    "m = kwd_df(\"defence\", \"pr_name\", ccod_lp)"
   ]
  },
  {
   "cell_type": "code",
   "execution_count": 0,
   "metadata": {
    "application/vnd.databricks.v1+cell": {
     "cellMetadata": {
      "byteLimit": 2048000,
      "rowLimit": 10000
     },
     "inputWidgets": {},
     "nuid": "309ba90e-106b-4cba-aabc-d2d5a02dd8e6",
     "showTitle": false,
     "title": ""
    }
   },
   "outputs": [],
   "source": [
    "ma = [\"state\", \"ministry\", \"secretary\", \"minister\"]"
   ]
  },
  {
   "cell_type": "code",
   "execution_count": 0,
   "metadata": {
    "application/vnd.databricks.v1+cell": {
     "cellMetadata": {
      "byteLimit": 2048000,
      "rowLimit": 10000
     },
     "inputWidgets": {},
     "nuid": "64e251c5-fb20-4c91-9269-4105c804b064",
     "showTitle": false,
     "title": ""
    }
   },
   "outputs": [],
   "source": [
    "ms = multi_search(ma, \"pr_name\", m)[\"pr_name\"].unique()\n",
    "ms"
   ]
  },
  {
   "cell_type": "code",
   "execution_count": 0,
   "metadata": {
    "application/vnd.databricks.v1+cell": {
     "cellMetadata": {
      "byteLimit": 2048000,
      "rowLimit": 10000
     },
     "inputWidgets": {},
     "nuid": "8760e813-60da-42dc-a58b-51e889fb3b99",
     "showTitle": false,
     "title": ""
    }
   },
   "outputs": [],
   "source": [
    "mod = new_df(ms[:6], \"Ministry of Defence\")"
   ]
  },
  {
   "cell_type": "code",
   "execution_count": 0,
   "metadata": {
    "application/vnd.databricks.v1+cell": {
     "cellMetadata": {
      "byteLimit": 2048000,
      "rowLimit": 10000
     },
     "inputWidgets": {},
     "nuid": "bd42a92e-0105-48fd-a991-151003fadbef",
     "showTitle": false,
     "title": ""
    }
   },
   "outputs": [],
   "source": [
    "mp = multi_search(ma, \"pr_name\", m)[\"postcode\"].unique()\n",
    "mp"
   ]
  },
  {
   "cell_type": "code",
   "execution_count": 0,
   "metadata": {
    "application/vnd.databricks.v1+cell": {
     "cellMetadata": {
      "byteLimit": 2048000,
      "rowLimit": 10000
     },
     "inputWidgets": {},
     "nuid": "9bf5acb6-f8bf-42a3-841a-b35acc9636f1",
     "showTitle": false,
     "title": ""
    }
   },
   "outputs": [],
   "source": [
    "ms1 = multi_search(mp, \"postcode\", ccod_lp)[\"pr_name\"].unique()\n",
    "ms1"
   ]
  },
  {
   "cell_type": "code",
   "execution_count": 0,
   "metadata": {
    "application/vnd.databricks.v1+cell": {
     "cellMetadata": {
      "byteLimit": 2048000,
      "rowLimit": 10000
     },
     "inputWidgets": {},
     "nuid": "ccd1ff82-3ffc-4f2e-bd87-adc581cc6d87",
     "showTitle": false,
     "title": ""
    }
   },
   "outputs": [],
   "source": [
    "mod"
   ]
  },
  {
   "cell_type": "code",
   "execution_count": 0,
   "metadata": {
    "application/vnd.databricks.v1+cell": {
     "cellMetadata": {
      "byteLimit": 2048000,
      "rowLimit": 10000
     },
     "inputWidgets": {},
     "nuid": "e142ffdf-e064-4f50-81a0-31d54bda302f",
     "showTitle": false,
     "title": ""
    }
   },
   "outputs": [],
   "source": [
    "lookup_table.append(mod)"
   ]
  },
  {
   "cell_type": "markdown",
   "metadata": {
    "application/vnd.databricks.v1+cell": {
     "cellMetadata": {},
     "inputWidgets": {},
     "nuid": "3764a412-b8fb-4e01-a182-6d8e586f2277",
     "showTitle": false,
     "title": ""
    }
   },
   "source": [
    "#### DEFRA"
   ]
  },
  {
   "cell_type": "code",
   "execution_count": 0,
   "metadata": {
    "application/vnd.databricks.v1+cell": {
     "cellMetadata": {
      "byteLimit": 2048000,
      "rowLimit": 10000
     },
     "inputWidgets": {},
     "nuid": "07e0d0fb-cecc-43ec-82ec-fb17eca84624",
     "showTitle": false,
     "title": ""
    }
   },
   "outputs": [],
   "source": [
    "d = kwd_df (\"environment\", \"pr_name\", ccod_lp)\n"
   ]
  },
  {
   "cell_type": "code",
   "execution_count": 0,
   "metadata": {
    "application/vnd.databricks.v1+cell": {
     "cellMetadata": {
      "byteLimit": 2048000,
      "rowLimit": 10000
     },
     "inputWidgets": {},
     "nuid": "710e5436-a4d8-4170-a10e-7024582ccb06",
     "showTitle": false,
     "title": ""
    }
   },
   "outputs": [],
   "source": [
    "de = kwd_df (\"agriculture\", \"pr_name\", ccod_lp)"
   ]
  },
  {
   "cell_type": "code",
   "execution_count": 0,
   "metadata": {
    "application/vnd.databricks.v1+cell": {
     "cellMetadata": {
      "byteLimit": 2048000,
      "rowLimit": 10000
     },
     "inputWidgets": {},
     "nuid": "a3e93534-d004-4349-9ac4-2f0fd7657e41",
     "showTitle": false,
     "title": ""
    }
   },
   "outputs": [],
   "source": [
    "da = [\"food\", \"rural\", \"affairs\", \"minister\", \"ministry\", \"state\", \"secretary\"]"
   ]
  },
  {
   "cell_type": "code",
   "execution_count": 0,
   "metadata": {
    "application/vnd.databricks.v1+cell": {
     "cellMetadata": {
      "byteLimit": 2048000,
      "rowLimit": 10000
     },
     "inputWidgets": {},
     "nuid": "4574d4fc-3e43-4d13-8c1e-b3541c2f2dce",
     "showTitle": false,
     "title": ""
    }
   },
   "outputs": [],
   "source": [
    "ds = multi_search(da, \"pr_name\", d)[\"pr_name\"].unique()\n",
    "print(len(ds))\n",
    "ds"
   ]
  },
  {
   "cell_type": "code",
   "execution_count": 0,
   "metadata": {
    "application/vnd.databricks.v1+cell": {
     "cellMetadata": {
      "byteLimit": 2048000,
      "rowLimit": 10000
     },
     "inputWidgets": {},
     "nuid": "afb9be26-4255-4562-bf3b-668164d2de7d",
     "showTitle": false,
     "title": ""
    }
   },
   "outputs": [],
   "source": [
    "defra = new_df(ds, \"DEFRA\")\n",
    "defra"
   ]
  },
  {
   "cell_type": "code",
   "execution_count": 0,
   "metadata": {
    "application/vnd.databricks.v1+cell": {
     "cellMetadata": {
      "byteLimit": 2048000,
      "rowLimit": 10000
     },
     "inputWidgets": {},
     "nuid": "969b6a23-b6cf-4831-ae8b-aaf6deebcfcb",
     "showTitle": false,
     "title": ""
    }
   },
   "outputs": [],
   "source": [
    "ds1 = multi_search(da, \"pr_name\", de)[\"pr_name\"].unique()\n",
    "ds1"
   ]
  },
  {
   "cell_type": "code",
   "execution_count": 0,
   "metadata": {
    "application/vnd.databricks.v1+cell": {
     "cellMetadata": {
      "byteLimit": 2048000,
      "rowLimit": 10000
     },
     "inputWidgets": {},
     "nuid": "4f66d3bb-92f4-48b6-aef5-b5169f04d519",
     "showTitle": false,
     "title": ""
    }
   },
   "outputs": [],
   "source": [
    "defra1 = append_rows (ds1[:-1], defra)\n",
    "defra1"
   ]
  },
  {
   "cell_type": "code",
   "execution_count": 0,
   "metadata": {
    "application/vnd.databricks.v1+cell": {
     "cellMetadata": {
      "byteLimit": 2048000,
      "rowLimit": 10000
     },
     "inputWidgets": {},
     "nuid": "aa50dab2-8cc0-4864-bb8a-5058901387e5",
     "showTitle": false,
     "title": ""
    }
   },
   "outputs": [],
   "source": [
    "dp = multi_search(da, \"pr_name\", d)[\"postcode\"].unique()\n",
    "dp"
   ]
  },
  {
   "cell_type": "code",
   "execution_count": 0,
   "metadata": {
    "application/vnd.databricks.v1+cell": {
     "cellMetadata": {
      "byteLimit": 2048000,
      "rowLimit": 10000
     },
     "inputWidgets": {},
     "nuid": "b4d691ea-166a-47e1-85c1-928b2d311599",
     "showTitle": false,
     "title": ""
    }
   },
   "outputs": [],
   "source": [
    "len(dp)"
   ]
  },
  {
   "cell_type": "code",
   "execution_count": 0,
   "metadata": {
    "application/vnd.databricks.v1+cell": {
     "cellMetadata": {
      "byteLimit": 2048000,
      "rowLimit": 10000
     },
     "inputWidgets": {},
     "nuid": "78606ebf-7d8a-44f2-8d52-2d5a758f22bf",
     "showTitle": false,
     "title": ""
    }
   },
   "outputs": [],
   "source": [
    "ds1 = multi_search(dp[:11], \"postcode\", ccod_lp)[\"pr_name\"].unique()\n",
    "ds1"
   ]
  },
  {
   "cell_type": "code",
   "execution_count": 0,
   "metadata": {
    "application/vnd.databricks.v1+cell": {
     "cellMetadata": {
      "byteLimit": 2048000,
      "rowLimit": 10000
     },
     "inputWidgets": {},
     "nuid": "bda5e925-8e03-4052-9935-8ab187852371",
     "showTitle": false,
     "title": ""
    }
   },
   "outputs": [],
   "source": [
    "n = [8, 10, 11, 12, 13, 20, 21, 23, 32, 35, 44, 46, 48, 49, 50, 52, 53, 55, 62, 64, 66, 67, 68, 70, 73, 74, 76, 77, 79, 80, 81, 83, 84, 88, 90]"
   ]
  },
  {
   "cell_type": "code",
   "execution_count": 0,
   "metadata": {
    "application/vnd.databricks.v1+cell": {
     "cellMetadata": {
      "byteLimit": 2048000,
      "rowLimit": 10000
     },
     "inputWidgets": {},
     "nuid": "0fbbd62a-3b6b-490e-9c98-4be35ff3c2e7",
     "showTitle": false,
     "title": ""
    }
   },
   "outputs": [],
   "source": [
    "import numpy\n",
    "\n",
    "ds1_n = numpy.delete(ds1, n)"
   ]
  },
  {
   "cell_type": "code",
   "execution_count": 0,
   "metadata": {
    "application/vnd.databricks.v1+cell": {
     "cellMetadata": {
      "byteLimit": 2048000,
      "rowLimit": 10000
     },
     "inputWidgets": {},
     "nuid": "3cc4cdca-a89e-4700-befd-490fb3d41cc8",
     "showTitle": false,
     "title": ""
    }
   },
   "outputs": [],
   "source": [
    "ds1_n"
   ]
  },
  {
   "cell_type": "code",
   "execution_count": 0,
   "metadata": {
    "application/vnd.databricks.v1+cell": {
     "cellMetadata": {
      "byteLimit": 2048000,
      "rowLimit": 10000
     },
     "inputWidgets": {},
     "nuid": "046809ab-c1a2-49f7-8370-1bb612484183",
     "showTitle": false,
     "title": ""
    }
   },
   "outputs": [],
   "source": [
    "defra2 = append_rows (ds1_n, defra1)\n",
    "defra2"
   ]
  },
  {
   "cell_type": "code",
   "execution_count": 0,
   "metadata": {
    "application/vnd.databricks.v1+cell": {
     "cellMetadata": {
      "byteLimit": 2048000,
      "rowLimit": 10000
     },
     "inputWidgets": {},
     "nuid": "3fdf9d9d-853a-4eb3-bb43-0437ab280b4e",
     "showTitle": false,
     "title": ""
    }
   },
   "outputs": [],
   "source": [
    "defra2.drop([47, 48, 49, 50, 51, 52, 53], inplace=True)\n"
   ]
  },
  {
   "cell_type": "code",
   "execution_count": 0,
   "metadata": {
    "application/vnd.databricks.v1+cell": {
     "cellMetadata": {
      "byteLimit": 2048000,
      "rowLimit": 10000
     },
     "inputWidgets": {},
     "nuid": "83fc06b6-1090-449c-8112-52c38a717560",
     "showTitle": false,
     "title": ""
    }
   },
   "outputs": [],
   "source": [
    "defra3 = defra2.reset_index(drop=True)\n"
   ]
  },
  {
   "cell_type": "code",
   "execution_count": 0,
   "metadata": {
    "application/vnd.databricks.v1+cell": {
     "cellMetadata": {
      "byteLimit": 2048000,
      "rowLimit": 10000
     },
     "inputWidgets": {},
     "nuid": "b9c69ec9-5c9d-48bb-a446-0a126059b505",
     "showTitle": false,
     "title": ""
    }
   },
   "outputs": [],
   "source": [
    "defra3"
   ]
  },
  {
   "cell_type": "code",
   "execution_count": 0,
   "metadata": {
    "application/vnd.databricks.v1+cell": {
     "cellMetadata": {
      "byteLimit": 2048000,
      "rowLimit": 10000
     },
     "inputWidgets": {},
     "nuid": "59470126-23aa-4d49-ad75-a0119ef962e4",
     "showTitle": false,
     "title": ""
    }
   },
   "outputs": [],
   "source": [
    "ccod_l[ccod_l[\"pr_name\"].str.contains(\"nature england\", regex=False, na=False)]"
   ]
  },
  {
   "cell_type": "code",
   "execution_count": 0,
   "metadata": {
    "application/vnd.databricks.v1+cell": {
     "cellMetadata": {
      "byteLimit": 2048000,
      "rowLimit": 10000
     },
     "inputWidgets": {},
     "nuid": "adaa825c-5106-4805-a6c0-8d7fa3cbed73",
     "showTitle": false,
     "title": ""
    }
   },
   "outputs": [],
   "source": [
    "ds2 = multi_search(dp[11:21], \"postcode\", ccod_lp)[\"pr_name\"].unique()\n",
    "ds2"
   ]
  },
  {
   "cell_type": "code",
   "execution_count": 0,
   "metadata": {
    "application/vnd.databricks.v1+cell": {
     "cellMetadata": {
      "byteLimit": 2048000,
      "rowLimit": 10000
     },
     "inputWidgets": {},
     "nuid": "bfc11bef-0c85-429c-8b5c-0ed2b974f4ae",
     "showTitle": false,
     "title": ""
    }
   },
   "outputs": [],
   "source": [
    "n_de = new_df (ds2, \"DEFRA\", [5, 22, 29, 35, 36, 46, 48])[\"CCOD\"].unique()"
   ]
  },
  {
   "cell_type": "code",
   "execution_count": 0,
   "metadata": {
    "application/vnd.databricks.v1+cell": {
     "cellMetadata": {
      "byteLimit": 2048000,
      "rowLimit": 10000
     },
     "inputWidgets": {},
     "nuid": "c3c220e5-d951-4ba6-b1ac-6ab67314ac57",
     "showTitle": false,
     "title": ""
    }
   },
   "outputs": [],
   "source": [
    "defra4 = append_rows(n_de, defra3)"
   ]
  },
  {
   "cell_type": "code",
   "execution_count": 0,
   "metadata": {
    "application/vnd.databricks.v1+cell": {
     "cellMetadata": {
      "byteLimit": 2048000,
      "rowLimit": 10000
     },
     "inputWidgets": {},
     "nuid": "df1dd74a-c5ea-4220-9777-9433ac4c7dd5",
     "showTitle": false,
     "title": ""
    }
   },
   "outputs": [],
   "source": [
    "defra4"
   ]
  },
  {
   "cell_type": "code",
   "execution_count": 0,
   "metadata": {
    "application/vnd.databricks.v1+cell": {
     "cellMetadata": {
      "byteLimit": 2048000,
      "rowLimit": 10000
     },
     "inputWidgets": {},
     "nuid": "d5d2d60d-0e70-40bb-a80c-aa8ec86fa09f",
     "showTitle": false,
     "title": ""
    }
   },
   "outputs": [],
   "source": [
    "ds3 = multi_search(dp[21:31], \"postcode\", ccod_lp)[\"pr_name\"].unique()\n",
    "ds3"
   ]
  },
  {
   "cell_type": "code",
   "execution_count": 0,
   "metadata": {
    "application/vnd.databricks.v1+cell": {
     "cellMetadata": {
      "byteLimit": 2048000,
      "rowLimit": 10000
     },
     "inputWidgets": {},
     "nuid": "4e8305b7-3b3c-414d-a9a1-b25652142cdf",
     "showTitle": false,
     "title": ""
    }
   },
   "outputs": [],
   "source": [
    "ds4 = multi_search(dp[31:41], \"postcode\", ccod_lp)[\"pr_name\"].unique()\n",
    "ds4"
   ]
  },
  {
   "cell_type": "code",
   "execution_count": 0,
   "metadata": {
    "application/vnd.databricks.v1+cell": {
     "cellMetadata": {
      "byteLimit": 2048000,
      "rowLimit": 10000
     },
     "inputWidgets": {},
     "nuid": "34c6ce70-cf4b-45a3-8cbd-a90514e15a0a",
     "showTitle": false,
     "title": ""
    }
   },
   "outputs": [],
   "source": [
    "lookup_table.append(defra4)"
   ]
  },
  {
   "cell_type": "markdown",
   "metadata": {
    "application/vnd.databricks.v1+cell": {
     "cellMetadata": {},
     "inputWidgets": {},
     "nuid": "7d57694f-daed-4159-856e-c6890b067f5a",
     "showTitle": false,
     "title": ""
    }
   },
   "source": [
    "#### Wildlife Trust"
   ]
  },
  {
   "cell_type": "code",
   "execution_count": 0,
   "metadata": {
    "application/vnd.databricks.v1+cell": {
     "cellMetadata": {
      "byteLimit": 2048000,
      "rowLimit": 10000
     },
     "inputWidgets": {},
     "nuid": "f90aa4c6-2c23-4cdb-bfa9-d0096b43ceab",
     "showTitle": false,
     "title": ""
    }
   },
   "outputs": [],
   "source": [
    "t = kwd_df(\"trust\", \"pr_name\", ccod_lp)"
   ]
  },
  {
   "cell_type": "code",
   "execution_count": 0,
   "metadata": {
    "application/vnd.databricks.v1+cell": {
     "cellMetadata": {
      "byteLimit": 2048000,
      "rowLimit": 10000
     },
     "inputWidgets": {},
     "nuid": "7a950d47-d640-4ad7-aa4e-90bdbaeb8c18",
     "showTitle": false,
     "title": ""
    }
   },
   "outputs": [],
   "source": [
    "wt = [\"wild life\", \"wildlife\"]"
   ]
  },
  {
   "cell_type": "code",
   "execution_count": 0,
   "metadata": {
    "application/vnd.databricks.v1+cell": {
     "cellMetadata": {
      "byteLimit": 2048000,
      "rowLimit": 10000
     },
     "inputWidgets": {},
     "nuid": "a2eaec7c-375e-4ddc-ab1f-db80e953785d",
     "showTitle": false,
     "title": ""
    }
   },
   "outputs": [],
   "source": [
    "ws = multi_search(wt, \"pr_name\", t)[\"pr_name\"].unique()\n",
    "ws"
   ]
  },
  {
   "cell_type": "code",
   "execution_count": 0,
   "metadata": {
    "application/vnd.databricks.v1+cell": {
     "cellMetadata": {
      "byteLimit": 2048000,
      "rowLimit": 10000
     },
     "inputWidgets": {},
     "nuid": "43534abb-8225-496b-80b4-18fe2db53f94",
     "showTitle": false,
     "title": ""
    }
   },
   "outputs": [],
   "source": [
    "wlt = new_df(ws, \"Wildlife Trust\")"
   ]
  },
  {
   "cell_type": "code",
   "execution_count": 0,
   "metadata": {
    "application/vnd.databricks.v1+cell": {
     "cellMetadata": {
      "byteLimit": 2048000,
      "rowLimit": 10000
     },
     "inputWidgets": {},
     "nuid": "8fcf084c-f4c2-4352-8c62-d3d4b3643c3c",
     "showTitle": false,
     "title": ""
    }
   },
   "outputs": [],
   "source": [
    "wp = multi_search(ws, \"pr_name\", t)[\"company_reg_no\"].unique()\n",
    "wp"
   ]
  },
  {
   "cell_type": "code",
   "execution_count": 0,
   "metadata": {
    "application/vnd.databricks.v1+cell": {
     "cellMetadata": {
      "byteLimit": 2048000,
      "rowLimit": 10000
     },
     "inputWidgets": {},
     "nuid": "a687e38d-2399-4e5a-8c28-594a2470af16",
     "showTitle": false,
     "title": ""
    }
   },
   "outputs": [],
   "source": [
    "wp1 = multi_search(wp[1:], \"company_reg_no\", ccod_lp)[\"pr_name\"].unique()\n",
    "wp1"
   ]
  },
  {
   "cell_type": "code",
   "execution_count": 0,
   "metadata": {
    "application/vnd.databricks.v1+cell": {
     "cellMetadata": {
      "byteLimit": 2048000,
      "rowLimit": 10000
     },
     "inputWidgets": {},
     "nuid": "906b44fd-5511-4564-a407-ba0a75791b6d",
     "showTitle": false,
     "title": ""
    }
   },
   "outputs": [],
   "source": [
    "wp_s =Series(wp1)\n",
    "wp_a = wp_s[wp_s.str.contains(\"trust\", regex=False, na=False)].values"
   ]
  },
  {
   "cell_type": "code",
   "execution_count": 0,
   "metadata": {
    "application/vnd.databricks.v1+cell": {
     "cellMetadata": {
      "byteLimit": 2048000,
      "rowLimit": 10000
     },
     "inputWidgets": {},
     "nuid": "43009ec5-9995-4e96-98a8-3c457c8ee1d7",
     "showTitle": false,
     "title": ""
    }
   },
   "outputs": [],
   "source": [
    "wlt1 = append_rows(wp_a, wlt).drop(177, axis = 0)"
   ]
  },
  {
   "cell_type": "code",
   "execution_count": 0,
   "metadata": {
    "application/vnd.databricks.v1+cell": {
     "cellMetadata": {
      "byteLimit": 2048000,
      "rowLimit": 10000
     },
     "inputWidgets": {},
     "nuid": "973f203c-f833-4dab-8b1e-dfc067876d42",
     "showTitle": false,
     "title": ""
    }
   },
   "outputs": [],
   "source": [
    "lookup_table.append(wlt1)"
   ]
  },
  {
   "cell_type": "markdown",
   "metadata": {
    "application/vnd.databricks.v1+cell": {
     "cellMetadata": {},
     "inputWidgets": {},
     "nuid": "006b1733-38fd-4ab4-9d77-6adc91e2501d",
     "showTitle": false,
     "title": ""
    }
   },
   "source": [
    "#### Woodland Trust"
   ]
  },
  {
   "cell_type": "code",
   "execution_count": 0,
   "metadata": {
    "application/vnd.databricks.v1+cell": {
     "cellMetadata": {
      "byteLimit": 2048000,
      "rowLimit": 10000
     },
     "inputWidgets": {},
     "nuid": "7b0a0ebf-d82b-41c1-915b-8b5dd9b8ea39",
     "showTitle": false,
     "title": ""
    }
   },
   "outputs": [],
   "source": [
    "wd = [\"woodland\", \"wood land\"]"
   ]
  },
  {
   "cell_type": "code",
   "execution_count": 0,
   "metadata": {
    "application/vnd.databricks.v1+cell": {
     "cellMetadata": {
      "byteLimit": 2048000,
      "rowLimit": 10000
     },
     "inputWidgets": {},
     "nuid": "31a9982f-8db1-4f3f-bdf1-9ff62c3848b9",
     "showTitle": false,
     "title": ""
    }
   },
   "outputs": [],
   "source": [
    "wds = multi_search(ma, \"pr_name\", t)[\"pr_name\"].unique()\n",
    "wds"
   ]
  },
  {
   "cell_type": "code",
   "execution_count": 0,
   "metadata": {
    "application/vnd.databricks.v1+cell": {
     "cellMetadata": {
      "byteLimit": 2048000,
      "rowLimit": 10000
     },
     "inputWidgets": {},
     "nuid": "a82fcf08-1bb0-4c30-9aac-828e17fd46e2",
     "showTitle": false,
     "title": ""
    }
   },
   "outputs": [],
   "source": [
    "wldt = new_df(wds[:20], \"Woodland Trust\")\n",
    "wdldt = wldt.drop([1,2,5,6,14,15, 16], axis=0).reset_index(drop=True)\n",
    "wdldt"
   ]
  },
  {
   "cell_type": "code",
   "execution_count": 0,
   "metadata": {
    "application/vnd.databricks.v1+cell": {
     "cellMetadata": {
      "byteLimit": 2048000,
      "rowLimit": 10000
     },
     "inputWidgets": {},
     "nuid": "24e6efdb-1743-4fa8-9516-e8cb0d4f8bcb",
     "showTitle": false,
     "title": ""
    }
   },
   "outputs": [],
   "source": [
    "wldp = multi_search(wdldt[\"CCOD\"].values, \"pr_name\", t)[\"postcode\"].unique()\n",
    "wldp"
   ]
  },
  {
   "cell_type": "code",
   "execution_count": 0,
   "metadata": {
    "application/vnd.databricks.v1+cell": {
     "cellMetadata": {
      "byteLimit": 2048000,
      "rowLimit": 10000
     },
     "inputWidgets": {},
     "nuid": "7b9e34af-b87f-4e05-b17a-e3467ee19ab1",
     "showTitle": false,
     "title": ""
    }
   },
   "outputs": [],
   "source": [
    "wld1 = multi_search(wldp, \"postcode\", ccod_lp)[\"pr_name\"].unique()\n",
    "wld1"
   ]
  },
  {
   "cell_type": "code",
   "execution_count": 0,
   "metadata": {
    "application/vnd.databricks.v1+cell": {
     "cellMetadata": {
      "byteLimit": 2048000,
      "rowLimit": 10000
     },
     "inputWidgets": {},
     "nuid": "648c3b59-51f7-459e-8080-8ab80f9b6829",
     "showTitle": false,
     "title": ""
    }
   },
   "outputs": [],
   "source": [
    "wdldt1 = append_rows(wld1[2:4],wdldt)\n",
    "wdldt1"
   ]
  },
  {
   "cell_type": "code",
   "execution_count": 0,
   "metadata": {
    "application/vnd.databricks.v1+cell": {
     "cellMetadata": {
      "byteLimit": 2048000,
      "rowLimit": 10000
     },
     "inputWidgets": {},
     "nuid": "69326f5f-da09-405e-bf30-b13b4ac20d1b",
     "showTitle": false,
     "title": ""
    }
   },
   "outputs": [],
   "source": [
    "lookup_table.append(wdldt1)"
   ]
  },
  {
   "cell_type": "markdown",
   "metadata": {
    "application/vnd.databricks.v1+cell": {
     "cellMetadata": {},
     "inputWidgets": {},
     "nuid": "c30ecacd-a17d-4c31-ba54-cc9f6842a2bf",
     "showTitle": false,
     "title": ""
    }
   },
   "source": [
    "#### MOJ"
   ]
  },
  {
   "cell_type": "code",
   "execution_count": 0,
   "metadata": {
    "application/vnd.databricks.v1+cell": {
     "cellMetadata": {
      "byteLimit": 2048000,
      "rowLimit": 10000
     },
     "inputWidgets": {},
     "nuid": "05593dbe-715f-44f7-9062-9f09e5189f76",
     "showTitle": false,
     "title": ""
    }
   },
   "outputs": [],
   "source": [
    "j = kwd_df(\"justice\", \"pr_name\", ccod_lp)"
   ]
  },
  {
   "cell_type": "code",
   "execution_count": 0,
   "metadata": {
    "application/vnd.databricks.v1+cell": {
     "cellMetadata": {
      "byteLimit": 2048000,
      "rowLimit": 10000
     },
     "inputWidgets": {},
     "nuid": "5aeca421-9faa-4205-847d-ac1bb1f3953f",
     "showTitle": false,
     "title": ""
    }
   },
   "outputs": [],
   "source": [
    "ja = [\"state\", \"ministry\", \"secretary\", \"minister\"]"
   ]
  },
  {
   "cell_type": "code",
   "execution_count": 0,
   "metadata": {
    "application/vnd.databricks.v1+cell": {
     "cellMetadata": {
      "byteLimit": 2048000,
      "rowLimit": 10000
     },
     "inputWidgets": {},
     "nuid": "e6d9348b-62dc-4f6c-8fe6-1c9b32be311f",
     "showTitle": false,
     "title": ""
    }
   },
   "outputs": [],
   "source": [
    "js = multi_search(ja, \"pr_name\", j)[\"pr_name\"].unique()\n",
    "js"
   ]
  },
  {
   "cell_type": "code",
   "execution_count": 0,
   "metadata": {
    "application/vnd.databricks.v1+cell": {
     "cellMetadata": {
      "byteLimit": 2048000,
      "rowLimit": 10000
     },
     "inputWidgets": {},
     "nuid": "1fbc1fcc-3e16-455f-a425-7514d8daaced",
     "showTitle": false,
     "title": ""
    }
   },
   "outputs": [],
   "source": [
    "moj = new_df(js, \"Ministry of Justice\")"
   ]
  },
  {
   "cell_type": "code",
   "execution_count": 0,
   "metadata": {
    "application/vnd.databricks.v1+cell": {
     "cellMetadata": {
      "byteLimit": 2048000,
      "rowLimit": 10000
     },
     "inputWidgets": {},
     "nuid": "cae52060-4b03-43c4-b4f1-80ec2048907b",
     "showTitle": false,
     "title": ""
    }
   },
   "outputs": [],
   "source": [
    "jp = multi_search(js, \"pr_name\", j)[\"postcode\"].unique()\n",
    "jp"
   ]
  },
  {
   "cell_type": "code",
   "execution_count": 0,
   "metadata": {
    "application/vnd.databricks.v1+cell": {
     "cellMetadata": {
      "byteLimit": 2048000,
      "rowLimit": 10000
     },
     "inputWidgets": {},
     "nuid": "03fe72f6-db56-4618-aef6-d3e8c92225f5",
     "showTitle": false,
     "title": ""
    }
   },
   "outputs": [],
   "source": [
    "jp1 = multi_search(jp, \"postcode\", ccod_lp)[\"pr_name\"].unique()\n",
    "jp1"
   ]
  },
  {
   "cell_type": "code",
   "execution_count": 0,
   "metadata": {
    "application/vnd.databricks.v1+cell": {
     "cellMetadata": {
      "byteLimit": 2048000,
      "rowLimit": 10000
     },
     "inputWidgets": {},
     "nuid": "580d38b5-2305-4a33-8dd3-91e32aeb7c81",
     "showTitle": false,
     "title": ""
    }
   },
   "outputs": [],
   "source": [
    "moj"
   ]
  },
  {
   "cell_type": "code",
   "execution_count": 0,
   "metadata": {
    "application/vnd.databricks.v1+cell": {
     "cellMetadata": {
      "byteLimit": 2048000,
      "rowLimit": 10000
     },
     "inputWidgets": {},
     "nuid": "2c9c8632-7e5b-4ec4-b057-4da5f84fb610",
     "showTitle": false,
     "title": ""
    }
   },
   "outputs": [],
   "source": [
    "lookup_table.append(moj)"
   ]
  },
  {
   "cell_type": "markdown",
   "metadata": {
    "application/vnd.databricks.v1+cell": {
     "cellMetadata": {},
     "inputWidgets": {},
     "nuid": "5d7bcc06-65b0-4c07-82d6-8491b4e3d566",
     "showTitle": false,
     "title": ""
    }
   },
   "source": [
    "#### Hawk and Owl Trust"
   ]
  },
  {
   "cell_type": "code",
   "execution_count": 0,
   "metadata": {
    "application/vnd.databricks.v1+cell": {
     "cellMetadata": {
      "byteLimit": 2048000,
      "rowLimit": 10000
     },
     "inputWidgets": {},
     "nuid": "c951113a-5492-4e30-a131-787ea6bb04fd",
     "showTitle": false,
     "title": ""
    }
   },
   "outputs": [],
   "source": [
    "hwo = [\"hawk and owl\", \"hawk & owl\", \"hawkowl\"]"
   ]
  },
  {
   "cell_type": "code",
   "execution_count": 0,
   "metadata": {
    "application/vnd.databricks.v1+cell": {
     "cellMetadata": {
      "byteLimit": 2048000,
      "rowLimit": 10000
     },
     "inputWidgets": {},
     "nuid": "fc4f5ade-9b22-4cf0-a144-2bf2ad572908",
     "showTitle": false,
     "title": ""
    }
   },
   "outputs": [],
   "source": [
    "hs = multi_search(hwo, \"pr_name\", t)[\"pr_name\"].unique()\n",
    "hs"
   ]
  },
  {
   "cell_type": "code",
   "execution_count": 0,
   "metadata": {
    "application/vnd.databricks.v1+cell": {
     "cellMetadata": {
      "byteLimit": 2048000,
      "rowLimit": 10000
     },
     "inputWidgets": {},
     "nuid": "70c2a1b3-40eb-4c77-80d1-dd693c2574e6",
     "showTitle": false,
     "title": ""
    }
   },
   "outputs": [],
   "source": [
    "unique_values(\"hawk and owl trust\", \"pr_name\", \"pr_name\", ccod_lp)"
   ]
  },
  {
   "cell_type": "code",
   "execution_count": 0,
   "metadata": {
    "application/vnd.databricks.v1+cell": {
     "cellMetadata": {
      "byteLimit": 2048000,
      "rowLimit": 10000
     },
     "inputWidgets": {},
     "nuid": "30911768-88f1-4267-89d4-564c6f51a1a4",
     "showTitle": false,
     "title": ""
    }
   },
   "outputs": [],
   "source": [
    "hwkot = new_df(hs, \"Hawk and Owl Trust\")"
   ]
  },
  {
   "cell_type": "code",
   "execution_count": 0,
   "metadata": {
    "application/vnd.databricks.v1+cell": {
     "cellMetadata": {
      "byteLimit": 2048000,
      "rowLimit": 10000
     },
     "inputWidgets": {},
     "nuid": "59a1c769-5afc-4ea0-a0d0-f4961d5d393d",
     "showTitle": false,
     "title": ""
    }
   },
   "outputs": [],
   "source": [
    "hop = multi_search(hs, \"pr_name\", t)[\"company_reg_no\"].unique()\n",
    "hop"
   ]
  },
  {
   "cell_type": "code",
   "execution_count": 0,
   "metadata": {
    "application/vnd.databricks.v1+cell": {
     "cellMetadata": {
      "byteLimit": 2048000,
      "rowLimit": 10000
     },
     "inputWidgets": {},
     "nuid": "e45c1d5a-2179-4e37-abd0-03afe97cf4fc",
     "showTitle": false,
     "title": ""
    }
   },
   "outputs": [],
   "source": [
    "hop1 = multi_search(hop[:2], \"company_reg_no\", ccod_lp)[\"pr_name\"].unique()\n",
    "hop1"
   ]
  },
  {
   "cell_type": "code",
   "execution_count": 0,
   "metadata": {
    "application/vnd.databricks.v1+cell": {
     "cellMetadata": {
      "byteLimit": 2048000,
      "rowLimit": 10000
     },
     "inputWidgets": {},
     "nuid": "b0d195f5-b8ac-4d4e-82b8-6449112478f0",
     "showTitle": false,
     "title": ""
    }
   },
   "outputs": [],
   "source": [
    "hwkot"
   ]
  },
  {
   "cell_type": "code",
   "execution_count": 0,
   "metadata": {
    "application/vnd.databricks.v1+cell": {
     "cellMetadata": {
      "byteLimit": 2048000,
      "rowLimit": 10000
     },
     "inputWidgets": {},
     "nuid": "8720c74c-1339-4d06-81ab-ac11c191f4d5",
     "showTitle": false,
     "title": ""
    }
   },
   "outputs": [],
   "source": [
    "lookup_table.append(hwkot)"
   ]
  },
  {
   "cell_type": "markdown",
   "metadata": {
    "application/vnd.databricks.v1+cell": {
     "cellMetadata": {},
     "inputWidgets": {},
     "nuid": "515ae640-e7f2-44c8-9a9e-c3e25a4e1491",
     "showTitle": false,
     "title": ""
    }
   },
   "source": [
    "#### Plantlife"
   ]
  },
  {
   "cell_type": "code",
   "execution_count": 0,
   "metadata": {
    "application/vnd.databricks.v1+cell": {
     "cellMetadata": {
      "byteLimit": 2048000,
      "rowLimit": 10000
     },
     "inputWidgets": {},
     "nuid": "d0608d1c-6d50-433d-a59a-f77588d72684",
     "showTitle": false,
     "title": ""
    }
   },
   "outputs": [],
   "source": [
    "p = kwd_df(\"plant\", \"pr_name\", ccod_lp)"
   ]
  },
  {
   "cell_type": "code",
   "execution_count": 0,
   "metadata": {
    "application/vnd.databricks.v1+cell": {
     "cellMetadata": {
      "byteLimit": 2048000,
      "rowLimit": 10000
     },
     "inputWidgets": {},
     "nuid": "fb6f89f7-6c99-4a35-b7e5-9bc3a4c844d8",
     "showTitle": false,
     "title": ""
    }
   },
   "outputs": [],
   "source": [
    "pa = [\"plantlife\", \"plant life\", \"life\"]"
   ]
  },
  {
   "cell_type": "code",
   "execution_count": 0,
   "metadata": {
    "application/vnd.databricks.v1+cell": {
     "cellMetadata": {
      "byteLimit": 2048000,
      "rowLimit": 10000
     },
     "inputWidgets": {},
     "nuid": "6db07f99-47e2-4441-8388-2ad5c2195d9d",
     "showTitle": false,
     "title": ""
    }
   },
   "outputs": [],
   "source": [
    "ps = multi_search(pa, \"pr_name\", p)[\"pr_name\"].unique()\n",
    "ps"
   ]
  },
  {
   "cell_type": "code",
   "execution_count": 0,
   "metadata": {
    "application/vnd.databricks.v1+cell": {
     "cellMetadata": {
      "byteLimit": 2048000,
      "rowLimit": 10000
     },
     "inputWidgets": {},
     "nuid": "79edcf7c-93a4-4e43-bfd9-c9e0a3b245af",
     "showTitle": false,
     "title": ""
    }
   },
   "outputs": [],
   "source": [
    "plal = new_df(ps, \"PlantLife\")"
   ]
  },
  {
   "cell_type": "code",
   "execution_count": 0,
   "metadata": {
    "application/vnd.databricks.v1+cell": {
     "cellMetadata": {
      "byteLimit": 2048000,
      "rowLimit": 10000
     },
     "inputWidgets": {},
     "nuid": "750c3dbd-4c91-4754-903f-bcf12b69db83",
     "showTitle": false,
     "title": ""
    }
   },
   "outputs": [],
   "source": [
    "pp = multi_search(ps, \"pr_name\", m)[\"postcode\"].unique()\n",
    "pp"
   ]
  },
  {
   "cell_type": "code",
   "execution_count": 0,
   "metadata": {
    "application/vnd.databricks.v1+cell": {
     "cellMetadata": {
      "byteLimit": 2048000,
      "rowLimit": 10000
     },
     "inputWidgets": {},
     "nuid": "3d6c0c36-4fb1-4428-86a1-f30086f4bbc8",
     "showTitle": false,
     "title": ""
    }
   },
   "outputs": [],
   "source": [
    "pp1 = multi_search(pp, \"postcode\", ccod_lp)[\"pr_name\"].unique()\n",
    "pp1"
   ]
  },
  {
   "cell_type": "code",
   "execution_count": 0,
   "metadata": {
    "application/vnd.databricks.v1+cell": {
     "cellMetadata": {
      "byteLimit": 2048000,
      "rowLimit": 10000
     },
     "inputWidgets": {},
     "nuid": "5769f14e-bc22-4de6-82d7-54e86a799c92",
     "showTitle": false,
     "title": ""
    }
   },
   "outputs": [],
   "source": [
    "pp2 = multi_search(ps, \"pr_name\", m)[\"company_reg_no\"].unique()\n",
    "pp2"
   ]
  },
  {
   "cell_type": "code",
   "execution_count": 0,
   "metadata": {
    "application/vnd.databricks.v1+cell": {
     "cellMetadata": {
      "byteLimit": 2048000,
      "rowLimit": 10000
     },
     "inputWidgets": {},
     "nuid": "1830db43-7fbb-444d-9ba0-6fd49c781c3e",
     "showTitle": false,
     "title": ""
    }
   },
   "outputs": [],
   "source": [
    "pp3 = multi_search(pp2[1:], \"company_reg_no\", ccod_lp)[\"pr_name\"].unique()\n",
    "pp3"
   ]
  },
  {
   "cell_type": "code",
   "execution_count": 0,
   "metadata": {
    "application/vnd.databricks.v1+cell": {
     "cellMetadata": {
      "byteLimit": 2048000,
      "rowLimit": 10000
     },
     "inputWidgets": {},
     "nuid": "c5c8a8b0-d227-4dde-9330-711fba009729",
     "showTitle": false,
     "title": ""
    }
   },
   "outputs": [],
   "source": [
    "plal1 = append_rows(pp3, plal)"
   ]
  },
  {
   "cell_type": "code",
   "execution_count": 0,
   "metadata": {
    "application/vnd.databricks.v1+cell": {
     "cellMetadata": {
      "byteLimit": 2048000,
      "rowLimit": 10000
     },
     "inputWidgets": {},
     "nuid": "e45bb9f8-1b70-4ae1-85e0-ba863f448f81",
     "showTitle": false,
     "title": ""
    }
   },
   "outputs": [],
   "source": [
    "lookup_table.append(plal1)"
   ]
  },
  {
   "cell_type": "markdown",
   "metadata": {
    "application/vnd.databricks.v1+cell": {
     "cellMetadata": {},
     "inputWidgets": {},
     "nuid": "2452372d-a000-494d-839f-fcfcfcb00b88",
     "showTitle": false,
     "title": ""
    }
   },
   "source": [
    "#### Wildfowl and Wetlands Trust"
   ]
  },
  {
   "cell_type": "code",
   "execution_count": 0,
   "metadata": {
    "application/vnd.databricks.v1+cell": {
     "cellMetadata": {
      "byteLimit": 2048000,
      "rowLimit": 10000
     },
     "inputWidgets": {},
     "nuid": "5af4aaab-0041-4ab9-b328-161aeb94dadc",
     "showTitle": false,
     "title": ""
    }
   },
   "outputs": [],
   "source": [
    "wfwl = [\"wildfowl\", \"wetland\"]"
   ]
  },
  {
   "cell_type": "code",
   "execution_count": 0,
   "metadata": {
    "application/vnd.databricks.v1+cell": {
     "cellMetadata": {
      "byteLimit": 2048000,
      "rowLimit": 10000
     },
     "inputWidgets": {},
     "nuid": "1ba5eb94-c1d6-4216-94f9-1992bddda086",
     "showTitle": false,
     "title": ""
    }
   },
   "outputs": [],
   "source": [
    "wfs = multi_search(wfwl, \"pr_name\", t)[\"pr_name\"].unique()\n",
    "wfs"
   ]
  },
  {
   "cell_type": "code",
   "execution_count": 0,
   "metadata": {
    "application/vnd.databricks.v1+cell": {
     "cellMetadata": {
      "byteLimit": 2048000,
      "rowLimit": 10000
     },
     "inputWidgets": {},
     "nuid": "0ba04e88-c9a7-4e6e-9eed-d21be105741b",
     "showTitle": false,
     "title": ""
    }
   },
   "outputs": [],
   "source": [
    "wlfwtlt = new_df([wfs[3], wfs[5]], \"Wildfowl and Wetlands Trust\")\n",
    "wlfwtlt"
   ]
  },
  {
   "cell_type": "code",
   "execution_count": 0,
   "metadata": {
    "application/vnd.databricks.v1+cell": {
     "cellMetadata": {
      "byteLimit": 2048000,
      "rowLimit": 10000
     },
     "inputWidgets": {},
     "nuid": "5aa83851-9491-4231-9acf-8570c39bc58e",
     "showTitle": false,
     "title": ""
    }
   },
   "outputs": [],
   "source": [
    "wfp = multi_search(wlfwtlt[\"CCOD\"].values, \"pr_name\", t)[\"postcode\"].unique()\n",
    "wfp"
   ]
  },
  {
   "cell_type": "code",
   "execution_count": 0,
   "metadata": {
    "application/vnd.databricks.v1+cell": {
     "cellMetadata": {
      "byteLimit": 2048000,
      "rowLimit": 10000
     },
     "inputWidgets": {},
     "nuid": "eb704249-9068-43ce-b2d2-e33afc3d4e43",
     "showTitle": false,
     "title": ""
    }
   },
   "outputs": [],
   "source": [
    "wfpp = multi_search(wfp, \"postcode\", ccod_lp)[\"pr_name\"].unique()\n",
    "wfpp"
   ]
  },
  {
   "cell_type": "code",
   "execution_count": 0,
   "metadata": {
    "application/vnd.databricks.v1+cell": {
     "cellMetadata": {
      "byteLimit": 2048000,
      "rowLimit": 10000
     },
     "inputWidgets": {},
     "nuid": "980d8d8e-3c46-4332-a468-4a714f18a7bc",
     "showTitle": false,
     "title": ""
    }
   },
   "outputs": [],
   "source": [
    "wlfwtlt1 = append_rows(wfpp, wlfwtlt)\n",
    "wlfwtlt1"
   ]
  },
  {
   "cell_type": "code",
   "execution_count": 0,
   "metadata": {
    "application/vnd.databricks.v1+cell": {
     "cellMetadata": {
      "byteLimit": 2048000,
      "rowLimit": 10000
     },
     "inputWidgets": {},
     "nuid": "13c4a112-123b-49cd-9943-3f6b20c5cfa4",
     "showTitle": false,
     "title": ""
    }
   },
   "outputs": [],
   "source": [
    "lookup_table.append(wlfwtlt1)"
   ]
  },
  {
   "cell_type": "markdown",
   "metadata": {
    "application/vnd.databricks.v1+cell": {
     "cellMetadata": {},
     "inputWidgets": {},
     "nuid": "82537d90-c769-477c-af73-0f4f34b4c4ac",
     "showTitle": false,
     "title": ""
    }
   },
   "source": [
    "#### Butterfly Conservation"
   ]
  },
  {
   "cell_type": "code",
   "execution_count": 0,
   "metadata": {
    "application/vnd.databricks.v1+cell": {
     "cellMetadata": {
      "byteLimit": 2048000,
      "rowLimit": 10000
     },
     "inputWidgets": {},
     "nuid": "6debbc1d-e193-412f-aacd-cf3bfb1ba66e",
     "showTitle": false,
     "title": ""
    }
   },
   "outputs": [],
   "source": [
    "c = kwd_df(\"conserv\", \"pr_name\", ccod_lp)"
   ]
  },
  {
   "cell_type": "code",
   "execution_count": 0,
   "metadata": {
    "application/vnd.databricks.v1+cell": {
     "cellMetadata": {
      "byteLimit": 2048000,
      "rowLimit": 10000
     },
     "inputWidgets": {},
     "nuid": "cf45caec-f964-48f1-ac75-86f08155ff74",
     "showTitle": false,
     "title": ""
    }
   },
   "outputs": [],
   "source": [
    "bca = [\"butterfly\", \"butterfly conservation\"]"
   ]
  },
  {
   "cell_type": "code",
   "execution_count": 0,
   "metadata": {
    "application/vnd.databricks.v1+cell": {
     "cellMetadata": {
      "byteLimit": 2048000,
      "rowLimit": 10000
     },
     "inputWidgets": {},
     "nuid": "9275cbc3-0692-47f5-b5ea-8ff5470e2b61",
     "showTitle": false,
     "title": ""
    }
   },
   "outputs": [],
   "source": [
    "bcs = multi_search(bca, \"pr_name\", c)[\"pr_name\"].unique()\n",
    "bcs"
   ]
  },
  {
   "cell_type": "code",
   "execution_count": 0,
   "metadata": {
    "application/vnd.databricks.v1+cell": {
     "cellMetadata": {
      "byteLimit": 2048000,
      "rowLimit": 10000
     },
     "inputWidgets": {},
     "nuid": "60d21f33-76a4-4f50-86d4-b0dbdf9b8ac7",
     "showTitle": false,
     "title": ""
    }
   },
   "outputs": [],
   "source": [
    "buco = new_df(bcs, \"Butterfly Conservation\")"
   ]
  },
  {
   "cell_type": "code",
   "execution_count": 0,
   "metadata": {
    "application/vnd.databricks.v1+cell": {
     "cellMetadata": {
      "byteLimit": 2048000,
      "rowLimit": 10000
     },
     "inputWidgets": {},
     "nuid": "f68ea9f4-426f-49f8-8c89-3e037a48e111",
     "showTitle": false,
     "title": ""
    }
   },
   "outputs": [],
   "source": [
    "bcp = multi_search(bcs, \"pr_name\", c)[\"postcode\"].unique()\n",
    "bcp"
   ]
  },
  {
   "cell_type": "code",
   "execution_count": 0,
   "metadata": {
    "application/vnd.databricks.v1+cell": {
     "cellMetadata": {
      "byteLimit": 2048000,
      "rowLimit": 10000
     },
     "inputWidgets": {},
     "nuid": "a20e9030-0c15-4f3b-8b8d-e3471ef614c9",
     "showTitle": false,
     "title": ""
    }
   },
   "outputs": [],
   "source": [
    "bcp1 = multi_search(bcp, \"postcode\", ccod_lp)[\"pr_name\"].unique()\n",
    "bcp1"
   ]
  },
  {
   "cell_type": "code",
   "execution_count": 0,
   "metadata": {
    "application/vnd.databricks.v1+cell": {
     "cellMetadata": {
      "byteLimit": 2048000,
      "rowLimit": 10000
     },
     "inputWidgets": {},
     "nuid": "da953db3-caf2-458e-8943-5c3cf3ef4653",
     "showTitle": false,
     "title": ""
    }
   },
   "outputs": [],
   "source": [
    "bcp2 = multi_search(bcs, \"pr_name\", c)[\"company_reg_no\"].unique()\n",
    "bcp2"
   ]
  },
  {
   "cell_type": "code",
   "execution_count": 0,
   "metadata": {
    "application/vnd.databricks.v1+cell": {
     "cellMetadata": {
      "byteLimit": 2048000,
      "rowLimit": 10000
     },
     "inputWidgets": {},
     "nuid": "ce263c8e-eacb-4eca-938e-f4ad42a4b722",
     "showTitle": false,
     "title": ""
    }
   },
   "outputs": [],
   "source": [
    "bcp3 = multi_search([bcp2[0], bcp2[2]], \"company_reg_no\", ccod_lp)[\"pr_name\"].unique()\n",
    "bcp3"
   ]
  },
  {
   "cell_type": "code",
   "execution_count": 0,
   "metadata": {
    "application/vnd.databricks.v1+cell": {
     "cellMetadata": {
      "byteLimit": 2048000,
      "rowLimit": 10000
     },
     "inputWidgets": {},
     "nuid": "d932041c-25c9-4794-8693-859ebff0a412",
     "showTitle": false,
     "title": ""
    }
   },
   "outputs": [],
   "source": [
    "buco"
   ]
  },
  {
   "cell_type": "code",
   "execution_count": 0,
   "metadata": {
    "application/vnd.databricks.v1+cell": {
     "cellMetadata": {
      "byteLimit": 2048000,
      "rowLimit": 10000
     },
     "inputWidgets": {},
     "nuid": "a866581a-6b55-4959-977a-937a7a51075e",
     "showTitle": false,
     "title": ""
    }
   },
   "outputs": [],
   "source": [
    "lookup_table.append(buco)"
   ]
  },
  {
   "cell_type": "markdown",
   "metadata": {
    "application/vnd.databricks.v1+cell": {
     "cellMetadata": {},
     "inputWidgets": {},
     "nuid": "7965d543-e5bb-409f-8935-84fab63fb55f",
     "showTitle": false,
     "title": ""
    }
   },
   "source": [
    "#### RSPB"
   ]
  },
  {
   "cell_type": "code",
   "execution_count": 0,
   "metadata": {
    "application/vnd.databricks.v1+cell": {
     "cellMetadata": {
      "byteLimit": 2048000,
      "rowLimit": 10000
     },
     "inputWidgets": {},
     "nuid": "bbc517fa-2774-420a-b44f-e53e1cf3da93",
     "showTitle": false,
     "title": ""
    }
   },
   "outputs": [],
   "source": [
    "b = kwd_df(\"bird\", \"pr_name\", ccod_lp)"
   ]
  },
  {
   "cell_type": "code",
   "execution_count": 0,
   "metadata": {
    "application/vnd.databricks.v1+cell": {
     "cellMetadata": {
      "byteLimit": 2048000,
      "rowLimit": 10000
     },
     "inputWidgets": {},
     "nuid": "6456e939-9267-4c06-9844-f7461e85aee6",
     "showTitle": false,
     "title": ""
    }
   },
   "outputs": [],
   "source": [
    "ba = [\"royal\", \"society\", \"protection\"]"
   ]
  },
  {
   "cell_type": "code",
   "execution_count": 0,
   "metadata": {
    "application/vnd.databricks.v1+cell": {
     "cellMetadata": {
      "byteLimit": 2048000,
      "rowLimit": 10000
     },
     "inputWidgets": {},
     "nuid": "7ddf3531-66da-4670-acb7-d3275016e82c",
     "showTitle": false,
     "title": ""
    }
   },
   "outputs": [],
   "source": [
    "bs = multi_search(ba, \"pr_name\", b)[\"pr_name\"].unique()\n",
    "bs"
   ]
  },
  {
   "cell_type": "code",
   "execution_count": 0,
   "metadata": {
    "application/vnd.databricks.v1+cell": {
     "cellMetadata": {
      "byteLimit": 2048000,
      "rowLimit": 10000
     },
     "inputWidgets": {},
     "nuid": "08fdd6ec-ab2a-4808-9950-ac5aa68d1929",
     "showTitle": false,
     "title": ""
    }
   },
   "outputs": [],
   "source": [
    "rspb = new_df(bs[:3], \"RSPB\")\n",
    "rspb"
   ]
  },
  {
   "cell_type": "code",
   "execution_count": 0,
   "metadata": {
    "application/vnd.databricks.v1+cell": {
     "cellMetadata": {
      "byteLimit": 2048000,
      "rowLimit": 10000
     },
     "inputWidgets": {},
     "nuid": "85dc3cc0-a286-426d-88d5-9e93fd2e95f0",
     "showTitle": false,
     "title": ""
    }
   },
   "outputs": [],
   "source": [
    "bp = multi_search(rspb[\"CCOD\"].values, \"pr_name\", b)[\"postcode\"].unique()\n",
    "bp"
   ]
  },
  {
   "cell_type": "code",
   "execution_count": 0,
   "metadata": {
    "application/vnd.databricks.v1+cell": {
     "cellMetadata": {
      "byteLimit": 2048000,
      "rowLimit": 10000
     },
     "inputWidgets": {},
     "nuid": "3a188652-7886-4187-a817-dd86c89e8017",
     "showTitle": false,
     "title": ""
    }
   },
   "outputs": [],
   "source": [
    "bp1 = multi_search(bp, \"postcode\", ccod_lp)[\"pr_name\"].unique()\n",
    "bp1"
   ]
  },
  {
   "cell_type": "code",
   "execution_count": 0,
   "metadata": {
    "application/vnd.databricks.v1+cell": {
     "cellMetadata": {
      "byteLimit": 2048000,
      "rowLimit": 10000
     },
     "inputWidgets": {},
     "nuid": "7c42347c-4d6e-41c6-8b2f-60b3fa535ef8",
     "showTitle": false,
     "title": ""
    }
   },
   "outputs": [],
   "source": [
    "bp2 = multi_search(rspb[\"CCOD\"].values, \"pr_name\", b)[\"company_reg_no\"].unique()\n",
    "bp2"
   ]
  },
  {
   "cell_type": "code",
   "execution_count": 0,
   "metadata": {
    "application/vnd.databricks.v1+cell": {
     "cellMetadata": {
      "byteLimit": 2048000,
      "rowLimit": 10000
     },
     "inputWidgets": {},
     "nuid": "bd9b70dc-4f53-4762-a6a5-78b522a30e0c",
     "showTitle": false,
     "title": ""
    }
   },
   "outputs": [],
   "source": [
    "bp3 = multi_search(bp2[1:], \"company_reg_no\", ccod_lp)[\"pr_name\"].unique()\n",
    "bp3"
   ]
  },
  {
   "cell_type": "code",
   "execution_count": 0,
   "metadata": {
    "application/vnd.databricks.v1+cell": {
     "cellMetadata": {
      "byteLimit": 2048000,
      "rowLimit": 10000
     },
     "inputWidgets": {},
     "nuid": "34b31b3b-0930-4954-8229-f1929a961c99",
     "showTitle": false,
     "title": ""
    }
   },
   "outputs": [],
   "source": [
    "rspb"
   ]
  },
  {
   "cell_type": "code",
   "execution_count": 0,
   "metadata": {
    "application/vnd.databricks.v1+cell": {
     "cellMetadata": {
      "byteLimit": 2048000,
      "rowLimit": 10000
     },
     "inputWidgets": {},
     "nuid": "e61ad86c-780c-42aa-bf69-88cef6844a03",
     "showTitle": false,
     "title": ""
    }
   },
   "outputs": [],
   "source": [
    "lookup_table.append(rspb)"
   ]
  },
  {
   "cell_type": "markdown",
   "metadata": {
    "application/vnd.databricks.v1+cell": {
     "cellMetadata": {},
     "inputWidgets": {},
     "nuid": "9e2cf4e9-913a-4fe8-a68b-2ce9e2302be6",
     "showTitle": false,
     "title": ""
    }
   },
   "source": [
    "### National Trust"
   ]
  },
  {
   "cell_type": "code",
   "execution_count": 0,
   "metadata": {
    "application/vnd.databricks.v1+cell": {
     "cellMetadata": {
      "byteLimit": 2048000,
      "rowLimit": 10000
     },
     "inputWidgets": {},
     "nuid": "0897bbd3-7718-4330-8a51-1ba5feaf2341",
     "showTitle": false,
     "title": ""
    }
   },
   "outputs": [],
   "source": [
    "nt = kwd_df(\"national trust\", \"pr_name\", ccod_lp)"
   ]
  },
  {
   "cell_type": "code",
   "execution_count": 0,
   "metadata": {
    "application/vnd.databricks.v1+cell": {
     "cellMetadata": {
      "byteLimit": 2048000,
      "rowLimit": 10000
     },
     "inputWidgets": {},
     "nuid": "2035d3a9-e0e6-4894-8cdd-dd6759055812",
     "showTitle": false,
     "title": ""
    }
   },
   "outputs": [],
   "source": [
    "nt[\"pr_name\"].unique()"
   ]
  },
  {
   "cell_type": "code",
   "execution_count": 0,
   "metadata": {
    "application/vnd.databricks.v1+cell": {
     "cellMetadata": {
      "byteLimit": 2048000,
      "rowLimit": 10000
     },
     "inputWidgets": {},
     "nuid": "e897ce90-22d9-49a4-9e31-29ee5a9e2a92",
     "showTitle": false,
     "title": ""
    }
   },
   "outputs": [],
   "source": [
    "nta = [\"national trust company\", \"historic\", \"the national trust\"]"
   ]
  },
  {
   "cell_type": "code",
   "execution_count": 0,
   "metadata": {
    "application/vnd.databricks.v1+cell": {
     "cellMetadata": {
      "byteLimit": 2048000,
      "rowLimit": 10000
     },
     "inputWidgets": {},
     "nuid": "fc6647f6-03f8-465f-8a28-f121cb6d9598",
     "showTitle": false,
     "title": ""
    }
   },
   "outputs": [],
   "source": [
    "nts = multi_search(nta, \"pr_name\", nt)[\"pr_name\"].unique()"
   ]
  },
  {
   "cell_type": "code",
   "execution_count": 0,
   "metadata": {
    "application/vnd.databricks.v1+cell": {
     "cellMetadata": {
      "byteLimit": 2048000,
      "rowLimit": 10000
     },
     "inputWidgets": {},
     "nuid": "76e170e0-80bd-445e-8422-ada766c9dd59",
     "showTitle": false,
     "title": ""
    }
   },
   "outputs": [],
   "source": [
    "nts"
   ]
  },
  {
   "cell_type": "code",
   "execution_count": 0,
   "metadata": {
    "application/vnd.databricks.v1+cell": {
     "cellMetadata": {
      "byteLimit": 2048000,
      "rowLimit": 10000
     },
     "inputWidgets": {},
     "nuid": "dd961900-cd1c-412f-a9f1-73f139ace216",
     "showTitle": false,
     "title": ""
    }
   },
   "outputs": [],
   "source": [
    "ntdf = new_df(nts[4:], \"National Trust\")\n",
    "ntdf"
   ]
  },
  {
   "cell_type": "code",
   "execution_count": 0,
   "metadata": {
    "application/vnd.databricks.v1+cell": {
     "cellMetadata": {
      "byteLimit": 2048000,
      "rowLimit": 10000
     },
     "inputWidgets": {},
     "nuid": "5811f832-7c03-4aa0-897e-60c67b3ac089",
     "showTitle": false,
     "title": ""
    }
   },
   "outputs": [],
   "source": [
    "ntp = multi_search(ntdf[\"CCOD\"].values, \"pr_name\", ccod_lp)[\"postcode\"].unique()\n",
    "ntp"
   ]
  },
  {
   "cell_type": "code",
   "execution_count": 0,
   "metadata": {
    "application/vnd.databricks.v1+cell": {
     "cellMetadata": {
      "byteLimit": 2048000,
      "rowLimit": 10000
     },
     "inputWidgets": {},
     "nuid": "6014475d-88a6-448b-bbee-64834bb7d5f3",
     "showTitle": false,
     "title": ""
    }
   },
   "outputs": [],
   "source": [
    "ntp1 = multi_search(ntp[3:], \"postcode\", ccod_lp)[\"pr_name\"].unique()\n",
    "ntp1"
   ]
  },
  {
   "cell_type": "code",
   "execution_count": 0,
   "metadata": {
    "application/vnd.databricks.v1+cell": {
     "cellMetadata": {
      "byteLimit": 2048000,
      "rowLimit": 10000
     },
     "inputWidgets": {},
     "nuid": "1e534083-b481-4b4f-a568-d6e67c4817e7",
     "showTitle": false,
     "title": ""
    }
   },
   "outputs": [],
   "source": [
    "ntdf1 = append_rows([ntp1[9],ntp1[-1]], ntdf)"
   ]
  },
  {
   "cell_type": "code",
   "execution_count": 0,
   "metadata": {
    "application/vnd.databricks.v1+cell": {
     "cellMetadata": {
      "byteLimit": 2048000,
      "rowLimit": 10000
     },
     "inputWidgets": {},
     "nuid": "987effa0-2c17-4fb4-b696-00e3ca6ccc14",
     "showTitle": false,
     "title": ""
    }
   },
   "outputs": [],
   "source": [
    "ntp2 = multi_search(ntp[:2], \"postcode\", ccod_lp)[\"pr_name\"].unique()\n",
    "ntp2"
   ]
  },
  {
   "cell_type": "code",
   "execution_count": 0,
   "metadata": {
    "application/vnd.databricks.v1+cell": {
     "cellMetadata": {
      "byteLimit": 2048000,
      "rowLimit": 10000
     },
     "inputWidgets": {},
     "nuid": "c3572f69-7642-43b9-bfd5-b8cdb263a13a",
     "showTitle": false,
     "title": ""
    }
   },
   "outputs": [],
   "source": [
    "ntdf2 = append_rows(ntp2, ntdf1).drop([16])\n",
    "ntdf2"
   ]
  },
  {
   "cell_type": "code",
   "execution_count": 0,
   "metadata": {
    "application/vnd.databricks.v1+cell": {
     "cellMetadata": {
      "byteLimit": 2048000,
      "rowLimit": 10000
     },
     "inputWidgets": {},
     "nuid": "00407412-51a5-4f2c-86ea-e4ead5d2252d",
     "showTitle": false,
     "title": ""
    }
   },
   "outputs": [],
   "source": [
    "ntp3 = multi_search(ntdf2[\"CCOD\"].values, \"pr_name\", ccod_lp)[\"company_reg_no\"].unique()\n",
    "ntp3"
   ]
  },
  {
   "cell_type": "code",
   "execution_count": 0,
   "metadata": {
    "application/vnd.databricks.v1+cell": {
     "cellMetadata": {
      "byteLimit": 2048000,
      "rowLimit": 10000
     },
     "inputWidgets": {},
     "nuid": "174e7b14-3f7f-4d29-b7be-2b79fe4c60f6",
     "showTitle": false,
     "title": ""
    }
   },
   "outputs": [],
   "source": [
    "ntp4 = multi_search(ntp3[1:], \"company_reg_no\", ccod_lp)[\"pr_name\"].unique()\n",
    "ntp4"
   ]
  },
  {
   "cell_type": "code",
   "execution_count": 0,
   "metadata": {
    "application/vnd.databricks.v1+cell": {
     "cellMetadata": {
      "byteLimit": 2048000,
      "rowLimit": 10000
     },
     "inputWidgets": {},
     "nuid": "3ce3290f-0c41-4b7a-8985-95f33434d0cd",
     "showTitle": false,
     "title": ""
    }
   },
   "outputs": [],
   "source": [
    "lookup_table.append(ntdf2)"
   ]
  },
  {
   "cell_type": "markdown",
   "metadata": {
    "application/vnd.databricks.v1+cell": {
     "cellMetadata": {},
     "inputWidgets": {},
     "nuid": "fc03713d-07e0-427e-b350-29b278bb0db8",
     "showTitle": false,
     "title": ""
    }
   },
   "source": [
    "### Forestry Commission"
   ]
  },
  {
   "cell_type": "code",
   "execution_count": 0,
   "metadata": {
    "application/vnd.databricks.v1+cell": {
     "cellMetadata": {
      "byteLimit": 2048000,
      "rowLimit": 10000
     },
     "inputWidgets": {},
     "nuid": "794592fd-a3ff-41f3-9763-e8029dbb511e",
     "showTitle": false,
     "title": ""
    }
   },
   "outputs": [],
   "source": [
    "f = kwd_df(\"forest\", \"pr_name\", ccod_lp)"
   ]
  },
  {
   "cell_type": "code",
   "execution_count": 0,
   "metadata": {
    "application/vnd.databricks.v1+cell": {
     "cellMetadata": {
      "byteLimit": 2048000,
      "rowLimit": 10000
     },
     "inputWidgets": {},
     "nuid": "936e867a-103a-4d36-8d08-cdb99a42ea00",
     "showTitle": false,
     "title": ""
    }
   },
   "outputs": [],
   "source": [
    "fa = [\"commission\", \"england\", \"public\"]"
   ]
  },
  {
   "cell_type": "code",
   "execution_count": 0,
   "metadata": {
    "application/vnd.databricks.v1+cell": {
     "cellMetadata": {
      "byteLimit": 2048000,
      "rowLimit": 10000
     },
     "inputWidgets": {},
     "nuid": "f232948e-cb80-46da-b2ff-b980b6e1ae68",
     "showTitle": false,
     "title": ""
    }
   },
   "outputs": [],
   "source": [
    "fs = multi_search(fa, \"pr_name\", f)[\"pr_name\"].unique()\n",
    "fs"
   ]
  },
  {
   "cell_type": "code",
   "execution_count": 0,
   "metadata": {
    "application/vnd.databricks.v1+cell": {
     "cellMetadata": {
      "byteLimit": 2048000,
      "rowLimit": 10000
     },
     "inputWidgets": {},
     "nuid": "2d5c13f0-5e9b-491e-9f23-a695aa173771",
     "showTitle": false,
     "title": ""
    }
   },
   "outputs": [],
   "source": [
    "ccod_lp[ccod_lp[\"pr_name\"].str.contains(fs[0], regex=False, na=False)][\"postcode\"].unique()"
   ]
  },
  {
   "cell_type": "code",
   "execution_count": 0,
   "metadata": {
    "application/vnd.databricks.v1+cell": {
     "cellMetadata": {
      "byteLimit": 2048000,
      "rowLimit": 10000
     },
     "inputWidgets": {},
     "nuid": "9d1a1eec-d1ae-44e9-b1bd-32004cd2d057",
     "showTitle": false,
     "title": ""
    }
   },
   "outputs": [],
   "source": [
    "ccod_lp[ccod_lp[\"pr_name\"].str.contains(fs[0], regex=False, na=False)][\"company_reg_no\"].unique()"
   ]
  },
  {
   "cell_type": "code",
   "execution_count": 0,
   "metadata": {
    "application/vnd.databricks.v1+cell": {
     "cellMetadata": {
      "byteLimit": 2048000,
      "rowLimit": 10000
     },
     "inputWidgets": {},
     "nuid": "c04db802-eb85-433b-a6af-6b91b0530c46",
     "showTitle": false,
     "title": ""
    }
   },
   "outputs": [],
   "source": [
    "fs_ad = ccod_lp[ccod_lp[\"pr_name\"].str.contains(fs[0], regex=False, na=False)][\"pr_address\"].unique()"
   ]
  },
  {
   "cell_type": "code",
   "execution_count": 0,
   "metadata": {
    "application/vnd.databricks.v1+cell": {
     "cellMetadata": {
      "byteLimit": 2048000,
      "rowLimit": 10000
     },
     "inputWidgets": {},
     "nuid": "7a1f3ce6-97b6-4a5c-8831-3baff46e651d",
     "showTitle": false,
     "title": ""
    }
   },
   "outputs": [],
   "source": [
    "fs_ad"
   ]
  },
  {
   "cell_type": "code",
   "execution_count": 0,
   "metadata": {
    "application/vnd.databricks.v1+cell": {
     "cellMetadata": {
      "byteLimit": 2048000,
      "rowLimit": 10000
     },
     "inputWidgets": {},
     "nuid": "85e259c4-9782-4cae-b0cd-d01a5c331728",
     "showTitle": false,
     "title": ""
    }
   },
   "outputs": [],
   "source": [
    "kwd_df(fs_ad[0], \"pr_address\", ccod_lp)"
   ]
  },
  {
   "cell_type": "code",
   "execution_count": 0,
   "metadata": {
    "application/vnd.databricks.v1+cell": {
     "cellMetadata": {
      "byteLimit": 2048000,
      "rowLimit": 10000
     },
     "inputWidgets": {},
     "nuid": "56be9d82-8e3a-4b41-af8c-fc64d7736a7b",
     "showTitle": false,
     "title": ""
    }
   },
   "outputs": [],
   "source": [
    "fsdf = new_df(fs, \"Forestry Commission\", [0])\n",
    "fsdf"
   ]
  },
  {
   "cell_type": "code",
   "execution_count": 0,
   "metadata": {
    "application/vnd.databricks.v1+cell": {
     "cellMetadata": {
      "byteLimit": 2048000,
      "rowLimit": 10000
     },
     "inputWidgets": {},
     "nuid": "ac47ac8c-9628-40a5-8000-73a795bcec71",
     "showTitle": false,
     "title": ""
    }
   },
   "outputs": [],
   "source": [
    "lookup_table.append(fsdf)"
   ]
  },
  {
   "cell_type": "markdown",
   "metadata": {
    "application/vnd.databricks.v1+cell": {
     "cellMetadata": {},
     "inputWidgets": {},
     "nuid": "3873abf2-27ee-4e92-9c7c-98a58cf3e791",
     "showTitle": false,
     "title": ""
    }
   },
   "source": [
    "### Environment Agency"
   ]
  },
  {
   "cell_type": "code",
   "execution_count": 0,
   "metadata": {
    "application/vnd.databricks.v1+cell": {
     "cellMetadata": {
      "byteLimit": 2048000,
      "rowLimit": 10000
     },
     "inputWidgets": {},
     "nuid": "f0413670-117c-4565-8773-87a21f2ab00e",
     "showTitle": false,
     "title": ""
    }
   },
   "outputs": [],
   "source": [
    "ea = kwd_df(\"environment agency\", \"pr_name\", ccod_lp)\n",
    "ea"
   ]
  },
  {
   "cell_type": "code",
   "execution_count": 0,
   "metadata": {
    "application/vnd.databricks.v1+cell": {
     "cellMetadata": {
      "byteLimit": 2048000,
      "rowLimit": 10000
     },
     "inputWidgets": {},
     "nuid": "79744839-2a1d-4528-86b6-aeaba52dc292",
     "showTitle": false,
     "title": ""
    }
   },
   "outputs": [],
   "source": [
    "ea[\"pr_name\"].unique()"
   ]
  },
  {
   "cell_type": "code",
   "execution_count": 0,
   "metadata": {
    "application/vnd.databricks.v1+cell": {
     "cellMetadata": {
      "byteLimit": 2048000,
      "rowLimit": 10000
     },
     "inputWidgets": {},
     "nuid": "e3215c34-0b26-42cd-b8fc-7d118b9bba90",
     "showTitle": false,
     "title": ""
    }
   },
   "outputs": [],
   "source": [
    "eadf = new_df(ea[\"pr_name\"].unique(), \"Environment Agency\")\n",
    "eadf"
   ]
  },
  {
   "cell_type": "code",
   "execution_count": 0,
   "metadata": {
    "application/vnd.databricks.v1+cell": {
     "cellMetadata": {
      "byteLimit": 2048000,
      "rowLimit": 10000
     },
     "inputWidgets": {},
     "nuid": "2639cb2a-4699-42ea-8583-ab2f164dfadd",
     "showTitle": false,
     "title": ""
    }
   },
   "outputs": [],
   "source": [
    "ea_p = ea[\"postcode\"].unique()\n",
    "ea_p"
   ]
  },
  {
   "cell_type": "code",
   "execution_count": 0,
   "metadata": {
    "application/vnd.databricks.v1+cell": {
     "cellMetadata": {
      "byteLimit": 2048000,
      "rowLimit": 10000
     },
     "inputWidgets": {},
     "nuid": "b9c00948-5eb4-457a-9c0b-20056f54c25a",
     "showTitle": false,
     "title": ""
    }
   },
   "outputs": [],
   "source": [
    "eap = multi_search(ea_p[1:], \"postcode\", ccod_lp)[\"pr_name\"].unique()\n",
    "eap"
   ]
  },
  {
   "cell_type": "code",
   "execution_count": 0,
   "metadata": {
    "application/vnd.databricks.v1+cell": {
     "cellMetadata": {
      "byteLimit": 2048000,
      "rowLimit": 10000
     },
     "inputWidgets": {},
     "nuid": "eb917a88-74a2-40f2-9c0b-9aa1cc9f9522",
     "showTitle": false,
     "title": ""
    }
   },
   "outputs": [],
   "source": [
    "eadf1 = append_rows(eap, eadf).drop([4, 5, 6, 7, 11, 12, 13, 14, 15, 16, 17, 19, 20, 21, 23, 24, 25]).reset_index(drop = True)\n",
    "eadf1"
   ]
  },
  {
   "cell_type": "code",
   "execution_count": 0,
   "metadata": {
    "application/vnd.databricks.v1+cell": {
     "cellMetadata": {
      "byteLimit": 2048000,
      "rowLimit": 10000
     },
     "inputWidgets": {},
     "nuid": "e901e1c9-7c5e-4157-a768-72aaec22ee9c",
     "showTitle": false,
     "title": ""
    }
   },
   "outputs": [],
   "source": [
    "eap2 = multi_search(eadf1[\"CCOD\"].values, \"pr_name\", ccod_lp)[\"company_reg_no\"].unique()\n",
    "eap2"
   ]
  },
  {
   "cell_type": "code",
   "execution_count": 0,
   "metadata": {
    "application/vnd.databricks.v1+cell": {
     "cellMetadata": {
      "byteLimit": 2048000,
      "rowLimit": 10000
     },
     "inputWidgets": {},
     "nuid": "8cbd31ce-294b-4c04-9ce6-1c45fd06c93d",
     "showTitle": false,
     "title": ""
    }
   },
   "outputs": [],
   "source": [
    "eap3 = multi_search(eap2[1:3], \"company_reg_no\", ccod_lp)[\"pr_name\"].unique()\n",
    "eap3"
   ]
  },
  {
   "cell_type": "code",
   "execution_count": 0,
   "metadata": {
    "application/vnd.databricks.v1+cell": {
     "cellMetadata": {
      "byteLimit": 2048000,
      "rowLimit": 10000
     },
     "inputWidgets": {},
     "nuid": "2c687981-2897-469a-8632-83c95bdcfa40",
     "showTitle": false,
     "title": ""
    }
   },
   "outputs": [],
   "source": [
    "kwd_df(\"wa4 1hg\", \"postcode\", ccod_lp)[\"pr_name\"].unique()"
   ]
  },
  {
   "cell_type": "code",
   "execution_count": 0,
   "metadata": {
    "application/vnd.databricks.v1+cell": {
     "cellMetadata": {
      "byteLimit": 2048000,
      "rowLimit": 10000
     },
     "inputWidgets": {},
     "nuid": "27d0a8fe-f241-4a7b-90b9-f5384c1e2620",
     "showTitle": false,
     "title": ""
    }
   },
   "outputs": [],
   "source": [
    "eap4 = multi_search(eadf1[\"CCOD\"].values, \"pr_name\", ccod_lp)[\"postcode\"].unique()\n",
    "eap4"
   ]
  },
  {
   "cell_type": "code",
   "execution_count": 0,
   "metadata": {
    "application/vnd.databricks.v1+cell": {
     "cellMetadata": {
      "byteLimit": 2048000,
      "rowLimit": 10000
     },
     "inputWidgets": {},
     "nuid": "3e5036f1-2348-4e38-b6e4-0bfc4e0a70a2",
     "showTitle": false,
     "title": ""
    }
   },
   "outputs": [],
   "source": [
    "eap5 = multi_search(eap4[1:], \"postcode\", ccod_lp)[\"pr_name\"].unique()\n",
    "eap5"
   ]
  },
  {
   "cell_type": "code",
   "execution_count": 0,
   "metadata": {
    "application/vnd.databricks.v1+cell": {
     "cellMetadata": {
      "byteLimit": 2048000,
      "rowLimit": 10000
     },
     "inputWidgets": {},
     "nuid": "8694e475-dae1-4aff-95b1-f39170f48de5",
     "showTitle": false,
     "title": ""
    }
   },
   "outputs": [],
   "source": [
    "lookup_table.append(eadf1)"
   ]
  },
  {
   "cell_type": "code",
   "execution_count": 0,
   "metadata": {
    "application/vnd.databricks.v1+cell": {
     "cellMetadata": {
      "byteLimit": 2048000,
      "rowLimit": 10000
     },
     "inputWidgets": {},
     "nuid": "173dde6e-006c-4765-8132-5cfff9631c5c",
     "showTitle": false,
     "title": ""
    }
   },
   "outputs": [],
   "source": [
    "owners = concat (lookup_table, ignore_index = True)"
   ]
  },
  {
   "cell_type": "code",
   "execution_count": 0,
   "metadata": {
    "application/vnd.databricks.v1+cell": {
     "cellMetadata": {
      "byteLimit": 2048000,
      "rowLimit": 10000
     },
     "inputWidgets": {},
     "nuid": "0d582379-3a86-4898-87b9-68d6b0acff8f",
     "showTitle": false,
     "title": ""
    }
   },
   "outputs": [],
   "source": [
    "owners[\"LC\"].unique()"
   ]
  },
  {
   "cell_type": "code",
   "execution_count": 0,
   "metadata": {
    "application/vnd.databricks.v1+cell": {
     "cellMetadata": {
      "byteLimit": 2048000,
      "rowLimit": 10000
     },
     "inputWidgets": {},
     "nuid": "1d6e8e2e-bc0b-4c7f-880a-2cc3dbfcca35",
     "showTitle": false,
     "title": ""
    }
   },
   "outputs": [],
   "source": [
    "from pandas import read_csv\n",
    "\n",
    "csv = read_csv(\"s3://s3-ranch-019/30-by-30/ownership_lookup.csv\")"
   ]
  },
  {
   "cell_type": "code",
   "execution_count": 0,
   "metadata": {
    "application/vnd.databricks.v1+cell": {
     "cellMetadata": {
      "byteLimit": 2048000,
      "rowLimit": 10000
     },
     "inputWidgets": {},
     "nuid": "53def006-3976-4499-8d89-d9c9a1053712",
     "showTitle": false,
     "title": ""
    }
   },
   "outputs": [],
   "source": [
    "csv"
   ]
  },
  {
   "cell_type": "code",
   "execution_count": 0,
   "metadata": {
    "application/vnd.databricks.v1+cell": {
     "cellMetadata": {
      "byteLimit": 2048000,
      "rowLimit": 10000
     },
     "inputWidgets": {},
     "nuid": "ba58c759-8791-45db-b0ec-90b6704bbcac",
     "showTitle": false,
     "title": ""
    }
   },
   "outputs": [],
   "source": [
    "lookup_csv = concat([csv, owners])"
   ]
  },
  {
   "cell_type": "code",
   "execution_count": 0,
   "metadata": {
    "application/vnd.databricks.v1+cell": {
     "cellMetadata": {
      "byteLimit": 2048000,
      "rowLimit": 10000
     },
     "inputWidgets": {},
     "nuid": "78497488-f448-4932-ac5c-be6601b4a7b1",
     "showTitle": false,
     "title": ""
    }
   },
   "outputs": [],
   "source": [
    "lookup_csv"
   ]
  },
  {
   "cell_type": "code",
   "execution_count": 0,
   "metadata": {
    "application/vnd.databricks.v1+cell": {
     "cellMetadata": {
      "byteLimit": 2048000,
      "rowLimit": 10000
     },
     "inputWidgets": {},
     "nuid": "34349b8f-d4a5-4eeb-8edc-1b8fc6178c99",
     "showTitle": false,
     "title": ""
    }
   },
   "outputs": [],
   "source": [
    "lookup_csv.to_csv(\"ownership_lookup.csv\", index = False)"
   ]
  },
  {
   "cell_type": "code",
   "execution_count": 0,
   "metadata": {
    "application/vnd.databricks.v1+cell": {
     "cellMetadata": {
      "byteLimit": 2048000,
      "rowLimit": 10000
     },
     "inputWidgets": {},
     "nuid": "e4e403b4-d2df-46f5-95c7-80d05e90fa54",
     "showTitle": false,
     "title": ""
    }
   },
   "outputs": [],
   "source": [
    "from boto3 import resource\n",
    "\n",
    "s3 = resource(\"s3\")\n",
    "\n",
    "bucket = s3.Bucket(\"s3-ranch-019\")\n",
    "bucket.upload_file(\"/home/piumialgamagedona/30-by-30-Analysis/Notebooks/ownership_lookup.csv\", \"30-by-30/ownership_lookup.csv\", ExtraArgs={'ACL': 'bucket-owner-full-control'})"
   ]
  }
 ],
 "metadata": {
  "application/vnd.databricks.v1+notebook": {
   "dashboards": [],
   "environmentMetadata": null,
   "language": "python",
   "notebookMetadata": {
    "mostRecentlyExecutedCommandWithImplicitDF": {
     "commandId": 2207785760972730,
     "dataframes": [
      "_sqldf"
     ]
    },
    "pythonIndentUnit": 4
   },
   "notebookName": "string_match",
   "widgets": {}
  },
  "kernelspec": {
   "display_name": "Python 3.8.8 64-bit ('30by30')",
   "language": "python",
   "name": "python3"
  },
  "language_info": {
   "codemirror_mode": {
    "name": "ipython",
    "version": 3
   },
   "file_extension": ".py",
   "mimetype": "text/x-python",
   "name": "python",
   "nbconvert_exporter": "python",
   "pygments_lexer": "ipython3",
   "version": "3.8.8"
  },
  "orig_nbformat": 4,
  "vscode": {
   "interpreter": {
    "hash": "1e27e82a406cd316246ec5ae29f1fc25ce5c2dd66a33262bf71c8c5ac022a04c"
   }
  }
 },
 "nbformat": 4,
 "nbformat_minor": 0
}
