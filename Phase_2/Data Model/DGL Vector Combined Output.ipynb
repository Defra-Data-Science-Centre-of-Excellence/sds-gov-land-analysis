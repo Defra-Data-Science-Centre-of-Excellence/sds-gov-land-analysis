{
 "cells": [
  {
   "cell_type": "markdown",
   "metadata": {
    "application/vnd.databricks.v1+cell": {
     "cellMetadata": {
      "batchId": -5613859188822220,
      "byteLimit": 2048000,
      "rowLimit": 10000
     },
     "inputWidgets": {},
     "nuid": "56677cce-398a-4a44-af4f-447300e29518",
     "showTitle": false,
     "tableResultSettingsMap": {},
     "title": ""
    }
   },
   "source": [
    "##Create Vector DGL output combining all results\n",
    "\n",
    "**Attributes**\n",
    "- ID (numeric)\n",
    "- Land Ownership (string)\n",
    "- Habitat (string, comma separated if two habs, 'Multiple' if 3+)\n",
    "- Classification (combination of Land Ownership and Habitat)\n",
    "- Habitat flags (boolean)"
   ]
  },
  {
   "cell_type": "code",
   "execution_count": 0,
   "metadata": {
    "application/vnd.databricks.v1+cell": {
     "cellMetadata": {
      "byteLimit": 2048000,
      "rowLimit": 10000
     },
     "inputWidgets": {},
     "nuid": "82d28a65-f297-4bbe-ac58-8cc033342766",
     "showTitle": false,
     "tableResultSettingsMap": {},
     "title": ""
    },
    "jupyter": {
     "outputs_hidden": true
    }
   },
   "outputs": [],
   "source": [
    "%pip install keplergl pydeck mapclassify rtree pygeos geopandas==1.0.0\n",
    "dbutils.library.restartPython()"
   ]
  },
  {
   "cell_type": "code",
   "execution_count": 0,
   "metadata": {
    "application/vnd.databricks.v1+cell": {
     "cellMetadata": {
      "byteLimit": 2048000,
      "rowLimit": 10000
     },
     "inputWidgets": {},
     "nuid": "60adc924-c44c-4c02-957b-790264d0218a",
     "showTitle": false,
     "tableResultSettingsMap": {},
     "title": ""
    }
   },
   "outputs": [],
   "source": [
    "import geopandas as gpd\n",
    "from pathlib import Path\n",
    "from functools import reduce"
   ]
  },
  {
   "cell_type": "code",
   "execution_count": 0,
   "metadata": {
    "application/vnd.databricks.v1+cell": {
     "cellMetadata": {
      "byteLimit": 2048000,
      "rowLimit": 10000
     },
     "inputWidgets": {},
     "nuid": "75315484-bfca-4cdb-aa69-f7367a0443f9",
     "showTitle": false,
     "tableResultSettingsMap": {},
     "title": ""
    }
   },
   "outputs": [],
   "source": [
    "from sedona.spark import *\n",
    "from pyspark.sql.functions import expr, when, col\n",
    "from pyspark.sql import functions as F\n",
    "\n",
    "sedona = SedonaContext.create(spark)\n",
    "sqlContext.clearCache()\n",
    "\n",
    "username = (\n",
    "    dbutils.notebook.entry_point.getDbutils().notebook().getContext().userName().get()\n",
    ")"
   ]
  },
  {
   "cell_type": "markdown",
   "metadata": {
    "application/vnd.databricks.v1+cell": {
     "cellMetadata": {
      "batchId": -5613859188822220,
      "byteLimit": 2048000,
      "rowLimit": 10000
     },
     "inputWidgets": {},
     "nuid": "731c3376-149c-4efb-93bb-011c7acac125",
     "showTitle": false,
     "tableResultSettingsMap": {},
     "title": ""
    }
   },
   "source": [
    "Load in grid"
   ]
  },
  {
   "cell_type": "code",
   "execution_count": 0,
   "metadata": {
    "application/vnd.databricks.v1+cell": {
     "cellMetadata": {
      "byteLimit": 2048000,
      "rowLimit": 10000
     },
     "inputWidgets": {},
     "nuid": "40e62ef1-48d1-4178-9ac6-6e4cd81b563a",
     "showTitle": false,
     "tableResultSettingsMap": {},
     "title": ""
    }
   },
   "outputs": [],
   "source": [
    "# Define size of grid square\n",
    "grid_square_size = 10"
   ]
  },
  {
   "cell_type": "code",
   "execution_count": 0,
   "metadata": {
    "application/vnd.databricks.v1+cell": {
     "cellMetadata": {
      "byteLimit": 2048000,
      "rowLimit": 10000
     },
     "inputWidgets": {},
     "nuid": "b49350b5-f9c3-4a33-8907-a674d0726dc7",
     "showTitle": false,
     "tableResultSettingsMap": {},
     "title": ""
    }
   },
   "outputs": [],
   "source": [
    "grid_path = Path(\n",
    "    \"/dbfs/mnt/lab-res-a1001005/esd_project/Defra_Land/Model_Grids\"\n",
    ")\n",
    "alt_grid_path = str(grid_path).replace(\"/dbfs\", \"dbfs:\")"
   ]
  },
  {
   "cell_type": "code",
   "execution_count": 0,
   "metadata": {
    "application/vnd.databricks.v1+cell": {
     "cellMetadata": {
      "byteLimit": 2048000,
      "rowLimit": 10000
     },
     "inputWidgets": {},
     "nuid": "aa3794cc-96e4-4c59-a7ad-b2c4167ed2bf",
     "showTitle": false,
     "tableResultSettingsMap": {},
     "title": ""
    }
   },
   "outputs": [],
   "source": [
    "eng_grid = (\n",
    "    sedona.read.format(\"parquet\")\n",
    "    .load(f\"{alt_grid_path}/{grid_square_size}m_england_grid.parquet\")\n",
    "    .withColumn(\"geometry\", expr(\"st_makevalid(st_setsrid(ST_GeomFromWKB(geometry),27700))\"))\n",
    "    .repartition(1305)\n",
    ")\n",
    "\n",
    "eng_grid.createOrReplaceTempView(\"eng_grid\")"
   ]
  },
  {
   "cell_type": "markdown",
   "metadata": {
    "application/vnd.databricks.v1+cell": {
     "cellMetadata": {
      "batchId": -5613859188822220,
      "byteLimit": 2048000,
      "rowLimit": 10000
     },
     "inputWidgets": {},
     "nuid": "9b16b6d7-c44e-4a1a-ad80-80fe5b586e6a",
     "showTitle": false,
     "tableResultSettingsMap": {},
     "title": ""
    }
   },
   "source": [
    "Iterate through habitats and add boolean mask\n",
    "\n",
    "Also add freehold/leasehold information on first iteration"
   ]
  },
  {
   "cell_type": "code",
   "execution_count": 0,
   "metadata": {
    "application/vnd.databricks.v1+cell": {
     "cellMetadata": {
      "byteLimit": 2048000,
      "rowLimit": 10000
     },
     "inputWidgets": {},
     "nuid": "5e6b8c0d-72c7-43ff-b3c5-961d673519f5",
     "showTitle": false,
     "tableResultSettingsMap": {},
     "title": ""
    }
   },
   "outputs": [],
   "source": [
    "habitats_cols = {\n",
    "    'Arable': ['le_comb', 'phi_comb', 'lcm_comb', 'crome'],\n",
    "    'Coastal': [\"le_comb\",\"phi_comb\",\"lcm_comb\",\"ne_marine\"],\n",
    "    'Saltmarsh': [\"le_saltmarsh\",\"phi_saltmarsh\",\"lcm_saltmarsh\",\"ne_marine_saltmarsh\"],\n",
    "    'Grassland': [\"le_unimproved_grass\",\"phi_comb\",\"lcm_comb\"],\n",
    "    'Moorland': [\"le_comb\",\"phi_comb\",\"lcm_comb\"],\n",
    "    'Upland_Bog': [\"le_bog\",\"phi_blanket_bog\",\"lcm_bog\"],\n",
    "    'Woodland_Dense': [\"le_comb\",\"lcm_comb\",\"nfi_dense\",\"phi_deciduous_woodland\"],\n",
    "    'Woodland_Sparse': [\"le_scrub\",\"nfi_sparse\",\"wood_pasture_park\",\"phi_traditional_orchard\",\"fr_tow\"],\n",
    "    'Urban': [\"le_urban\",\"lcm_comb\",\"ons_urban\"],\n",
    "    'Water': [\"le_comb\",\"lcm_comb\",\"phi_comb\",\"os_ngd_water\"]\n",
    "}"
   ]
  },
  {
   "cell_type": "code",
   "execution_count": 0,
   "metadata": {
    "application/vnd.databricks.v1+cell": {
     "cellMetadata": {
      "byteLimit": 2048000,
      "rowLimit": 10000
     },
     "inputWidgets": {},
     "nuid": "ae1f6310-db50-4fb9-9e63-e33cad2d89b6",
     "showTitle": false,
     "tableResultSettingsMap": {},
     "title": ""
    }
   },
   "outputs": [],
   "source": [
    "asset_path = Path(\n",
    "    \"/dbfs/mnt/lab-res-a1001005/esd_project/Defra_Land/Final/Asset_Tables\"\n",
    ")\n",
    "alt_asset_path = str(asset_path).replace(\"/dbfs\", \"dbfs:\")"
   ]
  },
  {
   "cell_type": "code",
   "execution_count": 0,
   "metadata": {
    "application/vnd.databricks.v1+cell": {
     "cellMetadata": {
      "byteLimit": 2048000,
      "rowLimit": 10000
     },
     "inputWidgets": {},
     "nuid": "dfef456e-e7be-45e0-83ce-18d0eaee8fa3",
     "showTitle": false,
     "tableResultSettingsMap": {},
     "title": ""
    }
   },
   "outputs": [],
   "source": [
    "n = 1"
   ]
  },
  {
   "cell_type": "code",
   "execution_count": 0,
   "metadata": {
    "application/vnd.databricks.v1+cell": {
     "cellMetadata": {
      "byteLimit": 2048000,
      "rowLimit": 10000
     },
     "inputWidgets": {},
     "nuid": "449162cd-44e1-4c53-8cb2-0f64c2067509",
     "showTitle": false,
     "tableResultSettingsMap": {},
     "title": ""
    }
   },
   "outputs": [],
   "source": [
    "for hab, cols in habitats_cols.items():\n",
    "\n",
    "  print(hab)\n",
    "\n",
    "  if hab == 'Woodland_Dense':\n",
    "    hab_read= 'Dense_Woodland'\n",
    "  elif hab == 'Woodland_Sparse':\n",
    "    hab_read= 'Sparse_Woodland'\n",
    "  else:\n",
    "    hab_read = hab\n",
    "\n",
    "  data_table = sedona.read.format(\"parquet\").load(f\"{alt_asset_path}/10m_x_assets_combined_{hab_read.lower()}.parquet\")\n",
    "\n",
    "  data_table.createOrReplaceTempView(\"data_table\")\n",
    "\n",
    "  # Add Freehold/Leasehold Information\n",
    "  if n == 1:\n",
    "    ownership = data_table.select(\n",
    "        col(\"id\"),  \n",
    "        when(col(\"dgl_fh\") == 1, \"Freehold\")  \n",
    "        .when(col(\"dgl_lh\") == 1, \"Leasehold\")  \n",
    "        .otherwise(None)  \n",
    "        .alias(\"Land_Ownership\")  \n",
    "    )\n",
    "\n",
    "    data_combined = eng_grid.join(ownership, on=\"ID\", how=\"left\")\n",
    "    data_combined.createOrReplaceTempView(\"data_combined\")\n",
    "\n",
    "    n = 2\n",
    "\n",
    "  if hab == 'Upland_Bog':\n",
    "    condition = ((F.col(\"dgl_fh\") == 1) | (F.col(\"dgl_lh\") == 1)) & (F.col(\"moorland_line\") == 1)\n",
    "  else:\n",
    "    condition = ((F.col(\"dgl_fh\") == 1) | (F.col(\"dgl_lh\") == 1)) \n",
    "\n",
    "\n",
    "  data_score = data_table.withColumn(\n",
    "    hab,\n",
    "    F.when(\n",
    "        condition & reduce(lambda acc, col: acc | (F.col(col) == 1), cols, F.lit(False)),  \n",
    "        F.lit(1) \n",
    "    ).otherwise(0))\n",
    "\n",
    "  data_score = data_score.select('id', hab)\n",
    "\n",
    "  data_combined = data_combined.join(data_score, on=\"ID\", how=\"left\")\n",
    "  data_combined.createOrReplaceTempView(\"data_combined\")"
   ]
  },
  {
   "cell_type": "code",
   "execution_count": 0,
   "metadata": {
    "application/vnd.databricks.v1+cell": {
     "cellMetadata": {
      "byteLimit": 2048000,
      "rowLimit": 10000
     },
     "inputWidgets": {},
     "nuid": "94273e4f-8589-4288-9dd3-bc661b316e4f",
     "showTitle": false,
     "tableResultSettingsMap": {},
     "title": ""
    }
   },
   "outputs": [],
   "source": [
    "data_footprint = data_combined.filter(data_combined[\"Land_Ownership\"].isNotNull())\n",
    "data_footprint.createOrReplaceTempView(\"data_footprint\")"
   ]
  },
  {
   "cell_type": "code",
   "execution_count": 0,
   "metadata": {
    "application/vnd.databricks.v1+cell": {
     "cellMetadata": {
      "byteLimit": 2048000,
      "rowLimit": 10000
     },
     "inputWidgets": {},
     "nuid": "f66dbc4b-0de6-463e-b17a-ea1c167c2da7",
     "showTitle": false,
     "tableResultSettingsMap": {},
     "title": ""
    }
   },
   "outputs": [],
   "source": [
    "new_column_names = {\n",
    "    \"Land_Ownership\": \"Land Ownership\",\n",
    "    \"Arable\": \"Enclosed Farmland\",\n",
    "    \"Coastal\": \"Coastal Margins\",\n",
    "    \"Grassland\": \"Semi-Natural Grassland\",\n",
    "    \"Moorland\": \"Moorland and Heath\",\n",
    "    \"Upland_Bog\": \"Upland Bog\",\n",
    "    \"Woodland_Dense\": \"Woodland (Dense)\",\n",
    "    \"Woodland_Sparse\": \"Woodland (Sparse)\",\n",
    "    \"Water\": \"Freshwater and Wetlands\"\n",
    "}\n",
    "\n",
    "for old_name, new_name in new_column_names.items():\n",
    "    data_footprint = data_footprint.withColumnRenamed(old_name, new_name)\n",
    "data_footprint.createOrReplaceTempView(\"data_footprint\")"
   ]
  },
  {
   "cell_type": "code",
   "execution_count": 0,
   "metadata": {
    "application/vnd.databricks.v1+cell": {
     "cellMetadata": {
      "byteLimit": 2048000,
      "rowLimit": 10000
     },
     "inputWidgets": {},
     "nuid": "9bbddab3-0cad-4775-8538-c5214e206795",
     "showTitle": false,
     "tableResultSettingsMap": {},
     "title": ""
    }
   },
   "outputs": [],
   "source": [
    "columns_to_sum = [\"Enclosed Farmland\",\"Coastal Margins\",\"Saltmarsh\",\"Semi-Natural Grassland\",\"Moorland and Heath\",\"Upland Bog\",\"Woodland (Dense)\",\"Woodland (Sparse)\",\"Urban\",\"Freshwater and Wetlands\"]"
   ]
  },
  {
   "cell_type": "code",
   "execution_count": 0,
   "metadata": {
    "application/vnd.databricks.v1+cell": {
     "cellMetadata": {
      "byteLimit": 2048000,
      "rowLimit": 10000
     },
     "inputWidgets": {},
     "nuid": "3298ffd3-bf07-4d23-860f-3657c1a0cc7b",
     "showTitle": false,
     "tableResultSettingsMap": {},
     "title": ""
    }
   },
   "outputs": [],
   "source": [
    "data_footprint = data_footprint.withColumn(\n",
    "    \"sum\",\n",
    "    sum(F.coalesce(F.col(col), F.lit(0)) for col in columns_to_sum)\n",
    ")\n",
    "data_footprint.createOrReplaceTempView(\"data_footprint\")"
   ]
  },
  {
   "cell_type": "code",
   "execution_count": 0,
   "metadata": {
    "application/vnd.databricks.v1+cell": {
     "cellMetadata": {
      "byteLimit": 2048000,
      "rowLimit": 10000
     },
     "inputWidgets": {},
     "nuid": "f77066a5-04ba-4846-bd7c-8a06eb2ba391",
     "showTitle": false,
     "tableResultSettingsMap": {},
     "title": ""
    }
   },
   "outputs": [],
   "source": [
    "data_footprint.createOrReplaceTempView(\"data_footprint\")"
   ]
  },
  {
   "cell_type": "code",
   "execution_count": 0,
   "metadata": {
    "application/vnd.databricks.v1+cell": {
     "cellMetadata": {
      "byteLimit": 2048000,
      "rowLimit": 10000
     },
     "inputWidgets": {},
     "nuid": "25b51844-0dbb-4fdc-bd9e-4ad9134379b1",
     "showTitle": false,
     "tableResultSettingsMap": {},
     "title": ""
    }
   },
   "outputs": [],
   "source": [
    "data_footprint = data_footprint.withColumn(\n",
    "    \"Habitat\",\n",
    "    F.when(\n",
    "        F.col(\"sum\") == 1,\n",
    "        F.concat_ws(\", \", *[\n",
    "            F.when(F.col(col) == 1, F.lit(col)).otherwise(None)\n",
    "            for col in columns_to_sum\n",
    "        ])\n",
    "    ).otherwise(\"None\")\n",
    ")\n",
    "data_footprint.createOrReplaceTempView(\"data_footprint\")"
   ]
  },
  {
   "cell_type": "code",
   "execution_count": 0,
   "metadata": {
    "application/vnd.databricks.v1+cell": {
     "cellMetadata": {
      "byteLimit": 2048000,
      "rowLimit": 10000
     },
     "inputWidgets": {},
     "nuid": "5f8d3442-d9bf-40c3-bbb1-2b357b2198f1",
     "showTitle": false,
     "tableResultSettingsMap": {},
     "title": ""
    }
   },
   "outputs": [],
   "source": [
    "data_footprint = data_footprint.withColumn(\n",
    "    \"Habitat\",\n",
    "    F.when(\n",
    "        (F.col(\"Habitat\") == \"None\") &\n",
    "        (F.col(\"sum\") == 2) &\n",
    "        (F.col(\"Coastal Margins\") == 1) &\n",
    "        (F.col(\"Saltmarsh\") == 1),\n",
    "        F.lit(\"Saltmarsh\")\n",
    "    )\n",
    "    .otherwise(F.col(\"Habitat\"))\n",
    ")\n",
    "data_footprint.createOrReplaceTempView(\"data_footprint\")"
   ]
  },
  {
   "cell_type": "code",
   "execution_count": 0,
   "metadata": {
    "application/vnd.databricks.v1+cell": {
     "cellMetadata": {
      "byteLimit": 2048000,
      "rowLimit": 10000
     },
     "inputWidgets": {},
     "nuid": "8e91b426-f1ad-4eb4-89bc-99d0a17120e4",
     "showTitle": false,
     "tableResultSettingsMap": {},
     "title": ""
    }
   },
   "outputs": [],
   "source": [
    "data_footprint = data_footprint.withColumn(\n",
    "    \"Habitat\",\n",
    "    F.when(\n",
    "        (F.col(\"Habitat\") == \"None\") &\n",
    "        (F.col(\"sum\") == 2) &\n",
    "        (F.col(\"Moorland and Heath\") == 1) &\n",
    "        (F.col(\"Upland Bog\") == 1),\n",
    "        F.lit(\"Upland Bog\")\n",
    "    )\n",
    "    .otherwise(F.col(\"Habitat\"))\n",
    ")\n",
    "data_footprint.createOrReplaceTempView(\"data_footprint\")"
   ]
  },
  {
   "cell_type": "code",
   "execution_count": 0,
   "metadata": {
    "application/vnd.databricks.v1+cell": {
     "cellMetadata": {
      "byteLimit": 2048000,
      "rowLimit": 10000
     },
     "inputWidgets": {},
     "nuid": "cb8e3836-90e6-41c9-a3fb-6ac8275160f4",
     "showTitle": false,
     "tableResultSettingsMap": {},
     "title": ""
    }
   },
   "outputs": [],
   "source": [
    "data_footprint = data_footprint.withColumn(\n",
    "    \"Habitat\",\n",
    "    F.when(\n",
    "        (F.col(\"Habitat\") == \"None\") &\n",
    "        (F.col(\"sum\") == 2) &\n",
    "        (F.col(\"Woodland (Dense)\") == 1) &\n",
    "        (F.col(\"Woodland (Sparse)\") == 1),\n",
    "        F.lit(\"Woodland (Mixed)\")\n",
    "    )\n",
    "    .otherwise(F.col(\"Habitat\"))\n",
    ")\n",
    "data_footprint.createOrReplaceTempView(\"data_footprint\")"
   ]
  },
  {
   "cell_type": "code",
   "execution_count": 0,
   "metadata": {
    "application/vnd.databricks.v1+cell": {
     "cellMetadata": {
      "byteLimit": 2048000,
      "rowLimit": 10000
     },
     "inputWidgets": {},
     "nuid": "7251649f-766e-4681-9677-106102f34810",
     "showTitle": false,
     "tableResultSettingsMap": {},
     "title": ""
    }
   },
   "outputs": [],
   "source": [
    "data_footprint = data_footprint.withColumn(\n",
    "    \"Habitat\",\n",
    "    F.when(\n",
    "        (F.col(\"Habitat\") == \"None\") &\n",
    "        (F.col(\"sum\") == 5),\n",
    "        F.lit(\"Multiple Habitats\")\n",
    "    )\n",
    "    .otherwise(F.col(\"Habitat\"))\n",
    ")\n",
    "data_footprint.createOrReplaceTempView(\"data_footprint\")"
   ]
  },
  {
   "cell_type": "code",
   "execution_count": 0,
   "metadata": {
    "application/vnd.databricks.v1+cell": {
     "cellMetadata": {
      "byteLimit": 2048000,
      "rowLimit": 10000
     },
     "inputWidgets": {},
     "nuid": "b65100a7-bfe1-4187-ae35-47eebd354ac7",
     "showTitle": false,
     "tableResultSettingsMap": {},
     "title": ""
    }
   },
   "outputs": [],
   "source": [
    "data_footprint = data_footprint.withColumn(\n",
    "    \"matching_columns\",\n",
    "    F.concat_ws(\n",
    "        \", \",\n",
    "        F.array_sort(\n",
    "            F.array(*[F.when(F.col(c) == 1, F.lit(c)).otherwise(None) for c in columns_to_sum])\n",
    "        )\n",
    "    )\n",
    ")\n",
    "\n",
    "# Update the 'Habitat' column based on your conditions\n",
    "data_footprint = data_footprint.withColumn(\n",
    "    \"Habitat\",\n",
    "    F.when(\n",
    "        (F.col(\"Habitat\") == \"None\") & (F.col(\"sum\") == 2),\n",
    "        F.when(F.col(\"matching_columns\") == \"\", F.lit(\"\")).otherwise(F.col(\"matching_columns\"))\n",
    "    ).otherwise(F.col(\"Habitat\"))\n",
    ")\n",
    "\n",
    "# Drop the intermediate column if not needed\n",
    "data_footprint = data_footprint.drop(\"matching_columns\")\n",
    "data_footprint.createOrReplaceTempView(\"data_footprint\")"
   ]
  },
  {
   "cell_type": "code",
   "execution_count": 0,
   "metadata": {
    "application/vnd.databricks.v1+cell": {
     "cellMetadata": {
      "byteLimit": 2048000,
      "rowLimit": 10000
     },
     "inputWidgets": {},
     "nuid": "65b8f847-67b6-4599-9063-50e918d0eda0",
     "showTitle": false,
     "tableResultSettingsMap": {},
     "title": ""
    }
   },
   "outputs": [],
   "source": [
    "data_footprint = data_footprint.withColumn(\n",
    "    \"matching_columns\",\n",
    "    F.concat_ws(\n",
    "        \", \",\n",
    "        F.array_sort(\n",
    "            F.filter(\n",
    "                F.array(*[F.when(F.col(c) == 1, F.lit(c)).otherwise(None) for c in columns_to_sum]),\n",
    "                lambda x: (x != \"Coastal Margins\") | (~F.array_contains(F.array(*[F.lit(c) for c in columns_to_sum]), \"Saltmarsh\"))\n",
    "            )\n",
    "        )\n",
    "    )\n",
    ")\n",
    "\n",
    "\n",
    "# Update the 'Habitat' column based on your conditions\n",
    "data_footprint = data_footprint.withColumn(\n",
    "    \"Habitat\",\n",
    "    F.when(\n",
    "        (F.col(\"Habitat\") == \"None\") & (F.col(\"sum\") == 3) & (F.col(\"Saltmarsh\") == 1),\n",
    "        F.when(F.col(\"matching_columns\") == \"\", F.lit(\"\")).otherwise(F.col(\"matching_columns\"))\n",
    "    ).otherwise(F.col(\"Habitat\"))\n",
    ")\n",
    "\n",
    "# Drop the intermediate column if not needed\n",
    "data_footprint = data_footprint.drop(\"matching_columns\")\n",
    "data_footprint.createOrReplaceTempView(\"data_footprint\")\n"
   ]
  },
  {
   "cell_type": "code",
   "execution_count": 0,
   "metadata": {
    "application/vnd.databricks.v1+cell": {
     "cellMetadata": {
      "byteLimit": 2048000,
      "rowLimit": 10000
     },
     "inputWidgets": {},
     "nuid": "60ef30a6-13a8-4ef4-9f17-99e4619a2bfc",
     "showTitle": false,
     "tableResultSettingsMap": {},
     "title": ""
    }
   },
   "outputs": [],
   "source": [
    "data_footprint = data_footprint.withColumn(\n",
    "    \"matching_columns\",\n",
    "    F.concat_ws(\n",
    "        \", \",\n",
    "        F.array_sort(\n",
    "            F.filter(\n",
    "                F.array(*[F.when(F.col(c) == 1, F.lit(c)).otherwise(None) for c in columns_to_sum]),\n",
    "                lambda x: (x != \"Moorland and Heath\") | (~F.array_contains(F.array(*[F.lit(c) for c in columns_to_sum]), \"Upland Bog\"))\n",
    "            )\n",
    "        )\n",
    "    )\n",
    ")\n",
    "\n",
    "# Update the 'Habitat' column based on your conditions\n",
    "data_footprint = data_footprint.withColumn(\n",
    "    \"Habitat\",\n",
    "    F.when(\n",
    "        (F.col(\"Habitat\") == \"None\") & (F.col(\"sum\") == 3) & (F.col(\"Upland Bog\") == 1),\n",
    "        F.when(F.col(\"matching_columns\") == \"\", F.lit(\"\")).otherwise(F.col(\"matching_columns\"))\n",
    "    ).otherwise(F.col(\"Habitat\"))\n",
    ")\n",
    "\n",
    "# Drop the intermediate column if not needed\n",
    "data_footprint = data_footprint.drop(\"matching_columns\")\n",
    "data_footprint.createOrReplaceTempView(\"data_footprint\")"
   ]
  },
  {
   "cell_type": "code",
   "execution_count": 0,
   "metadata": {
    "application/vnd.databricks.v1+cell": {
     "cellMetadata": {
      "byteLimit": 2048000,
      "rowLimit": 10000
     },
     "inputWidgets": {},
     "nuid": "65bdfe2c-002a-4ac1-ad5b-6d57a4ee4628",
     "showTitle": false,
     "tableResultSettingsMap": {},
     "title": ""
    }
   },
   "outputs": [],
   "source": [
    "matching_array = F.array(*[F.when(F.col(c) == 1, F.lit(c)).otherwise(None) for c in columns_to_sum])\n",
    "\n",
    "# Create the new column with conditional replacement\n",
    "data_footprint = data_footprint.withColumn(\n",
    "    \"matching_columns\",\n",
    "    F.concat_ws(\n",
    "        \", \",\n",
    "        F.when(\n",
    "            F.array_contains(matching_array, \"Woodland (Dense)\") & F.array_contains(matching_array, \"Woodland (Sparse)\"),\n",
    "            # Replace Dense and Sparse with Mixed, then sort alphabetically\n",
    "            F.array_sort(\n",
    "                F.array_union(\n",
    "                    F.array(F.lit(\"Woodland (Mixed)\")),\n",
    "                    F.filter(matching_array, lambda x: (x != \"Woodland (Dense)\") & (x != \"Woodland (Sparse)\"))\n",
    "                )\n",
    "            )\n",
    "        ).otherwise(\n",
    "            # Leave the array untouched for other rows, but sorted\n",
    "            F.array_sort(matching_array)\n",
    "        )\n",
    "    )\n",
    ")\n",
    "# Update the 'Habitat' column based on your conditions\n",
    "data_footprint = data_footprint.withColumn(\n",
    "    \"Habitat\",\n",
    "    F.when(\n",
    "        (F.col(\"Habitat\") == \"None\") & (F.col(\"sum\") == 3) & (F.col(\"Woodland (Dense)\") == 1) & (F.col(\"Woodland (Sparse)\") == 1),\n",
    "        F.when(F.col(\"matching_columns\") == \"\", F.lit(\"\")).otherwise(F.col(\"matching_columns\"))\n",
    "    ).otherwise(F.col(\"Habitat\"))\n",
    ")\n",
    "\n",
    "# Drop the intermediate column if not needed\n",
    "data_footprint = data_footprint.drop(\"matching_columns\")\n",
    "data_footprint.createOrReplaceTempView(\"data_footprint\")\n"
   ]
  },
  {
   "cell_type": "code",
   "execution_count": 0,
   "metadata": {
    "application/vnd.databricks.v1+cell": {
     "cellMetadata": {
      "byteLimit": 2048000,
      "rowLimit": 10000
     },
     "inputWidgets": {},
     "nuid": "a6ebcaef-9865-4524-bd32-08804ccf3f42",
     "showTitle": false,
     "tableResultSettingsMap": {},
     "title": ""
    }
   },
   "outputs": [],
   "source": [
    "data_footprint = data_footprint.withColumn(\n",
    "    \"Habitat\",\n",
    "    F.when(\n",
    "        (F.col(\"Habitat\") == \"None\") &\n",
    "        (F.col(\"sum\") == 3),\n",
    "        F.lit(\"Multiple Habitats\")\n",
    "    )\n",
    "    .otherwise(F.col(\"Habitat\"))\n",
    ")\n",
    "data_footprint.createOrReplaceTempView(\"data_footprint\")"
   ]
  },
  {
   "cell_type": "code",
   "execution_count": 0,
   "metadata": {
    "application/vnd.databricks.v1+cell": {
     "cellMetadata": {
      "byteLimit": 2048000,
      "rowLimit": 10000
     },
     "inputWidgets": {},
     "nuid": "4e29fcf9-67e6-4388-9029-03212038cf06",
     "showTitle": false,
     "tableResultSettingsMap": {},
     "title": ""
    }
   },
   "outputs": [],
   "source": [
    "rules = [\n",
    "    (\n",
    "        [\"Woodland (Dense)\", \"Woodland (Sparse)\", \"Coastal Margins\", \"Saltmarsh\"],\n",
    "        \"Saltmarsh, Woodland (Mixed)\"\n",
    "    ),\n",
    "    (\n",
    "        [\"Woodland (Dense)\", \"Woodland (Sparse)\", \"Upland Bog\", \"Moorland and Heath\"],\n",
    "        \"Upland Bog, Woodland (Mixed)\"\n",
    "    ),\n",
    "    (\n",
    "        [\"Upland Bog\", \"Moorland and Heath\", \"Coastal Margins\", \"Saltmarsh\"],\n",
    "        \"Saltmarsh, Upland Bog\"\n",
    "    ),\n",
    "]\n",
    "\n",
    "# Convert rules into sets for comparison\n",
    "rules = [(set(rule[0]), rule[1]) for rule in rules]\n",
    "\n",
    "# Create a matching array of columns with value 1\n",
    "matching_array = F.array(*[F.when(F.col(c) == 1, F.lit(c)).otherwise(None) for c in columns_to_sum])\n",
    "\n",
    "# Update the Habitat column based on rules\n",
    "data_footprint = data_footprint.withColumn(\n",
    "    \"Habitat\",\n",
    "    F.when(\n",
    "        (F.col(\"Habitat\") == \"None\") & (F.col(\"sum\") == 4),\n",
    "        F.coalesce(\n",
    "            *[\n",
    "                F.when(\n",
    "                    F.size(F.array_intersect(matching_array, F.array(*[F.lit(col) for col in rule_set]))) == 4,\n",
    "                    F.lit(habitat)\n",
    "                )\n",
    "                for rule_set, habitat in rules\n",
    "            ],\n",
    "            F.lit(\"Multiple Habitats\")\n",
    "        )\n",
    "    ).otherwise(F.col(\"Habitat\"))\n",
    ")\n",
    "\n",
    "data_footprint.createOrReplaceTempView(\"data_footprint\")\n"
   ]
  },
  {
   "cell_type": "code",
   "execution_count": 0,
   "metadata": {
    "application/vnd.databricks.v1+cell": {
     "cellMetadata": {
      "byteLimit": 2048000,
      "rowLimit": 10000
     },
     "inputWidgets": {},
     "nuid": "0c2aba27-e1da-4efa-a4ae-0a0a30aab63b",
     "showTitle": false,
     "tableResultSettingsMap": {
      "0": {
       "filterBlob": "{\"filterGroups\":[],\"syncTimestamp\":1739822293620}",
       "tableResultIndex": 0
      }
     },
     "title": ""
    }
   },
   "outputs": [],
   "source": [
    "data_footprint.display()"
   ]
  },
  {
   "cell_type": "code",
   "execution_count": 0,
   "metadata": {
    "application/vnd.databricks.v1+cell": {
     "cellMetadata": {
      "byteLimit": 2048000,
      "rowLimit": 10000
     },
     "inputWidgets": {},
     "nuid": "a71b21e8-221b-4106-a1f9-fbdf2f834c92",
     "showTitle": false,
     "tableResultSettingsMap": {},
     "title": ""
    }
   },
   "outputs": [],
   "source": [
    "data_footprint = data_footprint.withColumn(\n",
    "    \"Classification\",\n",
    "    F.concat_ws(\" - \", F.col(\"Land Ownership\"), F.col(\"Habitat\"))\n",
    ")"
   ]
  },
  {
   "cell_type": "code",
   "execution_count": 0,
   "metadata": {
    "application/vnd.databricks.v1+cell": {
     "cellMetadata": {
      "byteLimit": 2048000,
      "rowLimit": 10000
     },
     "inputWidgets": {},
     "nuid": "a6d721d5-6983-4f32-a08b-d15900913722",
     "showTitle": false,
     "tableResultSettingsMap": {},
     "title": ""
    }
   },
   "outputs": [],
   "source": [
    "final = data_footprint.select('id', 'Land Ownership','Habitat','Classification','geometry','Woodland (Dense)','Woodland (Sparse)','Moorland and Heath','Upland Bog','Semi-Natural Grassland','Coastal Margins','Saltmarsh','Enclosed Farmland','Freshwater and Wetlands','Urban',col('sum').alias('Count'))"
   ]
  },
  {
   "cell_type": "code",
   "execution_count": 0,
   "metadata": {
    "application/vnd.databricks.v1+cell": {
     "cellMetadata": {
      "byteLimit": 2048000,
      "rowLimit": 10000
     },
     "inputWidgets": {},
     "nuid": "f753bd56-8c2c-4413-9b0b-467b64403ca3",
     "showTitle": false,
     "tableResultSettingsMap": {},
     "title": ""
    }
   },
   "outputs": [],
   "source": [
    "final_pd = final.toPandas()\n",
    "final_gpd = gpd.GeoDataFrame(final_pd, geometry='geometry')\n",
    "final_gpd.crs = 'epsg:27700'"
   ]
  },
  {
   "cell_type": "code",
   "execution_count": 0,
   "metadata": {
    "application/vnd.databricks.v1+cell": {
     "cellMetadata": {
      "byteLimit": 2048000,
      "rowLimit": 10000
     },
     "inputWidgets": {},
     "nuid": "145d3137-1a18-4e83-a4a6-9b2bfdd5ffcd",
     "showTitle": false,
     "tableResultSettingsMap": {},
     "title": ""
    }
   },
   "outputs": [],
   "source": [
    "out_path = Path(\n",
    "    \"/dbfs/mnt/lab-res-a1001005/esd_project/Defra_Land/Final/\"\n",
    ")\n",
    "\n",
    "alt_out_path = str(out_path).replace(\"/dbfs\", \"dbfs:\")"
   ]
  },
  {
   "cell_type": "code",
   "execution_count": 0,
   "metadata": {
    "application/vnd.databricks.v1+cell": {
     "cellMetadata": {
      "byteLimit": 2048000,
      "rowLimit": 10000
     },
     "inputWidgets": {},
     "nuid": "1b710645-4d41-4623-b71c-cf91d8d943cc",
     "showTitle": false,
     "tableResultSettingsMap": {},
     "title": ""
    }
   },
   "outputs": [],
   "source": [
    "final_gpd.to_parquet(str(out_path)+\"/DGL_Habitats.parquet\")"
   ]
  },
  {
   "cell_type": "code",
   "execution_count": 0,
   "metadata": {
    "application/vnd.databricks.v1+cell": {
     "cellMetadata": {
      "byteLimit": 2048000,
      "rowLimit": 10000
     },
     "inputWidgets": {},
     "nuid": "2c5f1224-d985-4cac-b18e-704e7ce09be7",
     "showTitle": false,
     "tableResultSettingsMap": {},
     "title": ""
    }
   },
   "outputs": [],
   "source": [
    "def download_link(filepath):\n",
    "    # NB filepath must be in the format dbfs:/ not /dbfs/\n",
    "    # Get filename\n",
    "    filename = filepath[filepath.rfind(\"/\") :]\n",
    "    # Move file to FileStore\n",
    "    dbutils.fs.cp(filepath, f\"dbfs:/FileStore/{filename}\")\n",
    "    # Construct download url\n",
    "    url = f\"https://{spark.conf.get('spark.databricks.workspaceUrl')}/files/{filename}?o={spark.conf.get('spark.databricks.clusterUsageTags.orgId')}\"\n",
    "    # Return html snippet\n",
    "    return f\"<a href={url} target='_blank'>Download file: {filename}</a>\""
   ]
  },
  {
   "cell_type": "code",
   "execution_count": 0,
   "metadata": {
    "application/vnd.databricks.v1+cell": {
     "cellMetadata": {
      "byteLimit": 2048000,
      "rowLimit": 10000
     },
     "inputWidgets": {},
     "nuid": "a5c67db5-87e4-494b-888f-9bf9d84a1664",
     "showTitle": false,
     "tableResultSettingsMap": {},
     "title": ""
    }
   },
   "outputs": [],
   "source": [
    "displayHTML(download_link(alt_out_path + '/DGL_Habitats.parquet'))"
   ]
  },
  {
   "cell_type": "code",
   "execution_count": 0,
   "metadata": {
    "application/vnd.databricks.v1+cell": {
     "cellMetadata": {
      "byteLimit": 2048000,
      "rowLimit": 10000
     },
     "inputWidgets": {},
     "nuid": "60e0bedb-59ff-4c1c-a040-3b75edd85241",
     "showTitle": false,
     "tableResultSettingsMap": {},
     "title": ""
    }
   },
   "outputs": [],
   "source": [
    "final_gpd_diss = final_gpd.dissolve(by='Classification').explode(index_parts=False).reset_index(drop=True)"
   ]
  },
  {
   "cell_type": "code",
   "execution_count": 0,
   "metadata": {
    "application/vnd.databricks.v1+cell": {
     "cellMetadata": {
      "byteLimit": 2048000,
      "rowLimit": 10000
     },
     "inputWidgets": {},
     "nuid": "deb97748-c94a-4e12-9a75-2f8ce0767739",
     "showTitle": false,
     "tableResultSettingsMap": {},
     "title": ""
    }
   },
   "outputs": [],
   "source": [
    "final_gpd_diss"
   ]
  },
  {
   "cell_type": "code",
   "execution_count": 0,
   "metadata": {
    "application/vnd.databricks.v1+cell": {
     "cellMetadata": {
      "byteLimit": 2048000,
      "rowLimit": 10000
     },
     "inputWidgets": {},
     "nuid": "5bbeedb8-d887-4897-af4f-ad82dcdd02e8",
     "showTitle": false,
     "tableResultSettingsMap": {},
     "title": ""
    }
   },
   "outputs": [],
   "source": [
    "final_gpd_diss['Classification'] = final_gpd_diss['Land Ownership'] + ' - ' + final_gpd_diss['Habitat']"
   ]
  },
  {
   "cell_type": "code",
   "execution_count": 0,
   "metadata": {
    "application/vnd.databricks.v1+cell": {
     "cellMetadata": {
      "byteLimit": 2048000,
      "rowLimit": 10000
     },
     "inputWidgets": {},
     "nuid": "3547d7cc-2c45-4d88-a123-4bf4c2d791de",
     "showTitle": false,
     "tableResultSettingsMap": {},
     "title": ""
    }
   },
   "outputs": [],
   "source": [
    "final_gpd_diss['Area'] = final_gpd_diss .geometry.area"
   ]
  },
  {
   "cell_type": "code",
   "execution_count": 0,
   "metadata": {
    "application/vnd.databricks.v1+cell": {
     "cellMetadata": {
      "byteLimit": 2048000,
      "rowLimit": 10000
     },
     "inputWidgets": {},
     "nuid": "a58086f3-a5c7-4619-819c-7e0d61aad77b",
     "showTitle": false,
     "tableResultSettingsMap": {},
     "title": ""
    }
   },
   "outputs": [],
   "source": [
    "keep = ['Land Ownership','Habitat','Classification','Area','geometry']\n",
    "final_gpd_diss = final_gpd_diss[keep]\n",
    "final_gpd_diss"
   ]
  },
  {
   "cell_type": "code",
   "execution_count": 0,
   "metadata": {
    "application/vnd.databricks.v1+cell": {
     "cellMetadata": {
      "byteLimit": 2048000,
      "rowLimit": 10000
     },
     "inputWidgets": {},
     "nuid": "26c27452-f51d-4127-84d7-1a46619a31f7",
     "showTitle": false,
     "tableResultSettingsMap": {},
     "title": ""
    }
   },
   "outputs": [],
   "source": [
    "final_gpd_diss.crs = 'epsg:27700'"
   ]
  },
  {
   "cell_type": "code",
   "execution_count": 0,
   "metadata": {
    "application/vnd.databricks.v1+cell": {
     "cellMetadata": {
      "byteLimit": 2048000,
      "rowLimit": 10000
     },
     "inputWidgets": {},
     "nuid": "1f968824-07c6-4b00-aaa2-813469a3b025",
     "showTitle": false,
     "tableResultSettingsMap": {},
     "title": ""
    }
   },
   "outputs": [],
   "source": [
    "final_gpd_diss.to_parquet(str(out_path)+\"/DGL_Habitats_Summary.parquet\")"
   ]
  },
  {
   "cell_type": "code",
   "execution_count": 0,
   "metadata": {
    "application/vnd.databricks.v1+cell": {
     "cellMetadata": {
      "byteLimit": 2048000,
      "rowLimit": 10000
     },
     "inputWidgets": {},
     "nuid": "d592081e-f75d-4282-944d-ef96aab03502",
     "showTitle": false,
     "tableResultSettingsMap": {},
     "title": ""
    }
   },
   "outputs": [],
   "source": [
    "displayHTML(download_link(alt_out_path + '/DGL_Habitats_Summary.parquet'))"
   ]
  },
  {
   "cell_type": "code",
   "execution_count": 0,
   "metadata": {
    "application/vnd.databricks.v1+cell": {
     "cellMetadata": {
      "byteLimit": 2048000,
      "rowLimit": 10000
     },
     "inputWidgets": {},
     "nuid": "e5cf0d49-36ec-42d1-8149-abd40b28f55b",
     "showTitle": false,
     "tableResultSettingsMap": {},
     "title": ""
    }
   },
   "outputs": [],
   "source": [
    "import shutil\n",
    "import tempfile\n",
    "\n",
    "with tempfile.TemporaryDirectory() as tmp:\n",
    "    data_name = 'DGL_Habitats_Summary'\n",
    "    output_file = tmp + '/' + data_name + '.gpkg'\n",
    "    final_gpd.to_file(output_file, layer= data_name, driver='GPKG')\n",
    "    shutil.copy(output_file, str(out_path) + '/' + data_name + '.gpkg')\n",
    "\n",
    "displayHTML(download_link(alt_out_path + '/' + data_name + '.gpkg'))"
   ]
  }
 ],
 "metadata": {
  "application/vnd.databricks.v1+notebook": {
   "computePreferences": null,
   "dashboards": [],
   "environmentMetadata": {
    "base_environment": "",
    "environment_version": "2"
   },
   "language": "python",
   "notebookMetadata": {
    "pythonIndentUnit": 2
   },
   "notebookName": "DGL Vector Combined Output",
   "widgets": {}
  },
  "language_info": {
   "name": "python"
  }
 },
 "nbformat": 4,
 "nbformat_minor": 0
}
