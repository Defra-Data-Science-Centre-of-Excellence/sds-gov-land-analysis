{
 "cells": [
  {
   "cell_type": "code",
   "execution_count": 0,
   "metadata": {
    "application/vnd.databricks.v1+cell": {
     "cellMetadata": {
      "byteLimit": 2048000,
      "rowLimit": 10000
     },
     "inputWidgets": {},
     "nuid": "5e0ec5d7-ba47-4a7f-bceb-5fdfc858cc45",
     "showTitle": false,
     "tableResultSettingsMap": {},
     "title": ""
    }
   },
   "outputs": [],
   "source": [
    "import matplotlib.pyplot as plt\n",
    "import numpy as np\n",
    "import pandas as pd\n",
    "import matplotlib.ticker as mtick\n"
   ]
  },
  {
   "cell_type": "code",
   "execution_count": 0,
   "metadata": {
    "application/vnd.databricks.v1+cell": {
     "cellMetadata": {
      "byteLimit": 2048000,
      "rowLimit": 10000
     },
     "inputWidgets": {},
     "nuid": "2faad5ff-60be-4125-8d77-10e947d1bee3",
     "showTitle": false,
     "tableResultSettingsMap": {},
     "title": ""
    }
   },
   "outputs": [],
   "source": [
    "data = {\n",
    "    \"Habitat\": [\n",
    "        \"Woodland\",\n",
    "        \"Mountain, Moorland & Heath\",\n",
    "        \"Semi-Natural Grassland\",\n",
    "        \"Marine & Coastal Margins\",\n",
    "        \"Enclosed Farmland\",\n",
    "        \"Freshwater & Wetlands\",\n",
    "        \"Urban\",\n",
    "    ],\n",
    "    \"Freehold Area (ha)\": [187534.4, 60132.8, 30563.0, 7735.2, 35162.5, 31755.2, 2473.6],\n",
    "    \"Leasehold Area (ha)\": [48904.4, 8326.4, 3359.1, 6759.9, 6653.4, 9911.8, 413.3],\n",
    "    \"Mixed Tenure Areas (ha)\": [5799.8, 189.5, 463.5, 10.7, 593.0, 104.2, 24.7],\n",
    "}"
   ]
  },
  {
   "cell_type": "code",
   "execution_count": 0,
   "metadata": {
    "application/vnd.databricks.v1+cell": {
     "cellMetadata": {
      "byteLimit": 2048000,
      "rowLimit": 10000
     },
     "inputWidgets": {},
     "nuid": "aae0436d-df84-4d54-9805-13ee22a11068",
     "showTitle": false,
     "tableResultSettingsMap": {},
     "title": ""
    }
   },
   "outputs": [],
   "source": [
    "df = pd.DataFrame(data)\n",
    "df"
   ]
  },
  {
   "cell_type": "code",
   "execution_count": 0,
   "metadata": {
    "application/vnd.databricks.v1+cell": {
     "cellMetadata": {
      "byteLimit": 2048000,
      "rowLimit": 10000
     },
     "inputWidgets": {},
     "nuid": "fb4c160c-d64b-470c-9ccf-eddbe41023e0",
     "showTitle": false,
     "tableResultSettingsMap": {},
     "title": ""
    }
   },
   "outputs": [],
   "source": [
    "x = np.arange(len(df[\"Habitat\"]))\n",
    "width = 0.7"
   ]
  },
  {
   "cell_type": "code",
   "execution_count": 0,
   "metadata": {
    "application/vnd.databricks.v1+cell": {
     "cellMetadata": {
      "byteLimit": 2048000,
      "rowLimit": 10000
     },
     "inputWidgets": {},
     "nuid": "9acc33a0-a6ef-438c-9438-6a0d6358c2d5",
     "showTitle": false,
     "tableResultSettingsMap": {},
     "title": ""
    }
   },
   "outputs": [],
   "source": [
    "colors = {\n",
    "    \"Woodland\": '#28A197',\n",
    "    \"Mountain, Moorland & Heath\": '#A285D1',\n",
    "    \"Semi-Natural Grassland\": '#F46A25',\n",
    "    \"Marine & Coastal Margins\": '#12436D',\n",
    "    \"Enclosed Farmland\": '#801650',\n",
    "    \"Freshwater & Wetlands\": '#2073BC',\n",
    "    \"Urban\": '#3D3D3D'\n",
    "}\n",
    "\n",
    "freehold_colors = [colors[habitat] for habitat in df[\"Habitat\"]]"
   ]
  },
  {
   "cell_type": "code",
   "execution_count": 0,
   "metadata": {
    "application/vnd.databricks.v1+cell": {
     "cellMetadata": {
      "byteLimit": 2048000,
      "rowLimit": 10000
     },
     "inputWidgets": {},
     "nuid": "a761e215-6027-4e1c-a8d4-cf4ff882b6ae",
     "showTitle": false,
     "tableResultSettingsMap": {},
     "title": ""
    }
   },
   "outputs": [],
   "source": [
    "from matplotlib.font_manager import FontEntry, fontManager\n",
    "from matplotlib.pyplot import rcParams\n",
    "\n",
    "font_entry = FontEntry(\n",
    "    fname=\"/dbfs/mnt/lab/unrestricted/james.kenyon@defra.gov.uk/font/Arial.ttf\",\n",
    "    name=\"Arial\",\n",
    "    size=\"scalable\",\n",
    ")\n",
    "fontManager.ttflist.insert(0, font_entry)\n",
    "rcParams[\"font.sans-serif\"] = [\"Arial\"]"
   ]
  },
  {
   "cell_type": "code",
   "execution_count": 0,
   "metadata": {
    "application/vnd.databricks.v1+cell": {
     "cellMetadata": {
      "byteLimit": 2048000,
      "rowLimit": 10000
     },
     "inputWidgets": {},
     "nuid": "398119da-4eeb-462e-9ea9-04b6cf43d161",
     "showTitle": false,
     "tableResultSettingsMap": {},
     "title": ""
    }
   },
   "outputs": [],
   "source": [
    "fig, ax = plt.subplots(figsize=(13, 9))\n",
    "\n",
    "# Bars with specific colors per habitat\n",
    "bar1 = ax.bar(\n",
    "    x, \n",
    "    df[\"Freehold Area (ha)\"], \n",
    "    width, \n",
    "    label=\"Freehold\", \n",
    "    color=freehold_colors, \n",
    "    edgecolor=freehold_colors,\n",
    "    zorder=3  # Match edge color to the fill color\n",
    ")\n",
    "bar2 = ax.bar(\n",
    "    x,\n",
    "    df[\"Leasehold Area (ha)\"],\n",
    "    width,\n",
    "    bottom=df[\"Freehold Area (ha)\"],\n",
    "    label=\"Leasehold\",\n",
    "    color=\"white\",\n",
    "    edgecolor=freehold_colors,  # Match edge color to the corresponding habitat\n",
    "    hatch=\"..\",\n",
    "    zorder=3  # Apply the pattern\n",
    ")\n",
    "bar3 = ax.bar(\n",
    "    x,\n",
    "    df[\"Mixed Tenure Areas (ha)\"],\n",
    "    width,\n",
    "    bottom=df[\"Freehold Area (ha)\"] + df[\"Leasehold Area (ha)\"],\n",
    "    label=\"Mixed Tenure\",\n",
    "    color=\"none\",  # Transparent fill\n",
    "    edgecolor=freehold_colors,  # Match edge color to the corresponding habitat\n",
    "    zorder=3  # Another pattern\n",
    ")\n",
    "\n",
    "# Split long labels over two lines\n",
    "split_labels = [\n",
    "    \"Woodland\",\n",
    "    \"Mountain,\\nMoorland\\n& Heath\",\n",
    "    \"Semi-Natural\\nGrassland\",\n",
    "    \"Marine &\\nCoastal\\nMargins\",\n",
    "    \"Enclosed\\nFarmland\",\n",
    "    \"Freshwater &\\nWetlands\",\n",
    "    \"Urban\"\n",
    "]\n",
    "\n",
    "# Add labels, title, and grid\n",
    "ax.set_ylabel(\"Area (ha)\", fontsize=18)\n",
    "ax.tick_params(axis='y', labelsize=15)\n",
    "ax.set_xticks(x)\n",
    "ax.set_xticklabels(split_labels, fontsize=18)\n",
    "ax.yaxis.set_major_locator(plt.MultipleLocator(50000))\n",
    "ax.yaxis.set_major_formatter(mtick.FuncFormatter(lambda x, _: f\"{x:,.0f}\"))  # Grid line interval\n",
    "ax.grid(axis='y', linestyle='--', alpha=0.7, zorder=0)  # Add grid lines for y-axis\n",
    "\n",
    "# Show the plot\n",
    "plt.tight_layout()\n",
    "plt.show()"
   ]
  },
  {
   "cell_type": "code",
   "execution_count": 0,
   "metadata": {
    "application/vnd.databricks.v1+cell": {
     "cellMetadata": {
      "byteLimit": 2048000,
      "rowLimit": 10000
     },
     "inputWidgets": {},
     "nuid": "67b2fc12-e569-4e4a-8937-b9488e10ada6",
     "showTitle": false,
     "tableResultSettingsMap": {},
     "title": ""
    }
   },
   "outputs": [],
   "source": [
    "import matplotlib.pyplot as plt\n",
    "import numpy as np\n",
    "\n",
    "# Define the data\n",
    "x = np.arange(len(df))  # Assuming df is the DataFrame with your data\n",
    "width = 0.25  # Width of each bar\n",
    "\n",
    "# Create the figure and axes\n",
    "fig, ax = plt.subplots(figsize=(13, 9))\n",
    "\n",
    "# Plot grouped bars\n",
    "bar1 = ax.bar(\n",
    "    x - width, \n",
    "    df[\"Freehold Area (ha)\"], \n",
    "    width, \n",
    "    label=\"Freehold\", \n",
    "    color=\"#28A197\", \n",
    "    zorder=3\n",
    ")\n",
    "bar2 = ax.bar(\n",
    "    x, \n",
    "    df[\"Leasehold Area (ha)\"], \n",
    "    width, \n",
    "    label=\"Leasehold\", \n",
    "    color=\"#F46A25\", \n",
    "    zorder=3\n",
    ")\n",
    "bar3 = ax.bar(\n",
    "    x + width, \n",
    "    df[\"Mixed Tenure Areas (ha)\"], \n",
    "    width, \n",
    "    label=\"Mixed Tenure\", \n",
    "    color=\"#801650\", \n",
    "    zorder=3\n",
    ")\n",
    "\n",
    "# Split long labels over two lines\n",
    "split_labels = [\n",
    "    \"Woodland\",\n",
    "    \"Mountain,\\nMoorland\\n& Heath\",\n",
    "    \"Semi-Natural\\nGrassland\",\n",
    "    \"Marine &\\nCoastal\\nMargins\",\n",
    "    \"Enclosed\\nFarmland\",\n",
    "    \"Freshwater &\\nWetlands\",\n",
    "    \"Urban\"\n",
    "]\n",
    "\n",
    "# Set axis labels and ticks\n",
    "ax.set_yscale(\"log\")  # Logarithmic scale for y-axis\n",
    "ax.set_ylabel(\"Area (ha, Logarithmic)\", fontsize=18)\n",
    "ax.set_xticks(x)\n",
    "ax.set_xticklabels(split_labels, fontsize=18)\n",
    "ax.tick_params(axis='y', labelsize=15)\n",
    "ax.yaxis.set_major_formatter(plt.FuncFormatter(lambda y, _: f'{int(y):,}'))  # Format tick labels with commas\n",
    "ax.set_yticks([10, 100, 1000, 10000, 100000, 200000])  # Custom tick marks\n",
    "ax.grid(axis='y', linestyle='--', alpha=0.7, zorder=0)  # Grid lines\n",
    "\n",
    "# Add a legend\n",
    "ax.legend(fontsize=18)\n",
    "\n",
    "# Show the plot\n",
    "plt.tight_layout()\n",
    "plt.show()\n"
   ]
  },
  {
   "cell_type": "code",
   "execution_count": 0,
   "metadata": {
    "application/vnd.databricks.v1+cell": {
     "cellMetadata": {},
     "inputWidgets": {},
     "nuid": "07d2e881-a093-47bf-be22-1fdcf46b3fd0",
     "showTitle": false,
     "tableResultSettingsMap": {},
     "title": ""
    }
   },
   "outputs": [],
   "source": []
  }
 ],
 "metadata": {
  "application/vnd.databricks.v1+notebook": {
   "computePreferences": null,
   "dashboards": [],
   "environmentMetadata": {
    "base_environment": "",
    "environment_version": "2"
   },
   "language": "python",
   "notebookMetadata": {
    "pythonIndentUnit": 2
   },
   "notebookName": "Quick plot",
   "widgets": {}
  },
  "language_info": {
   "name": "python"
  }
 },
 "nbformat": 4,
 "nbformat_minor": 0
}
