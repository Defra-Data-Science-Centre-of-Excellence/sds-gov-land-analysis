{
 "cells": [
  {
   "cell_type": "markdown",
   "metadata": {
    "application/vnd.databricks.v1+cell": {
     "cellMetadata": {
      "byteLimit": 2048000,
      "rowLimit": 10000
     },
     "inputWidgets": {},
     "nuid": "faee0404-3849-41e7-ad03-1b1938758a1b",
     "showTitle": false,
     "tableResultSettingsMap": {},
     "title": ""
    }
   },
   "source": [
    "##Notebook for getting summary breakdowns of habitat occurance on Defra Group Land\n",
    "\n",
    "Miles Clement, Feb 2025\n",
    "\n",
    "**NOTE:** Area calculations are based on model outputs, and not the full vector geometries. The values calculated for Defra Land will vary from those previously reported in Phase 1 due to this generalised representation of the spatial extent.\n",
    "\n",
    "**NOTE 2:** There is overlap between the extent of freehold and leasehold land parcels. The habitat extent of these will be reported separately.\n",
    "\n",
    "**Habitat Notes**\n",
    "- Saltmarsh is a subset of Coastal Margins, and included in the extent of the latter (beware of double counting)\n",
    "- Upland Bog is a subset of Moorland & Heath, and included in the extent of the latter (beware of double counting)\n",
    "- Dense and Sparse Woodland will also be reported as combined/mixed woodland"
   ]
  },
  {
   "cell_type": "code",
   "execution_count": 0,
   "metadata": {
    "application/vnd.databricks.v1+cell": {
     "cellMetadata": {
      "byteLimit": 2048000,
      "rowLimit": 10000
     },
     "inputWidgets": {},
     "nuid": "8a716406-2c0e-4fc3-9551-e6bdebd05f01",
     "showTitle": false,
     "tableResultSettingsMap": {},
     "title": ""
    }
   },
   "outputs": [],
   "source": [
    "import pandas as pd\n",
    "import os\n",
    "from pathlib import Path\n",
    "from functools import reduce\n",
    "from sds_dash_download import download_file"
   ]
  },
  {
   "cell_type": "code",
   "execution_count": 0,
   "metadata": {
    "application/vnd.databricks.v1+cell": {
     "cellMetadata": {
      "byteLimit": 2048000,
      "rowLimit": 10000
     },
     "inputWidgets": {},
     "nuid": "f56bd51e-1af3-49d5-8931-1ee86631a50e",
     "showTitle": false,
     "tableResultSettingsMap": {},
     "title": ""
    }
   },
   "outputs": [],
   "source": [
    "from sedona.spark import *\n",
    "from pyspark.sql.functions import expr, when, col, lit, sum\n",
    "from pyspark.sql import functions as F\n",
    "\n",
    "sedona = SedonaContext.create(spark)\n",
    "sqlContext.clearCache()\n",
    "\n",
    "username = (\n",
    "    dbutils.notebook.entry_point.getDbutils().notebook().getContext().userName().get()\n",
    ")"
   ]
  },
  {
   "cell_type": "code",
   "execution_count": 0,
   "metadata": {
    "application/vnd.databricks.v1+cell": {
     "cellMetadata": {
      "byteLimit": 2048000,
      "rowLimit": 10000
     },
     "inputWidgets": {},
     "nuid": "0f02fdf2-9679-4d18-8295-ec86f09c5940",
     "showTitle": false,
     "tableResultSettingsMap": {},
     "title": ""
    }
   },
   "outputs": [],
   "source": [
    "table_dir = Path('/dbfs/mnt/lab-res-a1001005/esd_project/Defra_Land/Final/Asset_Tables')\n",
    "alt_table_dir = str(table_dir).replace(\"/dbfs\", \"dbfs:\")"
   ]
  },
  {
   "cell_type": "code",
   "execution_count": 0,
   "metadata": {
    "application/vnd.databricks.v1+cell": {
     "cellMetadata": {
      "byteLimit": 2048000,
      "rowLimit": 10000
     },
     "inputWidgets": {},
     "nuid": "058fe52f-f2f6-46b7-b35f-74521a0bc3e0",
     "showTitle": false,
     "tableResultSettingsMap": {},
     "title": ""
    }
   },
   "outputs": [],
   "source": [
    "par_files = os.listdir(table_dir)\n",
    "par_files"
   ]
  },
  {
   "cell_type": "markdown",
   "metadata": {
    "application/vnd.databricks.v1+cell": {
     "cellMetadata": {
      "byteLimit": 2048000,
      "rowLimit": 10000
     },
     "inputWidgets": {},
     "nuid": "778dd965-20f9-41ae-886c-5730b4224edd",
     "showTitle": false,
     "tableResultSettingsMap": {},
     "title": ""
    }
   },
   "source": [
    "#### Constants & High-Level Stats\n",
    "- Overall Extent\n",
    "- Difference between model representation of DGL and the vector input"
   ]
  },
  {
   "cell_type": "code",
   "execution_count": 0,
   "metadata": {
    "application/vnd.databricks.v1+cell": {
     "cellMetadata": {
      "byteLimit": 2048000,
      "rowLimit": 10000
     },
     "inputWidgets": {},
     "nuid": "ef178421-5a61-465d-8d85-56cbbc316433",
     "showTitle": false,
     "tableResultSettingsMap": {},
     "title": ""
    }
   },
   "outputs": [],
   "source": [
    "# Load in example dataset to calculate Leasehold/Freehold counts\n",
    "par = '10m_x_assets_combined_moorland.parquet'\n",
    "data_in = sedona.read.format(\"parquet\").load(f\"{alt_table_dir}/{par}\")\n",
    "data_in.createOrReplaceTempView(\"data_in\")"
   ]
  },
  {
   "cell_type": "code",
   "execution_count": 0,
   "metadata": {
    "application/vnd.databricks.v1+cell": {
     "cellMetadata": {
      "byteLimit": 2048000,
      "rowLimit": 10000
     },
     "inputWidgets": {},
     "nuid": "36c22f58-a8a9-4fc1-b587-f9ec69f9bc26",
     "showTitle": false,
     "tableResultSettingsMap": {},
     "title": ""
    }
   },
   "outputs": [],
   "source": [
    "# Get row counts for each split of data (by tenure)\n",
    "leasehold_count = data_in.filter((data_in.dgl_fh.isNull()) & (data_in.dgl_lh == 1)).count()\n",
    "freehold_count = data_in.filter((data_in.dgl_fh == 1) & (data_in.dgl_lh.isNull())).count()\n",
    "both_count = data_in.filter((data_in.dgl_fh == 1) & (data_in.dgl_lh == 1)).count() \n",
    "total_count = data_in.filter((data_in.dgl_fh == 1) | (data_in.dgl_lh == 1)).count()\n",
    "\n",
    "# Times by 100 to convert to grid cells, divide by 10000 to convert to ha\n",
    "# Simplified to divide by 100 to convert count to ha\n",
    "leasehold_ha = leasehold_count / 100\n",
    "freehold_ha = freehold_count / 100\n",
    "both_ha = both_count / 100\n",
    "total_ha = total_count / 100"
   ]
  },
  {
   "cell_type": "code",
   "execution_count": 0,
   "metadata": {
    "application/vnd.databricks.v1+cell": {
     "cellMetadata": {
      "byteLimit": 2048000,
      "rowLimit": 10000
     },
     "inputWidgets": {},
     "nuid": "c97b9ee5-eee3-4988-901c-85b42cfac57b",
     "showTitle": false,
     "tableResultSettingsMap": {},
     "title": ""
    }
   },
   "outputs": [],
   "source": [
    "print(f\"Leasehold: {leasehold_ha} ha\")\n",
    "print(f\"Freehold: {freehold_ha} ha\")\n",
    "print(f\"Both holding types: {both_ha} ha\")\n",
    "print(f\"Total: {total_ha} ha\")\n",
    "#print(f\"Total Check: {leasehold_ha+freehold_ha+both_ha} ha\")"
   ]
  },
  {
   "cell_type": "code",
   "execution_count": 0,
   "metadata": {
    "application/vnd.databricks.v1+cell": {
     "cellMetadata": {
      "byteLimit": 2048000,
      "rowLimit": 10000
     },
     "inputWidgets": {},
     "nuid": "e39db369-fd0c-47ba-a24e-763c102ad4e3",
     "showTitle": false,
     "tableResultSettingsMap": {},
     "title": ""
    }
   },
   "outputs": [],
   "source": [
    "# Load in Phase 1 DGL outputs to calc overall difference in extent\n",
    "dgl_vect = sedona.read.format(\"parquet\").load(\"dbfs:/mnt/lab-res-a1001005/esd_project/jasmine.elliott@defra.gov.uk/gov_land_analysis/phase_one_final_report_outputs/polygon_ccod_defra_by_organisation_tenure.parquet\")\n",
    "\n",
    "dgl_vect.createOrReplaceTempView(\"dgl_vect\")"
   ]
  },
  {
   "cell_type": "code",
   "execution_count": 0,
   "metadata": {
    "application/vnd.databricks.v1+cell": {
     "cellMetadata": {
      "byteLimit": 2048000,
      "rowLimit": 10000
     },
     "inputWidgets": {},
     "nuid": "e15519d6-2e03-4890-a972-4be0fb92c846",
     "showTitle": false,
     "tableResultSettingsMap": {},
     "title": ""
    }
   },
   "outputs": [],
   "source": [
    "# Calculate the total area using agg\n",
    "vect_area = dgl_vect.agg(sum(\"area_ha\").alias(\"total_area\")).collect()[0][\"total_area\"]"
   ]
  },
  {
   "cell_type": "code",
   "execution_count": 0,
   "metadata": {
    "application/vnd.databricks.v1+cell": {
     "cellMetadata": {
      "byteLimit": 2048000,
      "rowLimit": 10000
     },
     "inputWidgets": {},
     "nuid": "6b294f82-8540-43d2-92fa-f3df5bb9fca6",
     "showTitle": false,
     "tableResultSettingsMap": {},
     "title": ""
    }
   },
   "outputs": [],
   "source": [
    "print(f\"Model Area: {total_ha} ha\")\n",
    "print(f\"Vector Area: {round(vect_area,1)} ha\")\n",
    "print(f\"Difference: {round(vect_area-total_ha,1)} ha more in the vector dataset\")\n",
    "print(f\"This equates to {round(((vect_area-total_ha)/vect_area)*100,2)}% of the vector dataset area\")"
   ]
  },
  {
   "cell_type": "markdown",
   "metadata": {
    "application/vnd.databricks.v1+cell": {
     "cellMetadata": {
      "byteLimit": 2048000,
      "rowLimit": 10000
     },
     "inputWidgets": {},
     "nuid": "0a7c8693-0bde-4270-a58b-3f8692ecd0c3",
     "showTitle": false,
     "tableResultSettingsMap": {},
     "title": ""
    }
   },
   "source": [
    "####Table 1: Habitat broken down by Leasehold/Freehold/Both"
   ]
  },
  {
   "cell_type": "code",
   "execution_count": 0,
   "metadata": {
    "application/vnd.databricks.v1+cell": {
     "cellMetadata": {
      "byteLimit": 2048000,
      "rowLimit": 10000
     },
     "inputWidgets": {},
     "nuid": "b7ad6de8-b7c4-4beb-ac98-c2e92cce3af0",
     "showTitle": false,
     "tableResultSettingsMap": {},
     "title": ""
    }
   },
   "outputs": [],
   "source": [
    "# Define asset columns that represent each habitat\n",
    "habitats_cols = {\n",
    "    'mixed_woodland': [\"le_comb\",\"lcm_comb\",\"nfi_dense\",\"phi_deciduous_woodland\",\"le_scrub\",\"nfi_sparse\",\"wood_pasture_park\",\"phi_traditional_orchard\",\"fr_tow\"],\n",
    "    'dense_woodland': [\"le_comb\",\"lcm_comb\",\"nfi_dense\",\"phi_deciduous_woodland\"],\n",
    "    'sparse_woodland': [\"le_scrub\",\"nfi_sparse\",\"wood_pasture_park\",\"phi_traditional_orchard\",\"fr_tow\"],\n",
    "    'moorland': [\"le_comb\",\"phi_comb\",\"lcm_comb\"],\n",
    "    'upland_bog': [\"le_bog\",\"phi_blanket_bog\",\"lcm_bog\"],\n",
    "    'grassland': [\"le_unimproved_grass\",\"phi_comb\",\"lcm_comb\"],\n",
    "    'coastal': [\"le_comb\",\"phi_comb\",\"lcm_comb\",\"ne_marine\"],\n",
    "    'saltmarsh': [\"le_saltmarsh\",\"phi_saltmarsh\",\"lcm_saltmarsh\",\"ne_marine_saltmarsh\"],\n",
    "    'arable': ['le_comb', 'phi_comb', 'lcm_comb', 'crome'],\n",
    "    'water': [\"le_comb\",\"lcm_comb\",\"phi_comb\",\"os_ngd_water\"],\n",
    "    'urban': [\"le_urban\",\"lcm_comb\",\"ons_urban\"]\n",
    "}"
   ]
  },
  {
   "cell_type": "code",
   "execution_count": 0,
   "metadata": {
    "application/vnd.databricks.v1+cell": {
     "cellMetadata": {
      "byteLimit": 2048000,
      "rowLimit": 10000
     },
     "inputWidgets": {},
     "nuid": "dd97d310-f5cf-4574-9da9-1061b9e80328",
     "showTitle": false,
     "tableResultSettingsMap": {},
     "title": ""
    }
   },
   "outputs": [],
   "source": [
    "results = []"
   ]
  },
  {
   "cell_type": "code",
   "execution_count": 0,
   "metadata": {
    "application/vnd.databricks.v1+cell": {
     "cellMetadata": {
      "byteLimit": 2048000,
      "rowLimit": 10000
     },
     "inputWidgets": {},
     "nuid": "fb07f088-4fdd-4322-a294-482c3283f3ce",
     "showTitle": false,
     "tableResultSettingsMap": {},
     "title": ""
    }
   },
   "outputs": [],
   "source": [
    "# Iterate habitat parquet files\n",
    "for habitat, indicators in habitats_cols.items():\n",
    "\n",
    "  print(habitat)\n",
    "\n",
    "  row = {\"habitat\": habitat} \n",
    "\n",
    "  # If mixed woodland, load in dense and sparse and combine\n",
    "  if habitat == 'mixed_woodland':\n",
    "    dense = sedona.read.format(\"parquet\").load(f\"{alt_table_dir}/10m_x_assets_combined_dense_woodland.parquet\")\n",
    "    sparse = sedona.read.format(\"parquet\").load(f\"{alt_table_dir}/10m_x_assets_combined_sparse_woodland.parquet\")\n",
    "    sparse = sparse.drop('geometry', 'dgl_fh', 'dgl_lh')\n",
    "\n",
    "    dense.createOrReplaceTempView(\"dense\")\n",
    "    sparse.createOrReplaceTempView(\"sparse\")\n",
    "\n",
    "    data_in = dense.join(sparse, on=\"id\", how=\"left\")\n",
    "    data_in.createOrReplaceTempView(\"data_in\")\n",
    "\n",
    "  else:\n",
    "    data_in = sedona.read.format(\"parquet\").load(f\"{alt_table_dir}/10m_x_assets_combined_{habitat}.parquet\")\n",
    "    data_in.createOrReplaceTempView(\"data_in\")\n",
    "\n",
    "  # Iterate freehold/leasehold/both\n",
    "  for tenure in ['dgl_fh','dgl_lh','both']:\n",
    "\n",
    "    if tenure == 'dgl_fh':\n",
    "      tenure_condition = ((data_in[tenure] == 1) & (data_in['dgl_lh'].isNull()))\n",
    "    elif tenure == 'dgl_lh':\n",
    "      tenure_condition = ((data_in[tenure] == 1) & (data_in['dgl_fh'].isNull()))\n",
    "    elif tenure == 'both':\n",
    "      tenure_condition = ((data_in['dgl_fh'] == 1) & (data_in['dgl_lh'] == 1))\n",
    "\n",
    "    # Set indicator columns for checking \n",
    "    indicator_condition = reduce(\n",
    "            lambda acc, col: acc | (data_in[col] == 1),\n",
    "            indicators,\n",
    "            lit(False) \n",
    "        )\n",
    "    \n",
    "    # Additional condiiton for upland bog (above moorland line)\n",
    "    if habitat == \"upland_bog\":\n",
    "      moorland_line_condition = col(\"moorland_line\") == 1\n",
    "      indicator_condition = moorland_line_condition & indicator_condition\n",
    "    \n",
    "    full_condition = tenure_condition & indicator_condition\n",
    "\n",
    "    n = data_in.filter(full_condition).count()\n",
    "    ha = n / 100\n",
    "\n",
    "    if tenure == 'dgl_fh':\n",
    "      row[\"freehold_ha\"] = ha\n",
    "    elif tenure == 'dgl_lh':\n",
    "      row[\"leasehold_ha\"] = ha\n",
    "    elif tenure == 'both':\n",
    "      row[\"mixed_tenure_ha\"] = ha\n",
    "\n",
    "  results.append(row)"
   ]
  },
  {
   "cell_type": "code",
   "execution_count": 0,
   "metadata": {
    "application/vnd.databricks.v1+cell": {
     "cellMetadata": {
      "byteLimit": 2048000,
      "rowLimit": 10000
     },
     "inputWidgets": {},
     "nuid": "c49675dc-7229-4b2c-9c28-d115bf9f1b57",
     "showTitle": false,
     "tableResultSettingsMap": {},
     "title": ""
    }
   },
   "outputs": [],
   "source": [
    "summary_df = pd.DataFrame(results)\n",
    "summary_df"
   ]
  },
  {
   "cell_type": "code",
   "execution_count": 0,
   "metadata": {
    "application/vnd.databricks.v1+cell": {
     "cellMetadata": {
      "byteLimit": 2048000,
      "rowLimit": 10000
     },
     "inputWidgets": {},
     "nuid": "8d791294-cfda-4364-b3c8-baf9df6406f5",
     "showTitle": false,
     "tableResultSettingsMap": {},
     "title": ""
    }
   },
   "outputs": [],
   "source": [
    "# Calc % of DGL\n",
    "summary_df['total_ha'] = summary_df['freehold_ha'] + summary_df['leasehold_ha'] + summary_df['mixed_tenure_ha']\n",
    "summary_df['fh_%_dgl_all'] = ((summary_df['freehold_ha']/ total_ha) *100).round(2)\n",
    "summary_df['fh_%_dgl_fh'] = ((summary_df['freehold_ha']/ freehold_ha) *100).round(2)\n",
    "summary_df['lh_%_dgl_all'] = ((summary_df['leasehold_ha']/ total_ha) *100).round(2)\n",
    "summary_df['lh_%_dgl_lh'] = ((summary_df['leasehold_ha']/ leasehold_ha) *100).round(2)\n",
    "summary_df['mix_%_dgl_all'] = ((summary_df['mixed_tenure_ha']/ total_ha) *100).round(2)\n",
    "summary_df['all_%_dgl_all'] = ((summary_df['total_ha']/ total_ha) *100).round(2)"
   ]
  },
  {
   "cell_type": "code",
   "execution_count": 0,
   "metadata": {
    "application/vnd.databricks.v1+cell": {
     "cellMetadata": {
      "byteLimit": 2048000,
      "rowLimit": 10000
     },
     "inputWidgets": {},
     "nuid": "a617b22a-45cb-4f8b-a18e-3351e8884e7b",
     "showTitle": false,
     "tableResultSettingsMap": {},
     "title": ""
    }
   },
   "outputs": [],
   "source": [
    "summary_df"
   ]
  },
  {
   "cell_type": "code",
   "execution_count": 0,
   "metadata": {
    "application/vnd.databricks.v1+cell": {
     "cellMetadata": {
      "byteLimit": 2048000,
      "rowLimit": 10000
     },
     "inputWidgets": {},
     "nuid": "ae66e736-ee3c-4a14-bad7-ff89d19e15b2",
     "showTitle": false,
     "tableResultSettingsMap": {},
     "title": ""
    }
   },
   "outputs": [],
   "source": [
    "# Calc % of DGL as a proxy for double counting\n",
    "excluded_habitats = [\"saltmarsh\", \"upland_bog\",\"dense_woodland\",\"sparse_woodland\"] # Excluded as double counted habitats\n",
    "summary_df_subsets_rm = summary_df[~summary_df['habitat'].isin(excluded_habitats)]\n",
    "tabulated_perc = summary_df_subsets_rm['all_%_dgl_all'].sum().round(2)\n",
    "tabulated_ha = summary_df_subsets_rm['total_ha'].sum().round(2)\n",
    "print(f'% of DGL covered by habitat extents: {tabulated_perc}')\n",
    "print(f'This means {(tabulated_ha-total_ha).round(2)} ha of land with overlap across multiple habitats')"
   ]
  },
  {
   "cell_type": "code",
   "execution_count": 0,
   "metadata": {
    "application/vnd.databricks.v1+cell": {
     "cellMetadata": {
      "byteLimit": 2048000,
      "rowLimit": 10000
     },
     "inputWidgets": {},
     "nuid": "890f58e8-c34b-467a-b905-4a5b2150cc02",
     "showTitle": false,
     "tableResultSettingsMap": {},
     "title": ""
    }
   },
   "outputs": [],
   "source": [
    "summary_df.to_csv('/dbfs/mnt/lab-res-a1001005/esd_project/Defra_Land/Final/Stats/dgl_overall_summary.csv')"
   ]
  },
  {
   "cell_type": "code",
   "execution_count": 0,
   "metadata": {
    "application/vnd.databricks.v1+cell": {
     "cellMetadata": {
      "byteLimit": 2048000,
      "rowLimit": 10000
     },
     "inputWidgets": {},
     "nuid": "80a00bd3-b935-4cd1-acb8-603e4cfdc116",
     "showTitle": false,
     "tableResultSettingsMap": {},
     "title": ""
    }
   },
   "outputs": [],
   "source": [
    "displayHTML(download_file('/dbfs/mnt/lab-res-a1001005/esd_project/Defra_Land/Final/Stats/dgl_overall_summary.csv', move=False))"
   ]
  },
  {
   "cell_type": "markdown",
   "metadata": {
    "application/vnd.databricks.v1+cell": {
     "cellMetadata": {
      "byteLimit": 2048000,
      "rowLimit": 10000
     },
     "inputWidgets": {},
     "nuid": "77e9a5e7-a510-4617-9328-e0bc3d4911fc",
     "showTitle": false,
     "tableResultSettingsMap": {},
     "title": ""
    }
   },
   "source": [
    "####Table 2: Habitat broken down by Leasehold/Freehold & Owner Organisation"
   ]
  },
  {
   "cell_type": "code",
   "execution_count": 0,
   "metadata": {
    "application/vnd.databricks.v1+cell": {
     "cellMetadata": {
      "byteLimit": 2048000,
      "rowLimit": 10000
     },
     "inputWidgets": {},
     "nuid": "e3aceaca-480b-466e-8a67-9750817bfb2d",
     "showTitle": false,
     "tableResultSettingsMap": {
      "0": {
       "filterBlob": "{\"filterGroups\":[],\"syncTimestamp\":1740040591252}",
       "tableResultIndex": 0
      }
     },
     "title": ""
    }
   },
   "outputs": [],
   "source": [
    "ownership = sedona.read.format(\"parquet\").load(\"dbfs:/mnt/lab-res-a1001005/esd_project/Defra_Land/Assets/10m_x_dgl_organisation.parquet\")\n",
    "ownership.createOrReplaceTempView(\"ownership\")\n",
    "ownership.display()"
   ]
  },
  {
   "cell_type": "code",
   "execution_count": 0,
   "metadata": {
    "application/vnd.databricks.v1+cell": {
     "cellMetadata": {
      "byteLimit": 2048000,
      "rowLimit": 10000
     },
     "inputWidgets": {},
     "nuid": "74bd1044-2d14-40ab-82d2-79ff5d937c3b",
     "showTitle": false,
     "tableResultSettingsMap": {},
     "title": ""
    }
   },
   "outputs": [],
   "source": [
    "unique_orgs = ownership.select(\"organisation\").dropDuplicates()\n",
    "unique_orgs = unique_orgs.rdd.flatMap(lambda x: x).collect()\n",
    "unique_orgs"
   ]
  },
  {
   "cell_type": "code",
   "execution_count": 0,
   "metadata": {
    "application/vnd.databricks.v1+cell": {
     "cellMetadata": {
      "byteLimit": 2048000,
      "rowLimit": 10000
     },
     "inputWidgets": {},
     "nuid": "bc565e5d-4d79-4395-9f5a-a2cff1bddd35",
     "showTitle": false,
     "tableResultSettingsMap": {},
     "title": ""
    }
   },
   "outputs": [],
   "source": [
    "results_org = []"
   ]
  },
  {
   "cell_type": "code",
   "execution_count": 0,
   "metadata": {
    "application/vnd.databricks.v1+cell": {
     "cellMetadata": {
      "byteLimit": 2048000,
      "rowLimit": 10000
     },
     "inputWidgets": {},
     "nuid": "8934821e-5a03-4a45-8a5d-a7137da8716d",
     "showTitle": false,
     "tableResultSettingsMap": {},
     "title": ""
    }
   },
   "outputs": [],
   "source": [
    "# Iterate habitat parquet files\n",
    "for habitat, indicators in habitats_cols.items():\n",
    "\n",
    "  print(habitat)\n",
    "\n",
    "  # If mixed woodland, load in dense and sparse and combine\n",
    "  if habitat == 'mixed_woodland':\n",
    "    dense = sedona.read.format(\"parquet\").load(f\"{alt_table_dir}/10m_x_assets_combined_dense_woodland.parquet\")\n",
    "    sparse = sedona.read.format(\"parquet\").load(f\"{alt_table_dir}/10m_x_assets_combined_sparse_woodland.parquet\")\n",
    "    sparse = sparse.drop('geometry', 'dgl_fh', 'dgl_lh')\n",
    "\n",
    "    dense.createOrReplaceTempView(\"dense\")\n",
    "    sparse.createOrReplaceTempView(\"sparse\")\n",
    "\n",
    "    data_in = dense.join(sparse, on=\"id\", how=\"left\")\n",
    "    data_in.createOrReplaceTempView(\"data_in\")\n",
    "\n",
    "  else:\n",
    "    data_in = sedona.read.format(\"parquet\").load(f\"{alt_table_dir}/10m_x_assets_combined_{habitat}.parquet\")\n",
    "    data_in.createOrReplaceTempView(\"data_in\")\n",
    "\n",
    "  data_org = data_in.join(ownership, on=\"id\", how=\"left\")\n",
    "  data_org.createOrReplaceTempView(\"data_org\")\n",
    "\n",
    "  for org in unique_orgs:\n",
    "    \n",
    "    row = {\"habitat\": habitat} \n",
    "    row[\"organisation\"] = org\n",
    "\n",
    "    org_condition = (data_org['organisation'] == org)\n",
    "\n",
    "    # Iterate freehold/leasehold/both\n",
    "    for tenure in ['dgl_fh','dgl_lh','both']:\n",
    "\n",
    "      if tenure == 'dgl_fh':\n",
    "        tenure_condition = ((data_org[tenure] == 1) & (data_org['dgl_lh'].isNull()))\n",
    "      elif tenure == 'dgl_lh':\n",
    "        tenure_condition = ((data_org[tenure] == 1) & (data_org['dgl_fh'].isNull()))\n",
    "      elif tenure == 'both':\n",
    "        tenure_condition = ((data_org['dgl_fh'] == 1) & (data_org['dgl_lh'] == 1))\n",
    "\n",
    "      # Set indicator columns for checking \n",
    "      indicator_condition = reduce(\n",
    "              lambda acc, col: acc | (data_org[col] == 1),\n",
    "              indicators,\n",
    "              lit(False) \n",
    "          )\n",
    "      \n",
    "      # Additional condiiton for upland bog (above moorland line)\n",
    "      if habitat == \"upland_bog\":\n",
    "        moorland_line_condition = col(\"moorland_line\") == 1\n",
    "        indicator_condition = moorland_line_condition & indicator_condition\n",
    "      \n",
    "      full_condition = org_condition & tenure_condition & indicator_condition\n",
    "\n",
    "      n = data_org.filter(full_condition).count()\n",
    "      ha = n / 100\n",
    "\n",
    "      if tenure == 'dgl_fh':\n",
    "        row[\"freehold_ha\"] = ha\n",
    "      elif tenure == 'dgl_lh':\n",
    "        row[\"leasehold_ha\"] = ha\n",
    "      elif tenure == 'both':\n",
    "        row[\"mixed_tenure_ha\"] = ha\n",
    "\n",
    "      n=None\n",
    "      ha=None\n",
    "\n",
    "    results_org.append(row)"
   ]
  },
  {
   "cell_type": "code",
   "execution_count": 0,
   "metadata": {
    "application/vnd.databricks.v1+cell": {
     "cellMetadata": {
      "byteLimit": 2048000,
      "rowLimit": 10000
     },
     "inputWidgets": {},
     "nuid": "4d1ec67b-4991-4ea0-8435-2709f3be1d7a",
     "showTitle": false,
     "tableResultSettingsMap": {},
     "title": ""
    }
   },
   "outputs": [],
   "source": [
    "summary_org_df = pd.DataFrame(results_org)\n",
    "# Remove any habitat-organisation pairs that have no land in any of the columns\n",
    "summary_org_df = summary_org_df[~((summary_org_df['freehold_ha'] == 0) & (summary_org_df['leasehold_ha'] == 0) & (summary_org_df['mixed_tenure_ha'] == 0))]\n",
    "summary_org_df"
   ]
  },
  {
   "cell_type": "code",
   "execution_count": 0,
   "metadata": {
    "application/vnd.databricks.v1+cell": {
     "cellMetadata": {
      "byteLimit": 2048000,
      "rowLimit": 10000
     },
     "inputWidgets": {},
     "nuid": "fefb8517-34eb-42c2-855a-fe43c0d47381",
     "showTitle": false,
     "tableResultSettingsMap": {},
     "title": ""
    }
   },
   "outputs": [],
   "source": [
    "summary_org_df.to_csv('/dbfs/mnt/lab-res-a1001005/esd_project/Defra_Land/Final/Stats/dgl_organisational_summary.csv')"
   ]
  },
  {
   "cell_type": "code",
   "execution_count": 0,
   "metadata": {
    "application/vnd.databricks.v1+cell": {
     "cellMetadata": {
      "byteLimit": 2048000,
      "rowLimit": 10000
     },
     "inputWidgets": {},
     "nuid": "d60ac041-da92-45ff-ba76-653d306485bd",
     "showTitle": false,
     "tableResultSettingsMap": {},
     "title": ""
    }
   },
   "outputs": [],
   "source": [
    "displayHTML(download_file('/dbfs/mnt/lab-res-a1001005/esd_project/Defra_Land/Final/Stats/dgl_organisational_summary.csv', move=False))"
   ]
  },
  {
   "cell_type": "code",
   "execution_count": 0,
   "metadata": {
    "application/vnd.databricks.v1+cell": {
     "cellMetadata": {},
     "inputWidgets": {},
     "nuid": "a0013b1b-8f10-4cad-bd6b-b67f7c2e1397",
     "showTitle": false,
     "tableResultSettingsMap": {},
     "title": ""
    }
   },
   "outputs": [],
   "source": []
  }
 ],
 "metadata": {
  "application/vnd.databricks.v1+notebook": {
   "computePreferences": null,
   "dashboards": [],
   "environmentMetadata": {
    "base_environment": "",
    "environment_version": "2"
   },
   "language": "python",
   "notebookMetadata": {
    "pythonIndentUnit": 2
   },
   "notebookName": "phase2_summary_stats",
   "widgets": {}
  },
  "language_info": {
   "name": "python"
  }
 },
 "nbformat": 4,
 "nbformat_minor": 0
}
