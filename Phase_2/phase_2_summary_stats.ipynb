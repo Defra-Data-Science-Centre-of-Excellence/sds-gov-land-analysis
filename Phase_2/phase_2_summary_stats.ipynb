{
 "cells": [
  {
   "cell_type": "markdown",
   "metadata": {
    "application/vnd.databricks.v1+cell": {
     "cellMetadata": {
      "byteLimit": 2048000,
      "rowLimit": 10000
     },
     "inputWidgets": {},
     "nuid": "faee0404-3849-41e7-ad03-1b1938758a1b",
     "showTitle": false,
     "tableResultSettingsMap": {},
     "title": ""
    }
   },
   "source": [
    "##Notebook for getting summary breakdowns of habitat occurance on Defra Group Land\n",
    "\n",
    "Miles Clement, Feb 2025\n",
    "\n",
    "**NOTE:** Area calculations are based on model outputs, and not the full vector geometries. The values calculated for Defra Land will vary from those previously reported in Phase 1 due to this generalised representation of the spatial extent.\n",
    "\n",
    "**NOTE 2:** There is overlap between the extent of freehold and leasehold land parcels. The habitat extent of these will be reported separately.\n",
    "\n",
    "**Habitat Notes**\n",
    "- Saltmarsh is a subset of Coastal Margins, and included in the extent of the latter (beware of double counting)\n",
    "- Upland Bog is a subset of Moorland & Heath, and included in the extent of the latter (beware of double counting)\n",
    "- Dense and Sparse Woodland will also be reported as combined/mixed woodland"
   ]
  },
  {
   "cell_type": "markdown",
   "metadata": {
    "application/vnd.databricks.v1+cell": {
     "cellMetadata": {
      "byteLimit": 2048000,
      "rowLimit": 10000
     },
     "inputWidgets": {},
     "nuid": "08d96cef-d822-4c9f-ac9d-bfd5ae1d1ced",
     "showTitle": false,
     "tableResultSettingsMap": {},
     "title": ""
    }
   },
   "source": [
    "---------\n",
    "###SETUP\n",
    "####Load Packages"
   ]
  },
  {
   "cell_type": "code",
   "execution_count": 0,
   "metadata": {
    "application/vnd.databricks.v1+cell": {
     "cellMetadata": {
      "byteLimit": 2048000,
      "rowLimit": 10000
     },
     "inputWidgets": {},
     "nuid": "8a716406-2c0e-4fc3-9551-e6bdebd05f01",
     "showTitle": false,
     "tableResultSettingsMap": {},
     "title": ""
    }
   },
   "outputs": [],
   "source": [
    "import pandas as pd\n",
    "import os\n",
    "from pathlib import Path\n",
    "from functools import reduce\n",
    "from sds_dash_download import download_file"
   ]
  },
  {
   "cell_type": "code",
   "execution_count": 0,
   "metadata": {
    "application/vnd.databricks.v1+cell": {
     "cellMetadata": {
      "byteLimit": 2048000,
      "rowLimit": 10000
     },
     "inputWidgets": {},
     "nuid": "f56bd51e-1af3-49d5-8931-1ee86631a50e",
     "showTitle": false,
     "tableResultSettingsMap": {},
     "title": ""
    }
   },
   "outputs": [],
   "source": [
    "from sedona.spark import *\n",
    "from pyspark.sql.functions import expr, when, col, lit, sum\n",
    "from pyspark.sql import functions as F\n",
    "\n",
    "sedona = SedonaContext.create(spark)\n",
    "sqlContext.clearCache()\n",
    "\n",
    "username = (\n",
    "    dbutils.notebook.entry_point.getDbutils().notebook().getContext().userName().get()\n",
    ")"
   ]
  },
  {
   "cell_type": "markdown",
   "metadata": {
    "application/vnd.databricks.v1+cell": {
     "cellMetadata": {
      "byteLimit": 2048000,
      "rowLimit": 10000
     },
     "inputWidgets": {},
     "nuid": "bced4667-c689-41e7-b465-be82144f0161",
     "showTitle": false,
     "tableResultSettingsMap": {},
     "title": ""
    }
   },
   "source": [
    "####User Input Variables"
   ]
  },
  {
   "cell_type": "code",
   "execution_count": 0,
   "metadata": {
    "application/vnd.databricks.v1+cell": {
     "cellMetadata": {
      "byteLimit": 2048000,
      "rowLimit": 10000
     },
     "inputWidgets": {},
     "nuid": "e2f648b5-e10f-46c9-a96f-b39b9ed9fa10",
     "showTitle": false,
     "tableResultSettingsMap": {},
     "title": ""
    }
   },
   "outputs": [],
   "source": [
    "### UPDATE THIS CELL ###\n",
    "# Combined Asset Table Directory\n",
    "asset_table_dir = Path('/dbfs/mnt/lab-res-a1001005/esd_project/Defra_Land/Final/Asset_Tables')\n",
    "# Out Directory\n",
    "stats_out_dir = Path('/dbfs/mnt/lab-res-a1001005/esd_project/Defra_Land/Final/Stats')"
   ]
  },
  {
   "cell_type": "code",
   "execution_count": 0,
   "metadata": {
    "application/vnd.databricks.v1+cell": {
     "cellMetadata": {
      "byteLimit": 2048000,
      "rowLimit": 10000
     },
     "inputWidgets": {},
     "nuid": "b7ad6de8-b7c4-4beb-ac98-c2e92cce3af0",
     "showTitle": false,
     "tableResultSettingsMap": {},
     "title": ""
    }
   },
   "outputs": [],
   "source": [
    "# Define asset columns that represent each habitat\n",
    "habitats_cols = {\n",
    "    'mixed_woodland': [\"le_comb\",\"lcm_comb\",\"nfi_dense\",\"phi_deciduous_woodland\",\"le_scrub\",\"nfi_sparse\",\"wood_pasture_park\",\"phi_traditional_orchard\",\"fr_tow\"],\n",
    "    'dense_woodland': [\"le_comb\",\"lcm_comb\",\"nfi_dense\",\"phi_deciduous_woodland\"],\n",
    "    'sparse_woodland': [\"le_scrub\",\"nfi_sparse\",\"wood_pasture_park\",\"phi_traditional_orchard\",\"fr_tow\"],\n",
    "    'moorland': [\"le_comb\",\"phi_comb\",\"lcm_comb\"],\n",
    "    'upland_bog': [\"le_bog\",\"phi_blanket_bog\",\"lcm_bog\"],\n",
    "    'grassland': [\"le_unimproved_grass\",\"phi_comb\",\"lcm_comb\"],\n",
    "    'coastal': [\"le_comb\",\"phi_comb\",\"lcm_comb\",\"ne_marine\"],\n",
    "    'saltmarsh': [\"le_saltmarsh\",\"phi_saltmarsh\",\"lcm_saltmarsh\",\"ne_marine_saltmarsh\"],\n",
    "    'arable': ['le_comb', 'phi_comb', 'lcm_comb', 'crome'],\n",
    "    'water': [\"le_comb\",\"lcm_comb\",\"phi_comb\",\"os_ngd_water\"],\n",
    "    'urban': [\"le_urban\",\"lcm_comb\",\"ons_urban\"]\n",
    "}"
   ]
  },
  {
   "cell_type": "code",
   "execution_count": 0,
   "metadata": {
    "application/vnd.databricks.v1+cell": {
     "cellMetadata": {
      "byteLimit": 2048000,
      "rowLimit": 10000
     },
     "inputWidgets": {},
     "nuid": "51e2cf80-6d2e-41f6-ac6f-53a4e44ffd26",
     "showTitle": false,
     "tableResultSettingsMap": {},
     "title": ""
    }
   },
   "outputs": [],
   "source": [
    "# Derivatives\n",
    "alt_table_dir = str(asset_table_dir).replace(\"/dbfs\", \"dbfs:\")\n",
    "parquet_files = os.listdir(asset_table_dir)"
   ]
  },
  {
   "cell_type": "markdown",
   "metadata": {
    "application/vnd.databricks.v1+cell": {
     "cellMetadata": {
      "byteLimit": 2048000,
      "rowLimit": 10000
     },
     "inputWidgets": {},
     "nuid": "799e50a7-b0bf-4a8a-8420-fcf09f135442",
     "showTitle": false,
     "tableResultSettingsMap": {},
     "title": ""
    }
   },
   "source": [
    "#### Load in Core Datasets"
   ]
  },
  {
   "cell_type": "code",
   "execution_count": 0,
   "metadata": {
    "application/vnd.databricks.v1+cell": {
     "cellMetadata": {
      "byteLimit": 2048000,
      "rowLimit": 10000
     },
     "inputWidgets": {},
     "nuid": "7e8c1013-15f1-416f-b3d0-4b496b402ea1",
     "showTitle": false,
     "tableResultSettingsMap": {},
     "title": ""
    }
   },
   "outputs": [],
   "source": [
    "# Load in an example asset table for calculating national scale statistics\n",
    "dgl_data_example = sedona.read.format(\"parquet\").load(f\"{alt_table_dir}/{parquet_files[0]}\")\n",
    "\n",
    "# Load in Phase 1 DGL outputs to calc overall difference in extent\n",
    "dgl_phase1 = sedona.read.format(\"parquet\").load(\"dbfs:/mnt/lab-res-a1001005/esd_project/jasmine.elliott@defra.gov.uk/gov_land_analysis/phase_one_final_report_outputs/polygon_ccod_defra_by_organisation_tenure.parquet\")\n",
    "\n",
    "# Load in ownership data for Defra Land\n",
    "dgl_ownership = sedona.read.format(\"parquet\").load(\"dbfs:/mnt/lab-res-a1001005/esd_project/Defra_Land/Assets/10m_x_dgl_organisation.parquet\")"
   ]
  },
  {
   "cell_type": "markdown",
   "metadata": {
    "application/vnd.databricks.v1+cell": {
     "cellMetadata": {
      "byteLimit": 2048000,
      "rowLimit": 10000
     },
     "inputWidgets": {},
     "nuid": "756b1c4f-5d31-4d15-8a32-71e032a2f756",
     "showTitle": false,
     "tableResultSettingsMap": {},
     "title": ""
    }
   },
   "source": [
    "####Functions"
   ]
  },
  {
   "cell_type": "code",
   "execution_count": 0,
   "metadata": {
    "application/vnd.databricks.v1+cell": {
     "cellMetadata": {
      "byteLimit": 2048000,
      "rowLimit": 10000
     },
     "inputWidgets": {},
     "nuid": "4d43af96-886a-4c59-b07a-81b1fc4dfc7d",
     "showTitle": false,
     "tableResultSettingsMap": {},
     "title": ""
    }
   },
   "outputs": [],
   "source": [
    "def calc_ha(tenure,\n",
    "            data_in, \n",
    "            row,\n",
    "            hab_condition, \n",
    "            tenure_condition,\n",
    "            org_condition = None):\n",
    "  \n",
    "  \"\"\"Combine condition arguments and calculate area in ha for different Defra land tenures & organisations.\n",
    "\n",
    "    Args:\n",
    "          tenure (string): Type of land tenure, either 'freehold', 'leasehold' or 'mixed'\n",
    "          data_in (spark dataframe): Main dataset, table of boolean indicators for specific habitat\n",
    "          row (dictionary): Output dictionary entry to be added to\n",
    "          hab_condition (pyspark column object): List of columns as a boolean condition for analysing data_in, representing habitat indicators\n",
    "          tenure_condition (pyspark column object): List of columns as a boolean condition for analysing data_in, representing tenure\n",
    "          organisation_condition (pyspark column object, default None): List of columns as a boolean condition for analysing data_in, representing organisation indicators\n",
    "    \"\"\" \n",
    "  \n",
    "  if org_condition is None:\n",
    "    full_condition = tenure_condition & hab_condition\n",
    "  elif org_condition is not None:\n",
    "    full_condition = tenure_condition & hab_condition & org_condition\n",
    "\n",
    "  n = data_in.filter(full_condition).count()\n",
    "  ha = n / 100\n",
    "  \n",
    "  if tenure == 'freehold':\n",
    "    row[f'{tenure}_ha'] = ha\n",
    "  elif tenure == 'leasehold':\n",
    "    row[f'{tenure}_ha'] = ha\n",
    "  elif tenure == 'mixed':\n",
    "    row[f'{tenure}_tenure_ha'] = ha\n",
    "\n",
    "  return row"
   ]
  },
  {
   "cell_type": "markdown",
   "metadata": {
    "application/vnd.databricks.v1+cell": {
     "cellMetadata": {
      "byteLimit": 2048000,
      "rowLimit": 10000
     },
     "inputWidgets": {},
     "nuid": "778dd965-20f9-41ae-886c-5730b4224edd",
     "showTitle": false,
     "tableResultSettingsMap": {},
     "title": ""
    }
   },
   "source": [
    "#### Constants & High-Level Stats\n",
    "- Overall Extent\n",
    "- Difference between model representation of DGL and the vector input"
   ]
  },
  {
   "cell_type": "code",
   "execution_count": 0,
   "metadata": {
    "application/vnd.databricks.v1+cell": {
     "cellMetadata": {
      "byteLimit": 2048000,
      "rowLimit": 10000
     },
     "inputWidgets": {},
     "nuid": "36c22f58-a8a9-4fc1-b587-f9ec69f9bc26",
     "showTitle": false,
     "tableResultSettingsMap": {},
     "title": ""
    }
   },
   "outputs": [],
   "source": [
    "# Get row counts for each split of data (by tenure)\n",
    "leasehold_count = dgl_data_example.filter((dgl_data_example.dgl_fh.isNull()) & (dgl_data_example.dgl_lh == 1)).count()\n",
    "freehold_count = dgl_data_example.filter((dgl_data_example.dgl_fh == 1) & (dgl_data_example.dgl_lh.isNull())).count()\n",
    "both_count = dgl_data_example.filter((dgl_data_example.dgl_fh == 1) & (dgl_data_example.dgl_lh == 1)).count() \n",
    "total_count = dgl_data_example.filter((dgl_data_example.dgl_fh == 1) | (dgl_data_example.dgl_lh == 1)).count()"
   ]
  },
  {
   "cell_type": "markdown",
   "metadata": {
    "application/vnd.databricks.v1+cell": {
     "cellMetadata": {
      "byteLimit": 2048000,
      "rowLimit": 10000
     },
     "inputWidgets": {},
     "nuid": "390b9047-8c90-494f-aa8a-559416453a06",
     "showTitle": false,
     "tableResultSettingsMap": {},
     "title": ""
    }
   },
   "source": [
    "###Logic of Maths\n",
    "- Each '1' in a column represents overlap with the centroid of a 10x10m cell\n",
    "- The area of each cell is 100m2\n",
    "- To convert from m2 into ha, divide by 10,000\n",
    "- To calculate the total area of the count of columns, multiply by 100 (m2 area) and divide by 10,000 (ha area)\n",
    "- This distills down to dividing the number of cells by 100"
   ]
  },
  {
   "cell_type": "code",
   "execution_count": 0,
   "metadata": {
    "application/vnd.databricks.v1+cell": {
     "cellMetadata": {
      "byteLimit": 2048000,
      "rowLimit": 10000
     },
     "inputWidgets": {},
     "nuid": "f2361631-b27f-4b04-8b63-d9d7b3f5fd1f",
     "showTitle": false,
     "tableResultSettingsMap": {},
     "title": ""
    }
   },
   "outputs": [],
   "source": [
    "leasehold_ha = leasehold_count / 100\n",
    "freehold_ha = freehold_count / 100\n",
    "both_ha = both_count / 100\n",
    "total_ha = total_count / 100"
   ]
  },
  {
   "cell_type": "code",
   "execution_count": 0,
   "metadata": {
    "application/vnd.databricks.v1+cell": {
     "cellMetadata": {
      "byteLimit": 2048000,
      "rowLimit": 10000
     },
     "inputWidgets": {},
     "nuid": "c97b9ee5-eee3-4988-901c-85b42cfac57b",
     "showTitle": false,
     "tableResultSettingsMap": {},
     "title": ""
    }
   },
   "outputs": [],
   "source": [
    "# Print model area totals for whole of Defra land\n",
    "print(f\"Leasehold: {leasehold_ha} ha\")\n",
    "print(f\"Freehold: {freehold_ha} ha\")\n",
    "print(f\"Both holding types: {both_ha} ha\")\n",
    "print(f\"Total: {total_ha} ha\")"
   ]
  },
  {
   "cell_type": "code",
   "execution_count": 0,
   "metadata": {
    "application/vnd.databricks.v1+cell": {
     "cellMetadata": {
      "byteLimit": 2048000,
      "rowLimit": 10000
     },
     "inputWidgets": {},
     "nuid": "d73e88ef-033f-4cbd-a1f6-efca5e74ec97",
     "showTitle": false,
     "tableResultSettingsMap": {},
     "title": ""
    }
   },
   "outputs": [],
   "source": [
    "# Calculate the total area of the vector dataset\n",
    "phase1_area = dgl_phase1.agg(sum(\"area_ha\").alias(\"total_area\")).collect()[0][\"total_area\"]"
   ]
  },
  {
   "cell_type": "code",
   "execution_count": 0,
   "metadata": {
    "application/vnd.databricks.v1+cell": {
     "cellMetadata": {
      "byteLimit": 2048000,
      "rowLimit": 10000
     },
     "inputWidgets": {},
     "nuid": "6b294f82-8540-43d2-92fa-f3df5bb9fca6",
     "showTitle": false,
     "tableResultSettingsMap": {},
     "title": ""
    }
   },
   "outputs": [],
   "source": [
    "# Print model and vector area totals as comparison of accuracy of model outputs\n",
    "print(f\"Model Area: {total_ha} ha\")\n",
    "print(f\"Vector Area: {round(phase1_area,1)} ha\")\n",
    "print(f\"Difference: {round(phase1_area-total_ha,1)} ha more in the vector dataset\")\n",
    "print(f\"This equates to {round(((phase1_area-total_ha)/phase1_area)*100,2)}% of the vector dataset area\")"
   ]
  },
  {
   "cell_type": "markdown",
   "metadata": {
    "application/vnd.databricks.v1+cell": {
     "cellMetadata": {
      "byteLimit": 2048000,
      "rowLimit": 10000
     },
     "inputWidgets": {},
     "nuid": "0a7c8693-0bde-4270-a58b-3f8692ecd0c3",
     "showTitle": false,
     "tableResultSettingsMap": {},
     "title": ""
    }
   },
   "source": [
    "####Table 1: Habitat broken down by Leasehold/Freehold/Both"
   ]
  },
  {
   "cell_type": "code",
   "execution_count": 0,
   "metadata": {
    "application/vnd.databricks.v1+cell": {
     "cellMetadata": {
      "byteLimit": 2048000,
      "rowLimit": 10000
     },
     "inputWidgets": {},
     "nuid": "dd97d310-f5cf-4574-9da9-1061b9e80328",
     "showTitle": false,
     "tableResultSettingsMap": {},
     "title": ""
    }
   },
   "outputs": [],
   "source": [
    "results_tenure = []"
   ]
  },
  {
   "cell_type": "code",
   "execution_count": 0,
   "metadata": {
    "application/vnd.databricks.v1+cell": {
     "cellMetadata": {
      "byteLimit": 2048000,
      "rowLimit": 10000
     },
     "inputWidgets": {},
     "nuid": "fb07f088-4fdd-4322-a294-482c3283f3ce",
     "showTitle": false,
     "tableResultSettingsMap": {},
     "title": ""
    }
   },
   "outputs": [],
   "source": [
    "# Iterate habitat parquet files\n",
    "for habitat, indicators in habitats_cols.items():\n",
    "\n",
    "  print(habitat)\n",
    "\n",
    "  row = {\"habitat\": habitat} \n",
    "\n",
    "  data_in = sedona.read.format(\"parquet\").load(f\"{alt_table_dir}/10m_x_assets_combined_{habitat}.parquet\")\n",
    "\n",
    "  # Set indicator columns for checking \n",
    "  hab_condition = reduce(\n",
    "    lambda acc, col: acc | (data_in[col] == 1),\n",
    "    indicators,\n",
    "    lit(False))\n",
    "    \n",
    "  # Additional condiiton for upland bog (above moorland line)\n",
    "  if habitat == \"upland_bog\":\n",
    "    moorland_line_condition = col(\"moorland_line\") == 1\n",
    "    hab_condition = moorland_line_condition & hab_condition  \n",
    "\n",
    "  # Iterate freehold/leasehold/both\n",
    "  for tenure in ['dgl_fh','dgl_lh','mixed']:\n",
    "\n",
    "    if tenure == 'dgl_fh':\n",
    "      tenure_condition = ((data_in[tenure] == 1) & (data_in['dgl_lh'].isNull()))\n",
    "      row = calc_ha('freehold', data_in, row, hab_condition, tenure_condition)\n",
    "\n",
    "    elif tenure == 'dgl_lh':\n",
    "      tenure_condition = ((data_in[tenure] == 1) & (data_in['dgl_fh'].isNull()))\n",
    "      row = calc_ha('leasehold', data_in, row, hab_condition, tenure_condition)\n",
    "\n",
    "    elif tenure == 'mixed':\n",
    "      tenure_condition = ((data_in['dgl_fh'] == 1) & (data_in['dgl_lh'] == 1))\n",
    "      row = calc_ha('mixed', data_in, row, hab_condition, tenure_condition)\n",
    " \n",
    "  results_tenure.append(row)"
   ]
  },
  {
   "cell_type": "code",
   "execution_count": 0,
   "metadata": {
    "application/vnd.databricks.v1+cell": {
     "cellMetadata": {
      "byteLimit": 2048000,
      "rowLimit": 10000
     },
     "inputWidgets": {},
     "nuid": "c49675dc-7229-4b2c-9c28-d115bf9f1b57",
     "showTitle": false,
     "tableResultSettingsMap": {},
     "title": ""
    }
   },
   "outputs": [],
   "source": [
    "summary_tenure = pd.DataFrame(results_tenure)"
   ]
  },
  {
   "cell_type": "code",
   "execution_count": 0,
   "metadata": {
    "application/vnd.databricks.v1+cell": {
     "cellMetadata": {
      "byteLimit": 2048000,
      "rowLimit": 10000
     },
     "inputWidgets": {},
     "nuid": "8d791294-cfda-4364-b3c8-baf9df6406f5",
     "showTitle": false,
     "tableResultSettingsMap": {},
     "title": ""
    }
   },
   "outputs": [],
   "source": [
    "# Calc various % of model total DGL and tenure-specific extens\n",
    "summary_tenure['total_ha'] = summary_tenure['freehold_ha'] + summary_tenure['leasehold_ha'] + summary_tenure['mixed_tenure_ha'] # Includes overlap between tenures\n",
    "summary_tenure['fh_%_dgl_all'] = ((summary_tenure['freehold_ha']/ total_ha) *100).round(2)\n",
    "summary_tenure['fh_%_dgl_fh'] = ((summary_tenure['freehold_ha']/ freehold_ha) *100).round(2)\n",
    "summary_tenure['lh_%_dgl_all'] = ((summary_tenure['leasehold_ha']/ total_ha) *100).round(2)\n",
    "summary_tenure['lh_%_dgl_lh'] = ((summary_tenure['leasehold_ha']/ leasehold_ha) *100).round(2)\n",
    "summary_tenure['mix_%_dgl_all'] = ((summary_tenure['mixed_tenure_ha']/ total_ha) *100).round(2)\n",
    "summary_tenure['all_%_dgl_all'] = ((summary_tenure['total_ha']/ total_ha) *100).round(2)"
   ]
  },
  {
   "cell_type": "code",
   "execution_count": 0,
   "metadata": {
    "application/vnd.databricks.v1+cell": {
     "cellMetadata": {
      "byteLimit": 2048000,
      "rowLimit": 10000
     },
     "inputWidgets": {},
     "nuid": "a617b22a-45cb-4f8b-a18e-3351e8884e7b",
     "showTitle": false,
     "tableResultSettingsMap": {},
     "title": ""
    }
   },
   "outputs": [],
   "source": [
    "summary_tenure"
   ]
  },
  {
   "cell_type": "code",
   "execution_count": 0,
   "metadata": {
    "application/vnd.databricks.v1+cell": {
     "cellMetadata": {
      "byteLimit": 2048000,
      "rowLimit": 10000
     },
     "inputWidgets": {},
     "nuid": "ae66e736-ee3c-4a14-bad7-ff89d19e15b2",
     "showTitle": false,
     "tableResultSettingsMap": {},
     "title": ""
    }
   },
   "outputs": [],
   "source": [
    "# Calc % of DGL from 'total_ha' as a proxy for double counting\n",
    "excluded_habitats = [\"saltmarsh\", \"upland_bog\",\"dense_woodland\",\"sparse_woodland\"] # Excluded as double counted habitats\n",
    "summary_subsets_rm = summary_tenure[~summary_tenure['habitat'].isin(excluded_habitats)]\n",
    "tabulated_perc = summary_subsets_rm['all_%_dgl_all'].sum().round(2)\n",
    "tabulated_ha = summary_subsets_rm['total_ha'].sum().round(2)\n",
    "print(f'% of DGL covered by habitat extents: {tabulated_perc}')\n",
    "print(f'This means {(tabulated_ha-total_ha).round(2)} ha of land with overlap across multiple habitats')"
   ]
  },
  {
   "cell_type": "code",
   "execution_count": 0,
   "metadata": {
    "application/vnd.databricks.v1+cell": {
     "cellMetadata": {
      "byteLimit": 2048000,
      "rowLimit": 10000
     },
     "inputWidgets": {},
     "nuid": "890f58e8-c34b-467a-b905-4a5b2150cc02",
     "showTitle": false,
     "tableResultSettingsMap": {},
     "title": ""
    }
   },
   "outputs": [],
   "source": [
    "summary_tenure.to_csv(f'{stats_out_dir}/dgl_summary_tenure.csv')"
   ]
  },
  {
   "cell_type": "code",
   "execution_count": 0,
   "metadata": {
    "application/vnd.databricks.v1+cell": {
     "cellMetadata": {
      "byteLimit": 2048000,
      "rowLimit": 10000
     },
     "inputWidgets": {},
     "nuid": "80a00bd3-b935-4cd1-acb8-603e4cfdc116",
     "showTitle": false,
     "tableResultSettingsMap": {},
     "title": ""
    }
   },
   "outputs": [],
   "source": [
    "displayHTML(download_file(f'{stats_out_dir}/dgl_summary_tenure.csv', move=False))"
   ]
  },
  {
   "cell_type": "markdown",
   "metadata": {
    "application/vnd.databricks.v1+cell": {
     "cellMetadata": {
      "byteLimit": 2048000,
      "rowLimit": 10000
     },
     "inputWidgets": {},
     "nuid": "77e9a5e7-a510-4617-9328-e0bc3d4911fc",
     "showTitle": false,
     "tableResultSettingsMap": {},
     "title": ""
    }
   },
   "source": [
    "####Table 2: Habitat broken down by Leasehold/Freehold & Owner Organisation"
   ]
  },
  {
   "cell_type": "code",
   "execution_count": 0,
   "metadata": {
    "application/vnd.databricks.v1+cell": {
     "cellMetadata": {
      "byteLimit": 2048000,
      "rowLimit": 10000
     },
     "inputWidgets": {},
     "nuid": "74bd1044-2d14-40ab-82d2-79ff5d937c3b",
     "showTitle": false,
     "tableResultSettingsMap": {},
     "title": ""
    }
   },
   "outputs": [],
   "source": [
    "# Extract unique organisations from ownership data\n",
    "unique_orgs = dgl_ownership.select(\"organisation\").dropDuplicates()\n",
    "unique_orgs = unique_orgs.rdd.flatMap(lambda x: x).collect()\n",
    "unique_orgs"
   ]
  },
  {
   "cell_type": "code",
   "execution_count": 0,
   "metadata": {
    "application/vnd.databricks.v1+cell": {
     "cellMetadata": {
      "byteLimit": 2048000,
      "rowLimit": 10000
     },
     "inputWidgets": {},
     "nuid": "bc565e5d-4d79-4395-9f5a-a2cff1bddd35",
     "showTitle": false,
     "tableResultSettingsMap": {},
     "title": ""
    }
   },
   "outputs": [],
   "source": [
    "results_org = []"
   ]
  },
  {
   "cell_type": "code",
   "execution_count": 0,
   "metadata": {
    "application/vnd.databricks.v1+cell": {
     "cellMetadata": {
      "byteLimit": 2048000,
      "rowLimit": 10000
     },
     "inputWidgets": {},
     "nuid": "8d08b71d-b9ed-4e68-b0e0-39e03d9011db",
     "showTitle": false,
     "tableResultSettingsMap": {},
     "title": ""
    }
   },
   "outputs": [],
   "source": [
    "# Iterate habitat parquet files\n",
    "for habitat, indicators in habitats_cols.items():\n",
    "\n",
    "  print(habitat)\n",
    "\n",
    "  data_in = sedona.read.format(\"parquet\").load(f\"{alt_table_dir}/10m_x_assets_combined_{habitat}.parquet\")\n",
    "\n",
    "  data_org = data_in.join(dgl_ownership, on=\"id\", how=\"left\")\n",
    "\n",
    "  # Set indicator columns for checking \n",
    "  hab_condition = reduce(\n",
    "    lambda acc, col: acc | (data_in[col] == 1),\n",
    "    indicators,\n",
    "    lit(False))\n",
    "    \n",
    "  # Additional condiiton for upland bog (above moorland line)\n",
    "  if habitat == \"upland_bog\":\n",
    "    moorland_line_condition = col(\"moorland_line\") == 1\n",
    "    hab_condition = moorland_line_condition & hab_condition  \n",
    "\n",
    "  for org in unique_orgs:\n",
    "    \n",
    "    row = {\"habitat\": habitat} \n",
    "    row[\"organisation\"] = org\n",
    "\n",
    "    org_condition = (data_org['organisation'] == org)\n",
    "\n",
    "    # Iterate freehold/leasehold/both\n",
    "    for tenure in ['dgl_fh','dgl_lh','mixed']:\n",
    "\n",
    "      if tenure == 'dgl_fh':\n",
    "        tenure_condition = ((data_in[tenure] == 1) & (data_in['dgl_lh'].isNull()))\n",
    "        row = calc_ha('freehold', data_org, row, hab_condition, tenure_condition, org_condition)\n",
    "\n",
    "      elif tenure == 'dgl_lh':\n",
    "        tenure_condition = ((data_in[tenure] == 1) & (data_in['dgl_fh'].isNull()))\n",
    "        row = calc_ha('leasehold', data_org, row, hab_condition, tenure_condition, org_condition)\n",
    "\n",
    "      elif tenure == 'mixed':\n",
    "        tenure_condition = ((data_in['dgl_fh'] == 1) & (data_in['dgl_lh'] == 1))\n",
    "        row = calc_ha('mixed', data_org, row, hab_condition, tenure_condition, org_condition)\n",
    " \n",
    "    results_org.append(row)"
   ]
  },
  {
   "cell_type": "code",
   "execution_count": 0,
   "metadata": {
    "application/vnd.databricks.v1+cell": {
     "cellMetadata": {
      "byteLimit": 2048000,
      "rowLimit": 10000
     },
     "inputWidgets": {},
     "nuid": "4d1ec67b-4991-4ea0-8435-2709f3be1d7a",
     "showTitle": false,
     "tableResultSettingsMap": {},
     "title": ""
    }
   },
   "outputs": [],
   "source": [
    "summary_org = pd.DataFrame(results_org)\n",
    "\n",
    "# Remove any habitat-organisation pairs that have no land in any of the columns\n",
    "summary_org = summary_org[~((summary_org['freehold_ha'] == 0) & (summary_org['leasehold_ha'] == 0) & (summary_org['mixed_tenure_ha'] == 0))]\n",
    "\n",
    "summary_org"
   ]
  },
  {
   "cell_type": "code",
   "execution_count": 0,
   "metadata": {
    "application/vnd.databricks.v1+cell": {
     "cellMetadata": {
      "byteLimit": 2048000,
      "rowLimit": 10000
     },
     "inputWidgets": {},
     "nuid": "fefb8517-34eb-42c2-855a-fe43c0d47381",
     "showTitle": false,
     "tableResultSettingsMap": {},
     "title": ""
    }
   },
   "outputs": [],
   "source": [
    "summary_org.to_csv(f'{stats_out_dir}/dgl_summary_organisation.csv')"
   ]
  },
  {
   "cell_type": "code",
   "execution_count": 0,
   "metadata": {
    "application/vnd.databricks.v1+cell": {
     "cellMetadata": {
      "byteLimit": 2048000,
      "rowLimit": 10000
     },
     "inputWidgets": {},
     "nuid": "d60ac041-da92-45ff-ba76-653d306485bd",
     "showTitle": false,
     "tableResultSettingsMap": {},
     "title": ""
    }
   },
   "outputs": [],
   "source": [
    "displayHTML(download_file(f'{stats_out_dir}/dgl_summary_organisation.csv', move=False))"
   ]
  }
 ],
 "metadata": {
  "application/vnd.databricks.v1+notebook": {
   "computePreferences": null,
   "dashboards": [],
   "environmentMetadata": {
    "base_environment": "",
    "environment_version": "2"
   },
   "language": "python",
   "notebookMetadata": {
    "pythonIndentUnit": 2
   },
   "notebookName": "phase_2_summary_stats",
   "widgets": {}
  },
  "language_info": {
   "name": "python"
  }
 },
 "nbformat": 4,
 "nbformat_minor": 0
}
