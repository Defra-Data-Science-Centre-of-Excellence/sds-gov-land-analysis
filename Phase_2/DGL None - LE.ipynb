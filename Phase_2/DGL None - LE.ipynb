{
 "cells": [
  {
   "cell_type": "code",
   "execution_count": 0,
   "metadata": {
    "application/vnd.databricks.v1+cell": {
     "cellMetadata": {
      "byteLimit": 2048000,
      "rowLimit": 10000
     },
     "inputWidgets": {},
     "nuid": "c64c0164-37e9-47ab-9bab-0bf5169e6e01",
     "showTitle": false,
     "tableResultSettingsMap": {},
     "title": ""
    }
   },
   "outputs": [],
   "source": [
    "import geopandas as gpd"
   ]
  },
  {
   "cell_type": "code",
   "execution_count": 0,
   "metadata": {
    "application/vnd.databricks.v1+cell": {
     "cellMetadata": {
      "byteLimit": 2048000,
      "rowLimit": 10000
     },
     "inputWidgets": {},
     "nuid": "7ce76006-c9d5-416c-ad2e-d93c696a4448",
     "showTitle": false,
     "tableResultSettingsMap": {},
     "title": ""
    }
   },
   "outputs": [],
   "source": [
    "none_in = gpd.read_file('/dbfs/FileStore/milesclement/dgl_none/dgl_none.shp')"
   ]
  },
  {
   "cell_type": "code",
   "execution_count": 0,
   "metadata": {
    "application/vnd.databricks.v1+cell": {
     "cellMetadata": {
      "byteLimit": 2048000,
      "rowLimit": 10000
     },
     "inputWidgets": {},
     "nuid": "f1a80aeb-f62a-492e-a6a8-c07a6cb01a0b",
     "showTitle": false,
     "tableResultSettingsMap": {},
     "title": ""
    }
   },
   "outputs": [],
   "source": [
    "none_in.to_parquet('/dbfs/FileStore/milesclement/dgl_none/dgl_none.parquet')"
   ]
  },
  {
   "cell_type": "code",
   "execution_count": 0,
   "metadata": {
    "application/vnd.databricks.v1+cell": {
     "cellMetadata": {
      "byteLimit": 2048000,
      "rowLimit": 10000
     },
     "inputWidgets": {},
     "nuid": "4195dbeb-cc36-4950-9a8c-6f476992532c",
     "showTitle": false,
     "tableResultSettingsMap": {},
     "title": ""
    }
   },
   "outputs": [],
   "source": [
    "from sedona.spark import *\n",
    "\n",
    "sedona = SedonaContext.create(spark)\n",
    "sqlContext.clearCache()\n",
    "\n",
    "username = dbutils.notebook.entry_point.getDbutils().notebook().getContext().userName().get()"
   ]
  },
  {
   "cell_type": "code",
   "execution_count": 0,
   "metadata": {
    "application/vnd.databricks.v1+cell": {
     "cellMetadata": {
      "byteLimit": 2048000,
      "rowLimit": 10000
     },
     "inputWidgets": {},
     "nuid": "57864cc3-0b88-45b0-b0a7-5baa728765c4",
     "showTitle": false,
     "tableResultSettingsMap": {},
     "title": ""
    }
   },
   "outputs": [],
   "source": [
    "focal_path = \"dbfs:/mnt/lab-res-a1001005/esd_project/miles.clement@defra.gov.uk/LE/LE2223.parquet\"\n",
    "focal_layer = sedona.read.format(\"geoparquet\").load(focal_path)"
   ]
  },
  {
   "cell_type": "code",
   "execution_count": 0,
   "metadata": {
    "application/vnd.databricks.v1+cell": {
     "cellMetadata": {
      "byteLimit": 2048000,
      "rowLimit": 10000
     },
     "inputWidgets": {},
     "nuid": "e78235be-e814-4ef3-9846-4525631bcc8a",
     "showTitle": false,
     "tableResultSettingsMap": {},
     "title": ""
    }
   },
   "outputs": [],
   "source": [
    "none_layer = sedona.read.format(\"geoparquet\").load(\"dbfs:/FileStore/milesclement/dgl_none/dgl_none.parquet\")"
   ]
  },
  {
   "cell_type": "code",
   "execution_count": 0,
   "metadata": {
    "application/vnd.databricks.v1+cell": {
     "cellMetadata": {
      "byteLimit": 2048000,
      "rowLimit": 10000
     },
     "inputWidgets": {},
     "nuid": "7de8dfe3-e79a-4d57-8b6f-1665addd5b70",
     "showTitle": false,
     "tableResultSettingsMap": {},
     "title": ""
    }
   },
   "outputs": [],
   "source": [
    "# Register as Temp Views\n",
    "focal_layer.createOrReplaceTempView(\"focal_layer\")\n",
    "none_layer.createOrReplaceTempView(\"none_layer\")\n",
    "\n",
    "# SQL to Clip\n",
    "clipped_layer = spark.sql(\"\"\"\n",
    "    SELECT f.*\n",
    "    FROM focal_layer f, none_layer n\n",
    "    WHERE ST_Intersects(f.geometry, n.geometry)\n",
    "\"\"\")\n",
    "clipped_layer.show()\n"
   ]
  },
  {
   "cell_type": "code",
   "execution_count": 0,
   "metadata": {
    "application/vnd.databricks.v1+cell": {
     "cellMetadata": {
      "byteLimit": 2048000,
      "rowLimit": 10000
     },
     "inputWidgets": {},
     "nuid": "f60f345b-f1a2-4fed-9376-f1d70e1a38bd",
     "showTitle": false,
     "tableResultSettingsMap": {},
     "title": ""
    }
   },
   "outputs": [],
   "source": [
    "unique_values = clipped_layer.select(\"Prmry_H\").distinct()\n",
    "unique_values.show()"
   ]
  },
  {
   "cell_type": "code",
   "execution_count": 0,
   "metadata": {
    "application/vnd.databricks.v1+cell": {
     "cellMetadata": {
      "byteLimit": 2048000,
      "rowLimit": 10000
     },
     "inputWidgets": {},
     "nuid": "4b332a8d-1509-4154-85cd-e2b3c8ba7287",
     "showTitle": false,
     "tableResultSettingsMap": {},
     "title": ""
    }
   },
   "outputs": [],
   "source": [
    "from pyspark.sql.functions import col, sum\n",
    "\n",
    "# Add a new column for area in hectares\n",
    "clipped_with_area = clipped_layer.withColumn(\n",
    "    \"area_ha\",\n",
    "    col(\"ST_Area(geometry)\") / 10000  # Convert square meters to hectares\n",
    ")\n",
    "\n",
    "# Summarize the total area by unique values in ColA\n",
    "summary = clipped_with_area.groupBy(\"Prmry_H\").agg(\n",
    "    sum(\"area_ha\").alias(\"total_area_ha\")\n",
    ")\n",
    "\n",
    "summary.show()"
   ]
  }
 ],
 "metadata": {
  "application/vnd.databricks.v1+notebook": {
   "computePreferences": null,
   "dashboards": [],
   "environmentMetadata": {
    "base_environment": "",
    "environment_version": "2"
   },
   "language": "python",
   "notebookMetadata": {
    "pythonIndentUnit": 2
   },
   "notebookName": "DGL None - LE",
   "widgets": {}
  },
  "language_info": {
   "name": "python"
  }
 },
 "nbformat": 4,
 "nbformat_minor": 0
}
