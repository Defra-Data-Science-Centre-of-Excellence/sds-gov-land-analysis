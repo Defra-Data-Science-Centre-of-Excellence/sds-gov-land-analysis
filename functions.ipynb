{
 "cells": [
  {
   "cell_type": "code",
   "execution_count": 0,
   "metadata": {
    "application/vnd.databricks.v1+cell": {
     "cellMetadata": {},
     "inputWidgets": {},
     "nuid": "ab91d4db-3da7-41cf-87f0-45dd1a401e37",
     "showTitle": false,
     "tableResultSettingsMap": {},
     "title": ""
    }
   },
   "outputs": [],
   "source": [
    "def get_fuzzy_match_min_score(string_to_search: str, match_options: list):\n",
    "  '''\n",
    "  Finds the best match and best match score for all match options in the search string,\n",
    "  then returns the lowest best match score of all of these.\n",
    "\n",
    "  Parameters:\n",
    "    string_to_search (str): string to search and identify best matches from\n",
    "    match_options (list): list of match options which need to be identified in the string_to_search\n",
    "\n",
    "  Returns:\n",
    "    minimum score of all the best match scores\n",
    "  '''\n",
    "  best_match_scores = list()\n",
    "  for match_option in match_options:\n",
    "    best_match = process.extractOne(match_option,string_to_search.split(' '), scorer=fuzz.ratio)\n",
    "    best_match_scores.append(best_match[1])\n",
    "  return(min(best_match_scores))"
   ]
  },
  {
   "cell_type": "code",
   "execution_count": 0,
   "metadata": {
    "application/vnd.databricks.v1+cell": {
     "cellMetadata": {},
     "inputWidgets": {},
     "nuid": "258fc339-4692-4658-9260-45515368a678",
     "showTitle": false,
     "tableResultSettingsMap": {},
     "title": ""
    }
   },
   "outputs": [],
   "source": [
    "# Functions to remove found names from translation dict\n",
    "\n",
    "def remove_found_name(current_organisation_name, organisation_instance_name, found_name_for_removal, alb_found_names_translation_dict):\n",
    "    '''\n",
    "    Remove specific found name for organsation/organisation instance\n",
    "    Parameters:\n",
    "        current_organisation (str): current name of the organisation the found name to remove is associated with\n",
    "        organisation_instance_name (str): instance (current or historic) name of the organisation the found name to remove is associated with\n",
    "        found_name_for_removal (str): found name to remove from translation dict # Could be useful to let this accept a list, which would remove the need for 'for loops' in the following cells\n",
    "        alb_found_names_translation_dict: alb found proprietor name - organisation translation dict\n",
    "    '''\n",
    "    try:\n",
    "        alb_found_names_translation_dict[current_organisation_name][organisation_instance_name].remove(found_name_for_removal)\n",
    "        print(f'{found_name_for_removal} removed from current org: {current_organisation_name}, organisation instance: {organisation_instance_name}')\n",
    "        print(f'This leaves the remaining found names: {alb_found_names_translation_dict[current_organisation_name][organisation_instance_name]}')\n",
    "    except:\n",
    "        print(f'WARNING: {found_name_for_removal} not found in current org: {current_organisation_name}, organisation instance: {organisation_instance_name}')\n",
    "\n",
    "# Functions to remove all found names for single organisation from translation dict, created for easier manual qa implementation (use if on inspection all names for one organisation are incorrect. Otherwise use above function instead)\n",
    "def remove_all_found_names(current_organisation_name, alb_found_names_translation_dict):\n",
    "    '''\n",
    "    Remove all found names for an organisation\n",
    "        Parameters:\n",
    "        current_organisation (str): current name of the organisation to remove all found names for\n",
    "        alb_found_names_translation_dict: alb found proprietor name - organisation translation dict\n",
    "    '''\n",
    "    for organisation_instance_name in alb_found_names_translation_dict[current_organisation_name].keys():\n",
    "        alb_found_names_translation_dict[current_organisation_name][organisation_instance_name] = []"
   ]
  }
 ],
 "metadata": {
  "application/vnd.databricks.v1+notebook": {
   "computePreferences": null,
   "dashboards": [],
   "environmentMetadata": {
    "base_environment": "",
    "environment_version": "2"
   },
   "inputWidgetPreferences": null,
   "language": "python",
   "notebookMetadata": {
    "pythonIndentUnit": 4
   },
   "notebookName": "functions",
   "widgets": {}
  },
  "language_info": {
   "name": "python"
  }
 },
 "nbformat": 4,
 "nbformat_minor": 0
}
